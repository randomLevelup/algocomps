{
 "cells": [
  {
   "cell_type": "code",
   "execution_count": 1,
   "metadata": {},
   "outputs": [],
   "source": [
    "from music21 import *\n",
    "from comp2 import *"
   ]
  },
  {
   "cell_type": "code",
   "execution_count": 2,
   "metadata": {},
   "outputs": [
    {
     "name": "stdout",
     "output_type": "stream",
     "text": [
      "Original melody:\n"
     ]
    },
    {
     "data": {
      "text/html": [
       "\n",
       "        <div id=\"midiPlayerDiv1858\"></div>\n",
       "        <link rel=\"stylesheet\" href=\"https://cuthbertLab.github.io/music21j/css/m21.css\">\n",
       "        \n",
       "        <script\n",
       "        src=\"https://cdnjs.cloudflare.com/ajax/libs/require.js/2.3.6/require.min.js\"\n",
       "        ></script>\n",
       "    \n",
       "        <script>\n",
       "        function midiPlayerDiv1858_play() {\n",
       "            const rq = require.config({\n",
       "                paths: {\n",
       "                    'music21': 'https://cuthbertLab.github.io/music21j/releases/music21.debug',\n",
       "                }\n",
       "            });\n",
       "            rq(['music21'], function(music21) {\n",
       "                mp = new music21.miditools.MidiPlayer();\n",
       "                mp.addPlayer(\"#midiPlayerDiv1858\");\n",
       "                mp.base64Load(\"data:audio/midi;base64,TVRoZAAAAAYAAQACJ2BNVHJrAAAAFAD/UQMHoSAA/1gEBAIYCM5g/y8ATVRyawAABJAA/wMAAOAAQIGdQJBDdqcwgEMAAJBGa5NYgEYAAJBDebsIgEMA9hCQQW2nMIBBAACQP2KnMIA/AACQQ2SnMIBDAACQQW67CIBBAJNYkD9upzCAPwCBnUCQQXCTWIBBAACQQWenMIBBAACQQXu7CIBBAKcwkEFxpzCAQQAAkEN8pzCAQwAAkEFvuwiAQQCTWJA/bs5ggD8AgewgkEN9pzCAQwAAkEZtk1iARgAAkEhupzCASACTWJBDYacwgEMAAJBBfKcwgEEAAJA/bKcwgD8AAJBDZqcwgEMAk1iQQXGnMIBBAJNYkEFvpzCAQQAAkD9ypzCAPwCnMJA8facwgDwAAJA/a5NYgD8AAJBBZbsIgEEApzCQQWanMIBBAACQP2KnMIA/AACQQW67CIBBAJNYkEFupzCAQQAAkD9xk1iAPwAAkENz4jiAQwCCk1CQQ2+nMIBDAACQQ3OnMIBDAACQRnmTWIBGAACQQ23iOIBDAKcwkD9qpzCAPwAAkEFlpzCAQQAAkD9upzCAPwAAkEN3pzCAQwAAkEFwuwiAQQCTWJA/cKcwgD8A9hCQQWOnMIBBAACQQXqnMIBBAACQQWWnMIBBAACQQXinMIBBAACQP22nMIA/AACQQ2SnMIBDAACQQWy7CIBBAJNYkD9vzmCAPwCB7CCQQ2enMIBDAACQQ1+nMIBDAACQRmiTWIBGAACQSHm7CIBIAKcwkEFupzCAQQAAkD9vpzCAPwAAkENwpzCAQwCTWJBBYqcwgEEAk1iQQW+nMIBBAACQP3enMIA/AKcwkDxxk1iAPAAAkD9upzCAPwCTWJBBaLsIgEEAk1iQQW6nMIBBAACQP2ynMIA/AACQQW6nMIBBAKcwkEFupzCAQQAAkD96k1iAPwAAkENrgbEYgEMApzCQQWqnMIBBAJNYkENtuwiAQwCnMJBEZacwgEQAAJBEZqcwgEQAAJBEbpNYgEQAAJBEYKcwgEQAk1iQQ2qnMIBDAACQQXWnMIBBAACQP2+nMIA/AACQP2+nMIA/AACQQWWnMIBBAACQQ3inMIBDAACQQXSnMIBBAKcwkEF1pzCAQQCTWJBDe6cwgEMAk1iQRGynMIBEAKcwkERtpzCARAAAkER2pzCARAAAkERppzCARAAAkENupzCAQwAAkEF5k1iAQQAAkD98pzCAPwCTWJBDaKcwgEMAAJBBec5ggEEApzCQQXDOYIBBAJNYkENkpzCAQwCTWJBEY7sIgEQAk1iQRHGnMIBEAACQRG+TWIBEAACQRF+nMIBEAJNYkENupzCAQwAAkEFxpzCAQQAAkD9tpzCAPwAAkD94pzCAPwAAkEFwpzCAQQAAkENupzCAQwAAkEFupzCAQQCnMJBBbacwgEEAk1iQQ22nMIBDAJNYkERupzCARACTWJBDcacwgEMAk1iQRG6nMIBEAACQRmqnMIBGAJNYkERkpzCARACTWJBIe6cwgEgAAJBIX4GdQIBIAM5gkEFupzCAQQAAkD9uk1iAPwAAkEFupzCAQQCTWJA/eacwgD8AAJA/fIGdQIA/AM5g/y8A\");\n",
       "            });\n",
       "        }\n",
       "        if (typeof require === 'undefined') {\n",
       "            setTimeout(midiPlayerDiv1858_play, 2000);\n",
       "        } else {\n",
       "            midiPlayerDiv1858_play();\n",
       "        }\n",
       "        </script>"
      ],
      "text/plain": [
       "<IPython.core.display.HTML object>"
      ]
     },
     "metadata": {},
     "output_type": "display_data"
    }
   ],
   "source": [
    "melody_in: stream.Stream = parse_midi(\"example_inputs/eyeofthetiger.mid\")\n",
    "\n",
    "print(\"Original melody:\")\n",
    "melody_in.show('midi');"
   ]
  },
  {
   "cell_type": "code",
   "execution_count": 3,
   "metadata": {},
   "outputs": [
    {
     "name": "stdout",
     "output_type": "stream",
     "text": [
      "Simple triads:\n",
      "['iii', 'ii5#2', 'ii5#2', 'ii5#2', 'iii', 'iii', 'ii5#2', 'iii', 'iii', 'ii5#2', 'ii5#2', 'ii5#2', 'iii', 'iii', 'ii5#2', 'iii', 'vi+64', 'I', 'vi+64', 'iii', 'vi+64', 'I', 'vi+64', 'vi', 'ii5#2']\n"
     ]
    }
   ],
   "source": [
    "print(\"Simple triads:\")\n",
    "simple_triads = get_triads(melody_in)"
   ]
  },
  {
   "cell_type": "code",
   "execution_count": 4,
   "metadata": {},
   "outputs": [
    {
     "data": {
      "text/html": [
       "\n",
       "        <div id=\"midiPlayerDiv4939\"></div>\n",
       "        <link rel=\"stylesheet\" href=\"https://cuthbertLab.github.io/music21j/css/m21.css\">\n",
       "        \n",
       "        <script\n",
       "        src=\"https://cdnjs.cloudflare.com/ajax/libs/require.js/2.3.6/require.min.js\"\n",
       "        ></script>\n",
       "    \n",
       "        <script>\n",
       "        function midiPlayerDiv4939_play() {\n",
       "            const rq = require.config({\n",
       "                paths: {\n",
       "                    'music21': 'https://cuthbertLab.github.io/music21j/releases/music21.debug',\n",
       "                }\n",
       "            });\n",
       "            rq(['music21'], function(music21) {\n",
       "                mp = new music21.miditools.MidiPlayer();\n",
       "                mp.addPlayer(\"#midiPlayerDiv4939\");\n",
       "                mp.base64Load(\"data:audio/midi;base64,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\");\n",
       "            });\n",
       "        }\n",
       "        if (typeof require === 'undefined') {\n",
       "            setTimeout(midiPlayerDiv4939_play, 2000);\n",
       "        } else {\n",
       "            midiPlayerDiv4939_play();\n",
       "        }\n",
       "        </script>"
      ],
      "text/plain": [
       "<IPython.core.display.HTML object>"
      ]
     },
     "metadata": {},
     "output_type": "display_data"
    }
   ],
   "source": [
    "out_score = stream.Score()\n",
    "out_score.insert(0, melody_in)\n",
    "out_score.insert(0, simple_triads)\n",
    "\n",
    "out_score.show('midi')"
   ]
  },
  {
   "cell_type": "code",
   "execution_count": 5,
   "metadata": {},
   "outputs": [
    {
     "name": "stdout",
     "output_type": "stream",
     "text": [
      "Total number of states: 2744\n",
      "\n",
      "new chords:\n",
      "['iii2', 'ii76', 'ii2', 'ii2', 'iii2', 'iii2', 'vi2', 'iii', 'iii', 'ii2', 'iisus4', 'ii7', 'iii7', 'iiisus4', 'ii76', 'iii2', 'vi2', 'ii2', 'vi7', 'ii2', 'vi2', 'ii76', 'vi2', 'vi7', 'ii7']\n",
      "\n",
      "new chords:\n",
      "['iii2', 'vi', 'vi76', 'vi76', 'iii2', 'iii', 'vi2', 'II2', 'vi2', 'vi2', 'ii2', 'IIsus4', 'iii2', 'vi76', 'ii7', 'iii', 'vi7', 'VI7', 'ii2', 'vi76', 'vi', 'vii', 'vi2', 'vi2', 'vi2']\n",
      "\n",
      "new chords:\n",
      "['iii2', 'vi6', 'VI2', 'vi2', 'iii2', 'iii2', 'vi2', 'V7', 'V2', 'vii6', 'vi2', 'v2', 'iiisus4', 'vi7', 'ii76', 'iii2', 'i', 'VII7', 'vi7', 'ii2', 'vi2', 'vii2', 'vi2', 'vi2', 'vi2']\n",
      "\n",
      "new chords:\n",
      "['iii2', 'vi2', 'ii7', 'vi7', 'iii2', 'iii', 'vi', 'ii2', 'iii', 'vii7', 'vi2', 'iiisus4', 'vi2', 'ii6', 'vii7', 'iiisus4', 'vi2', 'VII', 'vi', 'vi76', 'vi2', 'vii7', 'vi2', 'ii2', 'vi2']\n",
      "\n",
      "new chords:\n",
      "['iii2', 'vi2', 'i7', 'vi7', 'ii7', 'iii', 'vi', 'III7', 'iii', 'viisus4', 'vi', 'vi7', 'vi', 'ii7', 'v2', 'vi76', 'vi', 'VII2', 'ii2', 'vi2', 'Isus4', 'V2', 'vi2', 'V2', 'vi2']\n",
      "\n",
      "new chords:\n",
      "['iiisus4', 'vi7', 'ii', 'i', 'vi2', 'iii7', 'vi7', 'ii2', 'iii7', 'iii2', 'vi2', 'ii2', 'vi7', 'vi7', 'iii7', 'v7', 'ii6', 'VII2', 'vi7', 'vi2', 'i2', 'iii7', 'vi', 'ii2', 'vi7']\n"
     ]
    },
    {
     "data": {
      "text/html": [
       "\n",
       "        <div id=\"midiPlayerDiv6489\"></div>\n",
       "        <link rel=\"stylesheet\" href=\"https://cuthbertLab.github.io/music21j/css/m21.css\">\n",
       "        \n",
       "        <script\n",
       "        src=\"https://cdnjs.cloudflare.com/ajax/libs/require.js/2.3.6/require.min.js\"\n",
       "        ></script>\n",
       "    \n",
       "        <script>\n",
       "        function midiPlayerDiv6489_play() {\n",
       "            const rq = require.config({\n",
       "                paths: {\n",
       "                    'music21': 'https://cuthbertLab.github.io/music21j/releases/music21.debug',\n",
       "                }\n",
       "            });\n",
       "            rq(['music21'], function(music21) {\n",
       "                mp = new music21.miditools.MidiPlayer();\n",
       "                mp.addPlayer(\"#midiPlayerDiv6489\");\n",
       "                mp.base64Load(\"data:audio/midi;base64,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\");\n",
       "            });\n",
       "        }\n",
       "        if (typeof require === 'undefined') {\n",
       "            setTimeout(midiPlayerDiv6489_play, 2000);\n",
       "        } else {\n",
       "            midiPlayerDiv6489_play();\n",
       "        }\n",
       "        </script>"
      ],
      "text/plain": [
       "<IPython.core.display.HTML object>"
      ]
     },
     "metadata": {},
     "output_type": "display_data"
    }
   ],
   "source": [
    "markov_table = generate_markov_table()\n",
    "substituted_chords = substitute_chords(simple_triads, markov_table)\n",
    "for i in range(5):\n",
    "    substituted_chords = substitute_chords(substituted_chords, markov_table)\n",
    "\n",
    "out_score = stream.Score()\n",
    "out_score.insert(0, melody_in)\n",
    "out_score.insert(0, substituted_chords)\n",
    "\n",
    "out_score.show('midi')"
   ]
  }
 ],
 "metadata": {
  "kernelspec": {
   "display_name": "algocomp-env",
   "language": "python",
   "name": "python3"
  },
  "language_info": {
   "codemirror_mode": {
    "name": "ipython",
    "version": 3
   },
   "file_extension": ".py",
   "mimetype": "text/x-python",
   "name": "python",
   "nbconvert_exporter": "python",
   "pygments_lexer": "ipython3",
   "version": "3.12.9"
  }
 },
 "nbformat": 4,
 "nbformat_minor": 2
}

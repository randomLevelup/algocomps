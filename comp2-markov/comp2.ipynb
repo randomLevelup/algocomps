{
 "cells": [
  {
   "cell_type": "code",
   "execution_count": 1,
   "metadata": {},
   "outputs": [],
   "source": [
    "from music21 import *\n",
    "from comp2 import *"
   ]
  },
  {
   "cell_type": "code",
   "execution_count": 2,
   "metadata": {},
   "outputs": [
    {
     "name": "stdout",
     "output_type": "stream",
     "text": [
      "Original melody:\n"
     ]
    },
    {
     "data": {
      "text/html": [
       "\n",
       "        <div id=\"midiPlayerDiv2222\"></div>\n",
       "        <link rel=\"stylesheet\" href=\"https://cuthbertLab.github.io/music21j/css/m21.css\">\n",
       "        \n",
       "        <script\n",
       "        src=\"https://cdnjs.cloudflare.com/ajax/libs/require.js/2.3.6/require.min.js\"\n",
       "        ></script>\n",
       "    \n",
       "        <script>\n",
       "        function midiPlayerDiv2222_play() {\n",
       "            const rq = require.config({\n",
       "                paths: {\n",
       "                    'music21': 'https://cuthbertLab.github.io/music21j/releases/music21.debug',\n",
       "                }\n",
       "            });\n",
       "            rq(['music21'], function(music21) {\n",
       "                mp = new music21.miditools.MidiPlayer();\n",
       "                mp.addPlayer(\"#midiPlayerDiv2222\");\n",
       "                mp.base64Load(\"data:audio/midi;base64,TVRoZAAAAAYAAQACJ2BNVHJrAAAAFAD/UQMHoSAA/1gEBAIYCM5g/y8ATVRyawAABJAA/wMAAOAAQIGdQJBHdqcwgEcAAJBKa5NYgEoAAJBHebsIgEcA9hCQRW2nMIBFAACQQ2KnMIBDAACQR2SnMIBHAACQRW67CIBFAJNYkENupzCAQwCBnUCQRXCTWIBFAACQRWenMIBFAACQRXu7CIBFAKcwkEVxpzCARQAAkEd8pzCARwAAkEVvuwiARQCTWJBDbs5ggEMAgewgkEd9pzCARwAAkEptk1iASgAAkExupzCATACTWJBHYacwgEcAAJBFfKcwgEUAAJBDbKcwgEMAAJBHZqcwgEcAk1iQRXGnMIBFAJNYkEVvpzCARQAAkENypzCAQwCnMJBAfacwgEAAAJBDa5NYgEMAAJBFZbsIgEUApzCQRWanMIBFAACQQ2KnMIBDAACQRW67CIBFAJNYkEVupzCARQAAkENxk1iAQwAAkEdz4jiARwCCk1CQR2+nMIBHAACQR3OnMIBHAACQSnmTWIBKAACQR23iOIBHAKcwkENqpzCAQwAAkEVlpzCARQAAkENupzCAQwAAkEd3pzCARwAAkEVwuwiARQCTWJBDcKcwgEMA9hCQRWOnMIBFAACQRXqnMIBFAACQRWWnMIBFAACQRXinMIBFAACQQ22nMIBDAACQR2SnMIBHAACQRWy7CIBFAJNYkENvzmCAQwCB7CCQR2enMIBHAACQR1+nMIBHAACQSmiTWIBKAACQTHm7CIBMAKcwkEVupzCARQAAkENvpzCAQwAAkEdwpzCARwCTWJBFYqcwgEUAk1iQRW+nMIBFAACQQ3enMIBDAKcwkEBxk1iAQAAAkENupzCAQwCTWJBFaLsIgEUAk1iQRW6nMIBFAACQQ2ynMIBDAACQRW6nMIBFAKcwkEVupzCARQAAkEN6k1iAQwAAkEdrgbEYgEcApzCQRWqnMIBFAJNYkEdtuwiARwCnMJBIZacwgEgAAJBIZqcwgEgAAJBIbpNYgEgAAJBIYKcwgEgAk1iQR2qnMIBHAACQRXWnMIBFAACQQ2+nMIBDAACQQ2+nMIBDAACQRWWnMIBFAACQR3inMIBHAACQRXSnMIBFAKcwkEV1pzCARQCTWJBHe6cwgEcAk1iQSGynMIBIAKcwkEhtpzCASAAAkEh2pzCASAAAkEhppzCASAAAkEdupzCARwAAkEV5k1iARQAAkEN8pzCAQwCTWJBHaKcwgEcAAJBFec5ggEUApzCQRXDOYIBFAJNYkEdkpzCARwCTWJBIY7sIgEgAk1iQSHGnMIBIAACQSG+TWIBIAACQSF+nMIBIAJNYkEdupzCARwAAkEVxpzCARQAAkENtpzCAQwAAkEN4pzCAQwAAkEVwpzCARQAAkEdupzCARwAAkEVupzCARQCnMJBFbacwgEUAk1iQR22nMIBHAJNYkEhupzCASACTWJBHcacwgEcAk1iQSG6nMIBIAACQSmqnMIBKAJNYkEhkpzCASACTWJBMe6cwgEwAAJBMX4GdQIBMAM5gkEVupzCARQAAkENuk1iAQwAAkEVupzCARQCTWJBDeacwgEMAAJBDfIGdQIBDAM5g/y8A\");\n",
       "            });\n",
       "        }\n",
       "        if (typeof require === 'undefined') {\n",
       "            setTimeout(midiPlayerDiv2222_play, 2000);\n",
       "        } else {\n",
       "            midiPlayerDiv2222_play();\n",
       "        }\n",
       "        </script>"
      ],
      "text/plain": [
       "<IPython.core.display.HTML object>"
      ]
     },
     "metadata": {},
     "output_type": "display_data"
    }
   ],
   "source": [
    "melody_in: stream.Stream = parse_midi(\"example_inputs/eyeofthetiger.mid\")\n",
    "melody_in = melody_in.transpose(4)\n",
    "\n",
    "print(\"Original melody:\")\n",
    "melody_in.show('midi');"
   ]
  },
  {
   "cell_type": "code",
   "execution_count": 3,
   "metadata": {},
   "outputs": [
    {
     "name": "stdout",
     "output_type": "stream",
     "text": [
      "Simple triads:\n",
      "['iii', 'ii', 'ii', 'ii', 'iii', 'iii', 'ii', 'iii', 'iii', 'ii', 'ii', 'ii', 'iii', 'iii', 'ii', 'iii', 'IV', 'I', 'IV', 'iii', 'IV', 'I', 'IV', 'vi', 'ii']\n"
     ]
    }
   ],
   "source": [
    "print(\"Simple triads:\")\n",
    "simple_triads = get_triads(melody_in)"
   ]
  },
  {
   "cell_type": "code",
   "execution_count": 4,
   "metadata": {},
   "outputs": [
    {
     "data": {
      "text/html": [
       "\n",
       "        <div id=\"midiPlayerDiv4939\"></div>\n",
       "        <link rel=\"stylesheet\" href=\"https://cuthbertLab.github.io/music21j/css/m21.css\">\n",
       "        \n",
       "        <script\n",
       "        src=\"https://cdnjs.cloudflare.com/ajax/libs/require.js/2.3.6/require.min.js\"\n",
       "        ></script>\n",
       "    \n",
       "        <script>\n",
       "        function midiPlayerDiv4939_play() {\n",
       "            const rq = require.config({\n",
       "                paths: {\n",
       "                    'music21': 'https://cuthbertLab.github.io/music21j/releases/music21.debug',\n",
       "                }\n",
       "            });\n",
       "            rq(['music21'], function(music21) {\n",
       "                mp = new music21.miditools.MidiPlayer();\n",
       "                mp.addPlayer(\"#midiPlayerDiv4939\");\n",
       "                mp.base64Load(\"data:audio/midi;base64,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\");\n",
       "            });\n",
       "        }\n",
       "        if (typeof require === 'undefined') {\n",
       "            setTimeout(midiPlayerDiv4939_play, 2000);\n",
       "        } else {\n",
       "            midiPlayerDiv4939_play();\n",
       "        }\n",
       "        </script>"
      ],
      "text/plain": [
       "<IPython.core.display.HTML object>"
      ]
     },
     "metadata": {},
     "output_type": "display_data"
    }
   ],
   "source": [
    "out_score = stream.Score()\n",
    "out_score.insert(0, melody_in)\n",
    "out_score.insert(0, simple_triads)\n",
    "\n",
    "out_score.show('midi')"
   ]
  },
  {
   "cell_type": "code",
   "execution_count": 5,
   "metadata": {},
   "outputs": [
    {
     "name": "stdout",
     "output_type": "stream",
     "text": [
      "Total number of states: 2744\n",
      "\n",
      "new chords:\n",
      "['iii', 'iisus4', 'ii2', 'ii2', 'iii2', 'iii', 'vi2', 'iii2', 'iii2', 'ii2', 'ii2', 'ii2', 'iiisus4', 'iii', 'ii2', 'iii2', 'IV2', 'I2', 'IV7', 'i2', 'iv6', 'I2', 'IV2', 'VI2', 'ii']\n",
      "\n",
      "new chords:\n",
      "['iii2', 'v2', 'ii', 'ii2', 'iii2', 'iii2', 'vi2', 'IV', 'iii76', 'vi2', 'ii7', 'v7', 'vi2', 'iii7', 'ii7', 'iii7', 'IV2', 'I7', 'IV6', 'ii7', 'iv7', 'vii6', 'IV2', 'VII7', 'ii']\n",
      "\n",
      "new chords:\n",
      "['iii2', 'v2', 'ii7', 'ii', 'iii2', 'vi2', 'vi7', 'IV2', 'I', 'vi', 'ii2', 'v2', 'i7', 'ii2', 'ii2', 'iii7', 'IV7', 'I2', 'IV', 'VII2', 'iv', 'vii2', 'iv', 'iv7', 'ii2']\n",
      "\n",
      "new chords:\n",
      "['iii2', 'vsus4', 'ii7', 'ii7', 'iii2', 'vi2', 'ii2', 'IV76', 'ii2', 'vi7', 'ii7', 'II7', 'v2', 'i', 'VII2', 'iii76', 'vi', 'I7', 'IV2', 'VII2', 'vii', 'vii', 'iii2', 'iv2', 'ii2']\n",
      "\n",
      "new chords:\n",
      "['iii76', 'i7', 'ii', 'ii', 'iiisus4', 'vi7', 'iv2', 'III2', 'ii76', 'v', 'ii2', 'iii2', 'v', 'vi2', 'V2', 'vii7', 'vi', 'I', 'IV2', 'VII2', 'vii6', 'vii2', 'iii2', 'vi2', 'ii76']\n",
      "\n",
      "new chords:\n",
      "['I76', 'IV2', 'ii2', 'ii2', 'v7', 'vi2', 'iv2', 'vii2', 'IV2', 'iii2', 'ii2', 'iii2', 'vi2', 'vi2', 'V7', 'vii2', 'vi7', 'I2', 'IV6', 'VII7', 'I7', 'II2', 'iii', 'VI7', 'II2']\n"
     ]
    },
    {
     "data": {
      "text/html": [
       "\n",
       "        <div id=\"midiPlayerDiv6489\"></div>\n",
       "        <link rel=\"stylesheet\" href=\"https://cuthbertLab.github.io/music21j/css/m21.css\">\n",
       "        \n",
       "        <script\n",
       "        src=\"https://cdnjs.cloudflare.com/ajax/libs/require.js/2.3.6/require.min.js\"\n",
       "        ></script>\n",
       "    \n",
       "        <script>\n",
       "        function midiPlayerDiv6489_play() {\n",
       "            const rq = require.config({\n",
       "                paths: {\n",
       "                    'music21': 'https://cuthbertLab.github.io/music21j/releases/music21.debug',\n",
       "                }\n",
       "            });\n",
       "            rq(['music21'], function(music21) {\n",
       "                mp = new music21.miditools.MidiPlayer();\n",
       "                mp.addPlayer(\"#midiPlayerDiv6489\");\n",
       "                mp.base64Load(\"data:audio/midi;base64,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\");\n",
       "            });\n",
       "        }\n",
       "        if (typeof require === 'undefined') {\n",
       "            setTimeout(midiPlayerDiv6489_play, 2000);\n",
       "        } else {\n",
       "            midiPlayerDiv6489_play();\n",
       "        }\n",
       "        </script>"
      ],
      "text/plain": [
       "<IPython.core.display.HTML object>"
      ]
     },
     "metadata": {},
     "output_type": "display_data"
    }
   ],
   "source": [
    "markov_table = generate_markov_table()\n",
    "substituted_chords = substitute_chords(simple_triads, markov_table)\n",
    "for i in range(5):\n",
    "    substituted_chords = substitute_chords(substituted_chords, markov_table)\n",
    "\n",
    "out_score = stream.Score()\n",
    "out_score.insert(0, melody_in)\n",
    "out_score.insert(0, substituted_chords)\n",
    "\n",
    "out_score.show('midi')"
   ]
  },
  {
   "cell_type": "code",
   "execution_count": 6,
   "metadata": {},
   "outputs": [
    {
     "data": {
      "text/plain": [
       "<All keys matched successfully>"
      ]
     },
     "execution_count": 6,
     "metadata": {},
     "output_type": "execute_result"
    }
   ],
   "source": [
    "import torch\n",
    "from preprocess import *\n",
    "from bigram import BigramModel\n",
    "\n",
    "device = 'cuda' if torch.cuda.is_available() else 'cpu'\n",
    "\n",
    "model_save_path = '/mnt/c/Users/jwest/Desktop/algocomps/comp2-markov/parkergpt_trained.pt'\n",
    "checkpoint = torch.load(model_save_path, map_location=device)\n",
    "\n",
    "model = BigramModel(\n",
    "    device=device,\n",
    "    block_size=checkpoint['block_size'],\n",
    "    vocab_size=checkpoint['vocab_size'],\n",
    "    n_embed=checkpoint['n_embed']\n",
    ")\n",
    "\n",
    "# Load the saved weights\n",
    "model.load_state_dict(checkpoint['model_state_dict'])"
   ]
  },
  {
   "cell_type": "code",
   "execution_count": 7,
   "metadata": {},
   "outputs": [
    {
     "data": {
      "text/html": [
       "\n",
       "        <div id=\"midiPlayerDiv7003\"></div>\n",
       "        <link rel=\"stylesheet\" href=\"https://cuthbertLab.github.io/music21j/css/m21.css\">\n",
       "        \n",
       "        <script\n",
       "        src=\"https://cdnjs.cloudflare.com/ajax/libs/require.js/2.3.6/require.min.js\"\n",
       "        ></script>\n",
       "    \n",
       "        <script>\n",
       "        function midiPlayerDiv7003_play() {\n",
       "            const rq = require.config({\n",
       "                paths: {\n",
       "                    'music21': 'https://cuthbertLab.github.io/music21j/releases/music21.debug',\n",
       "                }\n",
       "            });\n",
       "            rq(['music21'], function(music21) {\n",
       "                mp = new music21.miditools.MidiPlayer();\n",
       "                mp.addPlayer(\"#midiPlayerDiv7003\");\n",
       "                mp.base64Load(\"data:audio/midi;base64,TVRoZAAAAAYAAQACJ2BNVHJrAAAAFAD/UQMHoSAA/1gEBAIYCM5g/y8ATVRyawAAAzYA/wMAAOAAQM5gkEZazmCARgAAkDxapzCAPAAAkDpapzCAOgAAkDlapzCAOQAAkDhak1iAOAAAkDlak1iAOQAAkDxapzCAPAAAkDdapzCANwAAkDpapzCAOgAAkDdapzCANwAAkD1apzCAPQAAkD9apzCAPwAAkD9apzCAPwAAkD1apzCAPQAAkD9amiCAPwAAkEFamiCAQQAAkEVamiCARQAAkEZapzCARgAAkEFapzCAQQAAkD5apzCAPgAAkEpak1iASgAAkElapzCASQAAkE5apzCATgAAkE1apzCATQAAkEtapzCASwAAkEpapzCASgAAkEhapzCASAAAkEhajRCASAAAkEpajRCASgAAkEpajRCASgAAkEhajRCASAAAkEZajRCARgAAkEZapzCARgCCk1CQS1qTWIBLAACQRlqNEIBGAACQRVqnMIBFAACQR1qNEIBHAACQRlqNEIBGAACQRVqnMIBFAACQQ1qnMIBDAACQQlqnMIBCAACQQVqnMIBBAACQQFqnMIBAAACQPlrOYIA+AACQPFrOYIA8AILiMJBNWpNYgE0AAJBKWpNYgEoAAJBGWqcwgEYAAJBIWqcwgEgAAJBEWqcwgEQAAJBLWs5ggEsAAJBKWqcwgEoAAJBIWqcwgEgAAJBJWqcwgEkAAJBGWqcwgEYAAJBBWqcwgEEAAJBEWqcwgEQAAJBDWqcwgEMAAJBAWqcwgEAAAJBDWqcwgEMAAJA6WqcwgDoAAJA6WqcwgDoAAJA4WqcwgDgAAJA/Wo0QgD8AAJA+Wo0QgD4AAJA/WqcwgD8AAJA+WqcwgD4AAJA/WqcwgD8AAJA8WqcwgDwAAJA5WqcwgDkAAJA3WqcwgDcAAJA+WqcwgD4AAJA/WpoggD8AAJBAWpoggEAAAJBCWqcwgEIAAJBEWqcwgEQAAJBEWqcwgEQAAJBGWqcwgEYAAJBJWpNYgEkAAJBCWpNYgEIAAJBCWqcwgEIAAJBCWs5ggEIApzCQO1qnMIA7AACQQlrOYIBCAIGdQJBKWrRAgEoAAJBHWolsgEcAAJBKWrRAgEoAAJBSWs5ggFIAAJBRWs5ggFEAzmD/LwA=\");\n",
       "            });\n",
       "        }\n",
       "        if (typeof require === 'undefined') {\n",
       "            setTimeout(midiPlayerDiv7003_play, 2000);\n",
       "        } else {\n",
       "            midiPlayerDiv7003_play();\n",
       "        }\n",
       "        </script>"
      ],
      "text/plain": [
       "<IPython.core.display.HTML object>"
      ]
     },
     "metadata": {},
     "output_type": "display_data"
    }
   ],
   "source": [
    "gen_tokens = model.generate(\n",
    "    idx=torch.zeros((1, 1), dtype=torch.long).to(device),\n",
    "    max_length=100  # Generate sequence\n",
    ")[0].tolist()\n",
    "\n",
    "# Convert tokens to MIDI\n",
    "gen_stream = sequence_to_score(tokens_to_sequence(gen_tokens))\n",
    "gen_stream.show('midi')"
   ]
  },
  {
   "cell_type": "code",
   "execution_count": null,
   "metadata": {},
   "outputs": [],
   "source": [
    "def splice_melody(melody: stream.Stream) -> stream.Stream:\n",
    "    out = []\n",
    "    pos = 0  # position in melody (in 24ths of a quarter note)\n",
    "    cur_segment_length = 0\n",
    "    gen_tokens = None\n",
    "    take = 'melody'\n",
    "    gen_index = 0  # Track position in generated content\n",
    "    \n",
    "    while pos < melody.duration.quarterLength * 24:\n",
    "        if take == 'melody':\n",
    "            # take next element from melody\n",
    "            next_elem = melody.flatten().getElementAtOrBefore(pos / 24)\n",
    "            if next_elem is None:\n",
    "                break\n",
    "            out.append(next_elem)\n",
    "            pos += int(next_elem.quarterLength * 24)\n",
    "            cur_segment_length += int(next_elem.quarterLength * 24)\n",
    "            \n",
    "            if cur_segment_length > 144:\n",
    "                take = 'model'\n",
    "                # generate 100 tokens with current melody as context\n",
    "                context = out[-6:]\n",
    "                context = make_tokens(score_to_sequence(context))\n",
    "                print(context)\n",
    "                gen_tokens = sequence_to_score(tokens_to_sequence(model.generate(\n",
    "                    idx=torch.tensor(context, dtype=torch.long).unsqueeze(0).to(device),\n",
    "                    max_length=100\n",
    "                )[0].tolist()))\n",
    "                cur_segment_length = 0\n",
    "                gen_index = 0  # Reset the index counter\n",
    "        else:\n",
    "            # Get elements by index instead of by offset\n",
    "            flat_gen = gen_tokens.flatten().notes\n",
    "            if gen_index >= len(flat_gen):\n",
    "                take = 'melody'\n",
    "                cur_segment_length = 0\n",
    "                continue\n",
    "                \n",
    "            next_elem = flat_gen[gen_index]\n",
    "            gen_index += 1  # Increment index\n",
    "            \n",
    "            # Create a COPY of the element to prevent ID conflicts\n",
    "            if isinstance(next_elem, note.Note):\n",
    "                next_elem = note.Note(pitch=next_elem.pitch, quarterLength=next_elem.quarterLength)\n",
    "            elif isinstance(next_elem, note.Rest):\n",
    "                next_elem = note.Rest(quarterLength=next_elem.quarterLength)\n",
    "            \n",
    "            next_elem.offset = pos / 24\n",
    "            \n",
    "            out.append(next_elem)\n",
    "            pos += int(next_elem.quarterLength * 24)\n",
    "            cur_segment_length += int(next_elem.quarterLength * 24)\n",
    "            \n",
    "            if cur_segment_length > 144:\n",
    "                take = 'melody'\n",
    "                cur_segment_length = 0\n",
    "    \n",
    "    return stream.Stream(out)\n"
   ]
  },
  {
   "cell_type": "code",
   "execution_count": 15,
   "metadata": {},
   "outputs": [
    {
     "name": "stdout",
     "output_type": "stream",
     "text": [
      "[1787, 1737, 1837, 1793]\n",
      "[1837, 1962, 31, 1837]\n",
      "[1731, 1831, 1849, 49, 49, 49]\n",
      "[1787, 1781, 31, 1749]\n",
      "[1793, 31, 1787, 1737]\n",
      "[1787, 1837, 1787, 37]\n",
      "[31, 1837, 1787, 1737]\n",
      "[1781, 1781, 31, 1737]\n"
     ]
    },
    {
     "data": {
      "text/html": [
       "\n",
       "        <div id=\"midiPlayerDiv19387\"></div>\n",
       "        <link rel=\"stylesheet\" href=\"https://cuthbertLab.github.io/music21j/css/m21.css\">\n",
       "        \n",
       "        <script\n",
       "        src=\"https://cdnjs.cloudflare.com/ajax/libs/require.js/2.3.6/require.min.js\"\n",
       "        ></script>\n",
       "    \n",
       "        <script>\n",
       "        function midiPlayerDiv19387_play() {\n",
       "            const rq = require.config({\n",
       "                paths: {\n",
       "                    'music21': 'https://cuthbertLab.github.io/music21j/releases/music21.debug',\n",
       "                }\n",
       "            });\n",
       "            rq(['music21'], function(music21) {\n",
       "                mp = new music21.miditools.MidiPlayer();\n",
       "                mp.addPlayer(\"#midiPlayerDiv19387\");\n",
       "                mp.base64Load(\"data:audio/midi;base64,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\");\n",
       "            });\n",
       "        }\n",
       "        if (typeof require === 'undefined') {\n",
       "            setTimeout(midiPlayerDiv19387_play, 2000);\n",
       "        } else {\n",
       "            midiPlayerDiv19387_play();\n",
       "        }\n",
       "        </script>"
      ],
      "text/plain": [
       "<IPython.core.display.HTML object>"
      ]
     },
     "metadata": {},
     "output_type": "display_data"
    }
   ],
   "source": [
    "res_melody = splice_melody(melody_in)\n",
    "\n",
    "out_score = stream.Score()\n",
    "out_score.insert(0, res_melody)\n",
    "out_score.insert(0, substituted_chords)\n",
    "\n",
    "out_score.show('midi')"
   ]
  },
  {
   "cell_type": "code",
   "execution_count": 16,
   "metadata": {},
   "outputs": [
    {
     "data": {
      "text/plain": [
       "'tiger_out.mid'"
      ]
     },
     "execution_count": 16,
     "metadata": {},
     "output_type": "execute_result"
    }
   ],
   "source": [
    "out_score.write('midi', 'tiger_out.mid')"
   ]
  }
 ],
 "metadata": {
  "kernelspec": {
   "display_name": "algocomps-env",
   "language": "python",
   "name": "python3"
  },
  "language_info": {
   "codemirror_mode": {
    "name": "ipython",
    "version": 3
   },
   "file_extension": ".py",
   "mimetype": "text/x-python",
   "name": "python",
   "nbconvert_exporter": "python",
   "pygments_lexer": "ipython3",
   "version": "3.12.3"
  }
 },
 "nbformat": 4,
 "nbformat_minor": 2
}

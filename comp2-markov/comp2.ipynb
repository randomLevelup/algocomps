{
 "cells": [
  {
   "cell_type": "code",
   "execution_count": 1,
   "metadata": {},
   "outputs": [],
   "source": [
    "from music21 import *\n",
    "from comp2 import *"
   ]
  },
  {
   "cell_type": "code",
   "execution_count": 2,
   "metadata": {},
   "outputs": [],
   "source": [
    "melody_in: stream.Stream = parse_midi(\"example_inputs/finalcountdown.mid\")\n",
    "\n",
    "# print(\"Original melody:\")\n",
    "# melody_in.show();"
   ]
  },
  {
   "cell_type": "code",
   "execution_count": 3,
   "metadata": {},
   "outputs": [
    {
     "name": "stdout",
     "output_type": "stream",
     "text": [
      "Downbeat triads:\n"
     ]
    },
    {
     "data": {
      "text/plain": [
       "['v2',\n",
       " 'bVI65',\n",
       " 'iv32',\n",
       " 'iv2',\n",
       " 'III32',\n",
       " 'bVI65',\n",
       " 'iv32',\n",
       " 'iv2',\n",
       " 'III32',\n",
       " 'bVI65',\n",
       " 'iv32',\n",
       " 'iv2',\n",
       " 'iii2',\n",
       " 'v2',\n",
       " 'bvi2',\n",
       " 'v2',\n",
       " '']"
      ]
     },
     "execution_count": 3,
     "metadata": {},
     "output_type": "execute_result"
    }
   ],
   "source": [
    "keysig, downbeat_triads = get_downbeat_triads(melody_in)\n",
    "print(\"Downbeat triads:\")\n",
    "downbeat_triads"
   ]
  }
 ],
 "metadata": {
  "kernelspec": {
   "display_name": "algocomp-env",
   "language": "python",
   "name": "python3"
  },
  "language_info": {
   "codemirror_mode": {
    "name": "ipython",
    "version": 3
   },
   "file_extension": ".py",
   "mimetype": "text/x-python",
   "name": "python",
   "nbconvert_exporter": "python",
   "pygments_lexer": "ipython3",
   "version": "3.12.9"
  }
 },
 "nbformat": 4,
 "nbformat_minor": 2
}

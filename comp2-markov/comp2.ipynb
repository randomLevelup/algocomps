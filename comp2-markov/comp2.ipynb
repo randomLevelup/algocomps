{
 "cells": [
  {
   "cell_type": "code",
   "execution_count": 11,
   "metadata": {},
   "outputs": [],
   "source": [
    "from music21 import *\n",
    "from comp2_markov import *"
   ]
  },
  {
   "cell_type": "code",
   "execution_count": 12,
   "metadata": {},
   "outputs": [
    {
     "name": "stdout",
     "output_type": "stream",
     "text": [
      "Original melody:\n"
     ]
    },
    {
     "data": {
      "text/html": [
       "\n",
       "        <div id=\"midiPlayerDiv8633\"></div>\n",
       "        <link rel=\"stylesheet\" href=\"https://cuthbertLab.github.io/music21j/css/m21.css\">\n",
       "        \n",
       "        <script\n",
       "        src=\"https://cdnjs.cloudflare.com/ajax/libs/require.js/2.3.6/require.min.js\"\n",
       "        ></script>\n",
       "    \n",
       "        <script>\n",
       "        function midiPlayerDiv8633_play() {\n",
       "            const rq = require.config({\n",
       "                paths: {\n",
       "                    'music21': 'https://cuthbertLab.github.io/music21j/releases/music21.debug',\n",
       "                }\n",
       "            });\n",
       "            rq(['music21'], function(music21) {\n",
       "                mp = new music21.miditools.MidiPlayer();\n",
       "                mp.addPlayer(\"#midiPlayerDiv8633\");\n",
       "                mp.base64Load(\"data:audio/midi;base64,TVRoZAAAAAYAAQACJ2BNVHJrAAAAFAD/UQMHoSAA/1gEBAIYCM5g/y8ATVRyawAAAuUA/wMAAOAAQIHEcJBIX5NYgEgAAJBGX5NYgEYAAJBIX7sIgEgAk1iQQV/iOIBBAOI4kElfk1iASQAAkEhfk1iASAAAkElfk1iASQCTWJBIX5NYgEgAk1iQRl/2EIBGAM5gkElfk1iASQAAkEhfk1iASAAAkElfuwiASQCTWJBBX85ggEEA9hCQRl+TWIBGAACQRF+TWIBEAACQRl+TWIBGAJNYkERfk1iARACTWJBDX5NYgEMAk1iQRl+TWIBGAJNYkERf9hCARAAAkEhfk1iASAAAkEZfk1iARgAAkEhfzmCASAAAkEFf4jiAQQDiOJBJX5NYgEkAAJBIX5NYgEgAAJBJX5NYgEkAk1iQSF+TWIBIAJNYkEZf9hCARgDOYJBJX5NYgEkAAJBIX5NYgEgAAJBJX85ggEkAAJBBX85ggEEA9hCQRl+TWIBGAACQRF+TWIBEAACQRl+TWIBGAJNYkERfk1iARACTWJBDX5NYgEMAk1iQRl+TWIBGAJNYkERf9hCARAAAkEhfk1iASAAAkEZfk1iARgAAkEhfzmCASAAAkEFf4jiAQQDiOJBJX5NYgEkAAJBIX5NYgEgAAJBJX5NYgEkAk1iQSF+TWIBIAJNYkEZf9hCARgDOYJBJX5NYgEkAAJBIX5NYgEgAAJBJX85ggEkAAJBBX85ggEEA9hCQRl+TWIBGAACQRF+TWIBEAACQRl+TWIBGAJNYkERfk1iARACTWJBDX5NYgEMAk1iQRl+TWIBGAJNYkERf9hCARAAAkENfpzCAQwAAkERfk1iARAAAkEZf9hCARgAAkERfk1iARAAAkEZfk1iARgAAkEhfuwiASAAAkEZfpzCARgAAkERfpzCARAAAkENfpzCAQwAAkEFfzmCAQQAAkElfzmCASQAAkEhfgYlogEgAk1iQSF+7CIBIAACQSV+7CIBJAIZIkEhfk1iASAAAkEZfk1iARgAAkEhfgewggEgAzmD/LwA=\");\n",
       "            });\n",
       "        }\n",
       "        if (typeof require === 'undefined') {\n",
       "            setTimeout(midiPlayerDiv8633_play, 2000);\n",
       "        } else {\n",
       "            midiPlayerDiv8633_play();\n",
       "        }\n",
       "        </script>"
      ],
      "text/plain": [
       "<IPython.core.display.HTML object>"
      ]
     },
     "metadata": {},
     "output_type": "display_data"
    },
    {
     "data": {
      "text/plain": [
       "'/mnt/c/Users/jwest/Desktop/algocomps/comp2-markov/generations/original.mid'"
      ]
     },
     "execution_count": 12,
     "metadata": {},
     "output_type": "execute_result"
    }
   ],
   "source": [
    "melody_in: stream.Stream = parse_midi(\"example_inputs/finalcountdown.mid\")\n",
    "melody_in = melody_in.transpose(-1)\n",
    "\n",
    "output_path = '/mnt/c/Users/jwest/Desktop/algocomps/comp2-markov/generations/'\n",
    "\n",
    "print(\"Original melody:\")\n",
    "melody_in.show('midi');\n",
    "melody_in.write('midi', output_path + 'original.mid')"
   ]
  },
  {
   "cell_type": "code",
   "execution_count": 13,
   "metadata": {},
   "outputs": [
    {
     "name": "stdout",
     "output_type": "stream",
     "text": [
      "Simple triads:\n",
      "['v', 'i5#2', 'iv5#2', 'iv5#2', 'v+64', 'i5#2', 'iv5#2', 'iv5#2', 'v+64', 'i5#2', 'iv5#2', 'iv5#2', 'v+64', 'iv5#2', 'v', 'v']\n"
     ]
    }
   ],
   "source": [
    "print(\"Simple triads:\")\n",
    "simple_triads = get_triads(melody_in)"
   ]
  },
  {
   "cell_type": "code",
   "execution_count": 14,
   "metadata": {},
   "outputs": [
    {
     "data": {
      "text/html": [
       "\n",
       "        <div id=\"midiPlayerDiv10959\"></div>\n",
       "        <link rel=\"stylesheet\" href=\"https://cuthbertLab.github.io/music21j/css/m21.css\">\n",
       "        \n",
       "        <script\n",
       "        src=\"https://cdnjs.cloudflare.com/ajax/libs/require.js/2.3.6/require.min.js\"\n",
       "        ></script>\n",
       "    \n",
       "        <script>\n",
       "        function midiPlayerDiv10959_play() {\n",
       "            const rq = require.config({\n",
       "                paths: {\n",
       "                    'music21': 'https://cuthbertLab.github.io/music21j/releases/music21.debug',\n",
       "                }\n",
       "            });\n",
       "            rq(['music21'], function(music21) {\n",
       "                mp = new music21.miditools.MidiPlayer();\n",
       "                mp.addPlayer(\"#midiPlayerDiv10959\");\n",
       "                mp.base64Load(\"data:audio/midi;base64,TVRoZAAAAAYAAQADJ2BNVHJrAAAAGgD/UQMHoSAA/1kC/AEA/1gEBAIYCM5g/y8ATVRyawAAAuUA/wMAAOAAQIHEcJBIX5NYgEgAAJBGX5NYgEYAAJBIX7sIgEgAk1iQQV/iOIBBAOI4kElfk1iASQAAkEhfk1iASAAAkElfk1iASQCTWJBIX5NYgEgAk1iQRl/2EIBGAM5gkElfk1iASQAAkEhfk1iASAAAkElfuwiASQCTWJBBX85ggEEA9hCQRl+TWIBGAACQRF+TWIBEAACQRl+TWIBGAJNYkERfk1iARACTWJBDX5NYgEMAk1iQRl+TWIBGAJNYkERf9hCARAAAkEhfk1iASAAAkEZfk1iARgAAkEhfzmCASAAAkEFf4jiAQQDiOJBJX5NYgEkAAJBIX5NYgEgAAJBJX5NYgEkAk1iQSF+TWIBIAJNYkEZf9hCARgDOYJBJX5NYgEkAAJBIX5NYgEgAAJBJX85ggEkAAJBBX85ggEEA9hCQRl+TWIBGAACQRF+TWIBEAACQRl+TWIBGAJNYkERfk1iARACTWJBDX5NYgEMAk1iQRl+TWIBGAJNYkERf9hCARAAAkEhfk1iASAAAkEZfk1iARgAAkEhfzmCASAAAkEFf4jiAQQDiOJBJX5NYgEkAAJBIX5NYgEgAAJBJX5NYgEkAk1iQSF+TWIBIAJNYkEZf9hCARgDOYJBJX5NYgEkAAJBIX5NYgEgAAJBJX85ggEkAAJBBX85ggEEA9hCQRl+TWIBGAACQRF+TWIBEAACQRl+TWIBGAJNYkERfk1iARACTWJBDX5NYgEMAk1iQRl+TWIBGAJNYkERf9hCARAAAkENfpzCAQwAAkERfk1iARAAAkEZf9hCARgAAkERfk1iARAAAkEZfk1iARgAAkEhfuwiASAAAkEZfpzCARgAAkERfpzCARAAAkENfpzCAQwAAkEFfzmCAQQAAkElfzmCASQAAkEhfgYlogEgAk1iQSF+7CIBIAACQSV+7CIBJAIZIkEhfk1iASAAAkEZfk1iARgAAkEhfgewggEgAzmD/LwBNVHJrAAABrgD/AwAA4ABAzmCQPFoAkD9aAJBDWoK7AIA8AACAPwAAgEMAAJA1WgCQOFoAkDxagrsAgDUAAIA4AACAPAAAkDpaAJA9WgCQQVqCuwCAOgAAgD0AAIBBAACQOloAkD1aAJBBWoK7AIA6AACAPQAAgEEAAJA4WgCQPFoAkD9agrsAgDgAAIA8AACAPwAAkDVaAJA4WgCQPFqCuwCANQAAgDgAAIA8AACQOloAkD1aAJBBWoK7AIA6AACAPQAAgEEAAJA6WgCQPVoAkEFagrsAgDoAAIA9AACAQQAAkDhaAJA8WgCQP1qCuwCAOAAAgDwAAIA/AACQNVoAkDhaAJA8WoK7AIA1AACAOAAAgDwAAJA6WgCQPVoAkEFagrsAgDoAAIA9AACAQQAAkDpaAJA9WgCQQVqCuwCAOgAAgD0AAIBBAACQOFoAkDxaAJA/WoK7AIA4AACAPAAAgD8AAJA6WgCQPVoAkEFagrsAgDoAAIA9AACAQQAAkDxaAJA/WgCQQ1qCuwCAPAAAgD8AAIBDAACQPFoAkD9aAJBDWoK7AIA8AACAPwAAgEMAzmD/LwA=\");\n",
       "            });\n",
       "        }\n",
       "        if (typeof require === 'undefined') {\n",
       "            setTimeout(midiPlayerDiv10959_play, 2000);\n",
       "        } else {\n",
       "            midiPlayerDiv10959_play();\n",
       "        }\n",
       "        </script>"
      ],
      "text/plain": [
       "<IPython.core.display.HTML object>"
      ]
     },
     "metadata": {},
     "output_type": "display_data"
    }
   ],
   "source": [
    "out_score = stream.Score()\n",
    "out_score.insert(0, melody_in)\n",
    "out_score.insert(0, simple_triads)\n",
    "\n",
    "out_score.show('midi')"
   ]
  },
  {
   "cell_type": "code",
   "execution_count": 15,
   "metadata": {},
   "outputs": [
    {
     "name": "stdout",
     "output_type": "stream",
     "text": [
      "Total number of states: 2744\n",
      "\n",
      "new chords:\n",
      "['v7', 'i', 'ivsus4', 'II76', 'VI', 'i2', 'v', 'ii', 'v7', 'I2', 'vi2', 'vii7', 'v2', 'iv76', 'v2', 'v2']\n",
      "\n",
      "new chords:\n",
      "['v7', 'i2', 'II2', 'VIIsus4', 'i', 'v2', 'v2', 'ii', 'v', 'i2', 'iv2', 'v2', 'v2', 'ii2', 'v7', 'IV2']\n",
      "\n",
      "new chords:\n",
      "['VII2', 'v2', 'II2', 'vii7', 'i76', 'v7', 'v', 'ii2', 'v', 'i', 'ii7', 'v2', 'v', 'ii2', 'v', 'i2']\n",
      "\n",
      "new chords:\n",
      "['I2', 'v76', 'II6', 'V7', 'v', 'ii', 'v2', 'iv2', 'v2', 'I', 'iv7', 'v2', 'i2', 'ii', 'v6', 'i2']\n",
      "\n",
      "new chords:\n",
      "['I7', 'v7', 'II2', 'V2', 'I7', 'ii76', 'v2', 'i', 'v', 'IV2', 'IV2', 'v', 'isus4', 'ii7', 'v2', 'i2']\n",
      "\n",
      "new chords:\n",
      "['ii2', 'v7', 'i6', 'V2', 'I2', 'v2', 'III2', 'i2', 'VII76', 'ii2', 'II', 'v7', 'i76', 'ii2', 'v76', 'i7']\n"
     ]
    },
    {
     "data": {
      "text/html": [
       "\n",
       "        <div id=\"midiPlayerDiv11972\"></div>\n",
       "        <link rel=\"stylesheet\" href=\"https://cuthbertLab.github.io/music21j/css/m21.css\">\n",
       "        \n",
       "        <script\n",
       "        src=\"https://cdnjs.cloudflare.com/ajax/libs/require.js/2.3.6/require.min.js\"\n",
       "        ></script>\n",
       "    \n",
       "        <script>\n",
       "        function midiPlayerDiv11972_play() {\n",
       "            const rq = require.config({\n",
       "                paths: {\n",
       "                    'music21': 'https://cuthbertLab.github.io/music21j/releases/music21.debug',\n",
       "                }\n",
       "            });\n",
       "            rq(['music21'], function(music21) {\n",
       "                mp = new music21.miditools.MidiPlayer();\n",
       "                mp.addPlayer(\"#midiPlayerDiv11972\");\n",
       "                mp.base64Load(\"data:audio/midi;base64,TVRoZAAAAAYAAQADJ2BNVHJrAAAAGgD/UQMHoSAA/1kC/AEA/1gEBAIYCM5g/y8ATVRyawAAAuUA/wMAAOAAQIHEcJBIX5NYgEgAAJBGX5NYgEYAAJBIX7sIgEgAk1iQQV/iOIBBAOI4kElfk1iASQAAkEhfk1iASAAAkElfk1iASQCTWJBIX5NYgEgAk1iQRl/2EIBGAM5gkElfk1iASQAAkEhfk1iASAAAkElfuwiASQCTWJBBX85ggEEA9hCQRl+TWIBGAACQRF+TWIBEAACQRl+TWIBGAJNYkERfk1iARACTWJBDX5NYgEMAk1iQRl+TWIBGAJNYkERf9hCARAAAkEhfk1iASAAAkEZfk1iARgAAkEhfzmCASAAAkEFf4jiAQQDiOJBJX5NYgEkAAJBIX5NYgEgAAJBJX5NYgEkAk1iQSF+TWIBIAJNYkEZf9hCARgDOYJBJX5NYgEkAAJBIX5NYgEgAAJBJX85ggEkAAJBBX85ggEEA9hCQRl+TWIBGAACQRF+TWIBEAACQRl+TWIBGAJNYkERfk1iARACTWJBDX5NYgEMAk1iQRl+TWIBGAJNYkERf9hCARAAAkEhfk1iASAAAkEZfk1iARgAAkEhfzmCASAAAkEFf4jiAQQDiOJBJX5NYgEkAAJBIX5NYgEgAAJBJX5NYgEkAk1iQSF+TWIBIAJNYkEZf9hCARgDOYJBJX5NYgEkAAJBIX5NYgEgAAJBJX85ggEkAAJBBX85ggEEA9hCQRl+TWIBGAACQRF+TWIBEAACQRl+TWIBGAJNYkERfk1iARACTWJBDX5NYgEMAk1iQRl+TWIBGAJNYkERf9hCARAAAkENfpzCAQwAAkERfk1iARAAAkEZf9hCARgAAkERfk1iARAAAkEZfk1iARgAAkEhfuwiASAAAkEZfpzCARgAAkERfpzCARAAAkENfpzCAQwAAkEFfzmCAQQAAkElfzmCASQAAkEhfgYlogEgAk1iQSF+7CIBIAACQSV+7CIBJAIZIkEhfk1iASAAAkEZfk1iARgAAkEhfgewggEgAzmD/LwBNVHJrAAACBgD/AwAA4ABAzmCQNVoAkDdaAJA6WgCQPlqCuwCANQAAgDcAAIA6AACAPgAAkDxaAJA/WgCQQ1oAkEZagrsAgDwAAIA/AACAQwAAgEYAAJA4WgCQPFoAkEFagrsAgDgAAIA8AACAQQAAkDpaAJA8WgCQQFoAkENagrsAgDoAAIA8AACAQAAAgEMAAJA/WgCQQVoAkEVaAJBIWoK7AIA/AACAQQAAgEUAAIBIAACQOloAkDxaAJA/WgCQQ1qCuwCAOgAAgDwAAIA/AACAQwAAkDdaAJA4WgCQPFoAkD9agrsAgDcAAIA4AACAPAAAgD8AAJA/WgCQQVoAkERaAJBIWoK7AIA/AACAQQAAgEQAAIBIAACQP1oAkEhaAJBJWoK7AIA/AACASAAAgEkAAJA1WgCQN1oAkDpaAJA+WoK7AIA1AACANwAAgDoAAIA+AACQN1oAkDtaAJA+WoK7AIA3AACAOwAAgD4AAJA8WgCQP1oAkENaAJBGWoK7AIA8AACAPwAAgEMAAIBGAACQNVoAkD1aAJA/WoK7AIA1AACAPQAAgD8AAJA1WgCQN1oAkDpaAJA+WoK7AIA1AACANwAAgDoAAIA+AACQPFoAkERaAJBGWoK7AIA8AACARAAAgEYAAJA1WgCQOFoAkDxaAJA/WoK7AIA1AACAOAAAgDwAAIA/AM5g/y8A\");\n",
       "            });\n",
       "        }\n",
       "        if (typeof require === 'undefined') {\n",
       "            setTimeout(midiPlayerDiv11972_play, 2000);\n",
       "        } else {\n",
       "            midiPlayerDiv11972_play();\n",
       "        }\n",
       "        </script>"
      ],
      "text/plain": [
       "<IPython.core.display.HTML object>"
      ]
     },
     "metadata": {},
     "output_type": "display_data"
    }
   ],
   "source": [
    "markov_table = generate_markov_table()\n",
    "substituted_chords = substitute_chords(simple_triads, markov_table)\n",
    "for pos_i in range(5):\n",
    "    substituted_chords = substitute_chords(substituted_chords, markov_table)\n",
    "\n",
    "out_score = stream.Score()\n",
    "out_score.insert(0, melody_in)\n",
    "out_score.insert(0, substituted_chords)\n",
    "\n",
    "out_score.show('midi')"
   ]
  },
  {
   "cell_type": "code",
   "execution_count": null,
   "metadata": {},
   "outputs": [
    {
     "data": {
      "text/plain": [
       "<All keys matched successfully>"
      ]
     },
     "execution_count": 16,
     "metadata": {},
     "output_type": "execute_result"
    }
   ],
   "source": [
    "import torch\n",
    "from preprocess import *\n",
    "from bigram import BigramModel\n",
    "\n",
    "device = 'cuda' if torch.cuda.is_available() else 'cpu'\n",
    "\n",
    "model_save_path = '/mnt/c/Users/jwest/Desktop/algocomps/comp2-markov/trained_models/parkergpt'\n",
    "checkpoint_f = torch.load(model_save_path + '_forward.pt', map_location=device)\n",
    "checkpoint_b = torch.load(model_save_path + '_backward.pt', map_location=device)\n",
    "\n",
    "model_f = BigramModel(\n",
    "    device=device,\n",
    "    block_size=checkpoint_f['block_size'],\n",
    "    vocab_size=checkpoint_f['vocab_size'],\n",
    "    n_embed=checkpoint_f['n_embed']\n",
    ")\n",
    "\n",
    "model_b = BigramModel(\n",
    "    device=device,\n",
    "    block_size=checkpoint_b['block_size'],\n",
    "    vocab_size=checkpoint_b['vocab_size'],\n",
    "    n_embed=checkpoint_b['n_embed']\n",
    ")\n",
    "\n",
    "# Load the saved weights\n",
    "model_f.load_state_dict(checkpoint_b['model_state_dict'])\n",
    "model_b.load_state_dict(checkpoint_b['model_state_dict'])"
   ]
  },
  {
   "cell_type": "code",
   "execution_count": 17,
   "metadata": {},
   "outputs": [
    {
     "data": {
      "text/html": [
       "\n",
       "        <div id=\"midiPlayerDiv12486\"></div>\n",
       "        <link rel=\"stylesheet\" href=\"https://cuthbertLab.github.io/music21j/css/m21.css\">\n",
       "        \n",
       "        <script\n",
       "        src=\"https://cdnjs.cloudflare.com/ajax/libs/require.js/2.3.6/require.min.js\"\n",
       "        ></script>\n",
       "    \n",
       "        <script>\n",
       "        function midiPlayerDiv12486_play() {\n",
       "            const rq = require.config({\n",
       "                paths: {\n",
       "                    'music21': 'https://cuthbertLab.github.io/music21j/releases/music21.debug',\n",
       "                }\n",
       "            });\n",
       "            rq(['music21'], function(music21) {\n",
       "                mp = new music21.miditools.MidiPlayer();\n",
       "                mp.addPlayer(\"#midiPlayerDiv12486\");\n",
       "                mp.base64Load(\"data:audio/midi;base64,TVRoZAAAAAYAAQACJ2BNVHJrAAAAFAD/UQMHoSAA/1gEBAIYCM5g/y8ATVRyawAAAy4A/wMAAOAAQM5gkEZazmCARgAAkEFamiCAQQAAkEFajRCAQQAAkEBajRCAQAAAkExak1iATAAAkE9ak1iATwAAkElak1iASQAAkEtak1iASwAAkElapzCASQAAkEVapzCARQAAkEBapzCAQAAAkEFapzCAQQAAkENazmCAQwAAkEJapzCAQgAAkERazmCARAAAkDpazmCAOgAAkDpapzCAOgAAkD9apzCAPwAAkEFapzCAQQAAkDxapzCAPAAAkDpapzCAOgAAkD1apzCAPQAAkEFapzCAQQAAkEJapzCAQgAAkEJapzCAQgAAkEVapzCARQAAkEdapzCARwAAkEhak1iASAAAkEpak1iASgAAkD1apzCAPQAAkD9apzCAPwAAkEBapzCAQAAAkEFapzCAQQAAkENapzCAQwAAkERapzCARADOYJBCWs5ggEIAAJBCWs5ggEIAAJBCWqcwgEIAAJA+WqcwgD4AAJBAWqcwgEAA9hCQQVqnMIBBAACQQ1qnMIBDAACQRlqnMIBGAACQSFqnMIBIAACQSlqnMIBKAACQS1qnMIBLAACQT1qnMIBPAKcwkERapzCARAD2EJA7Ws5ggDsAAJA2Ws5ggDYAAJBBWpNYgEEAAJBKWpNYgEoAAJBJWpNYgEkAAJBGWrsIgEYAAJBFWqcwgEUAAJBHWqcwgEcAAJBJWqcwgEkAAJBHWqcwgEcAAJBIWqcwgEgAAJBHWqcwgEcAAJBKWqcwgEoAAJBHWqcwgEcAAJA/WqcwgD8AAJBDWqcwgEMAAJBCWqcwgEIAAJBEWqcwgEQAAJBEWs5ggEQAAJBLWqcwgEsAgewgkEJazmCAQgD2EJA5WqcwgDkAAJA6WqcwgDoAAJA8WqcwgDwAAJBBWqcwgEEAAJBDWqcwgEMAAJBJWqcwgEkAAJBGWqcwgEYAAJBDWqcwgEMAAJBEWqcwgEQAAJBGWqcwgEYAAJBHWqcwgEcAAJBIWqcwgEgAAJBIWqcwgEgAAJBFWqcwgEUAAJBBWqcwgEEAAJA6WqcwgDoA9hCQTVqnMIBNAACQTVqnMIBNAACQRFqnMIBEAM5g/y8A\");\n",
       "            });\n",
       "        }\n",
       "        if (typeof require === 'undefined') {\n",
       "            setTimeout(midiPlayerDiv12486_play, 2000);\n",
       "        } else {\n",
       "            midiPlayerDiv12486_play();\n",
       "        }\n",
       "        </script>"
      ],
      "text/plain": [
       "<IPython.core.display.HTML object>"
      ]
     },
     "metadata": {},
     "output_type": "display_data"
    }
   ],
   "source": [
    "gen_tokens_fwd = model_f.generate(\n",
    "    idx=torch.zeros((1, 1), dtype=torch.long).to(device),\n",
    "    max_length=100  # Generate sequence\n",
    ")[0].tolist()\n",
    "\n",
    "# Convert tokens to MIDI\n",
    "gen_stream = sequence_to_score(tokens_to_sequence(gen_tokens_fwd))\n",
    "gen_stream.show('midi')"
   ]
  },
  {
   "cell_type": "code",
   "execution_count": 18,
   "metadata": {},
   "outputs": [],
   "source": [
    "def splice_melody(melody: stream.Stream,\n",
    "                  past_context=6, # in number of notes or rests\n",
    "                  future_context=8, # in timesteps: 24ths of a quarter note\n",
    "                  max_tokens=20,\n",
    "                  segment_length=6,\n",
    "                  crossover_threshold=24) -> stream.Stream:\n",
    "    \n",
    "    len_split = segment_length * 24\n",
    "    out = []\n",
    "    out_fwd = []\n",
    "    out_back = []\n",
    "    pos = 0  # position in melody (in 24ths of a quarter note)\n",
    "    pos_i = 0 # left boundary for current segment\n",
    "    pos_j = len_split # right boundary\n",
    "    idx = 0  # idx for forward model\n",
    "    take = 'melody'\n",
    "    \n",
    "    while pos < melody.duration.quarterLength * 24:\n",
    "        if take == 'melody':\n",
    "            if pos_i > len_split:\n",
    "                # print(\"end melody segment: len_split\")\n",
    "                # use the melody segments surrounding the slice to generate context\n",
    "                # generate separate contexts for each models\n",
    "                context_forward = make_tokens(score_to_sequence(out[-past_context:]))\n",
    "\n",
    "                # use element index to get future context for backward model\n",
    "                context_backward = make_tokens(score_to_sequence(\n",
    "                    melody.flatten().notesAndRests.getElementsByOffset(\n",
    "                        ((pos + len_split) / 24) + 1,\n",
    "                        ((pos + len_split) / 24) + future_context\n",
    "                    )[::-1] # reverse the context\n",
    "                ))\n",
    "                # if backward context is empty, pad with rests\n",
    "                if len(context_backward) == 0:\n",
    "                    final_rests = []\n",
    "                    for i in range(future_context):\n",
    "                        final_rests.append(note.Rest(quarterLength=1))\n",
    "                    context_backward = make_tokens(score_to_sequence(final_rests))\n",
    "\n",
    "                gen_tokens_fwd = sequence_to_score(tokens_to_sequence(model_f.generate(\n",
    "                    idx=torch.tensor(context_forward, dtype=torch.long).unsqueeze(0).to(device),\n",
    "                    max_length=max_tokens\n",
    "                )[0].tolist())).flatten().notesAndRests\n",
    "\n",
    "                gen_tokens_back = sequence_to_score(tokens_to_sequence(model_b.generate(\n",
    "                    idx=torch.tensor(context_backward, dtype=torch.long).unsqueeze(0).to(device),\n",
    "                    max_length=max_tokens\n",
    "                )[0].tolist())[::-1]).flatten().notesAndRests\n",
    "\n",
    "                # print(\"generated tokens\")\n",
    "                pos_i = pos\n",
    "                pos_j = pos + len_split\n",
    "                out_fwd = []\n",
    "                out_back = []\n",
    "                idx = 0\n",
    "                take = 'model'\n",
    "                continue\n",
    "\n",
    "            # take next element from melody\n",
    "            elem_fwd = melody.flatten().getElementAtOrBefore(pos / 24)\n",
    "            if elem_fwd is None:\n",
    "                break\n",
    "            out.append(elem_fwd)\n",
    "            pos += int(elem_fwd.quarterLength * 24)\n",
    "            pos_i += int(elem_fwd.quarterLength * 24)\n",
    "            \n",
    "        else:\n",
    "            if pos_j - pos_i < crossover_threshold:\n",
    "                # print(\"end generated segment: crossover.\")\n",
    "                # print(f\"out_fwd: [{len(out_fwd)}]\")\n",
    "                # print(\"middle rest duration:\", max(0, pos_j - pos_i) / 24)\n",
    "                # print(f\"out_back: [{len(out_back)}]\")\n",
    "                middlerest_dur = max(0, pos_j - pos_i) / 24\n",
    "                for i in range(len(out_back)):\n",
    "                    out_back[i].offset -= middlerest_dur\n",
    "\n",
    "                out.extend(out_fwd)\n",
    "                out.append(note.Rest(quarterLength=middlerest_dur))\n",
    "                out.extend(out_back)\n",
    "                # print(f\"out: [{len(out)}]\")\n",
    "                pos_i = 0\n",
    "                pos += len_split\n",
    "                take = 'melody'\n",
    "                continue\n",
    "                \n",
    "            # Get next elem by index\n",
    "            elem_fwd = gen_tokens_fwd[idx]\n",
    "            \n",
    "            # Create a copy of the element to prevent ID conflicts\n",
    "            if isinstance(elem_fwd, note.Note):\n",
    "                elem_fwd = note.Note(pitch=elem_fwd.pitch, quarterLength=elem_fwd.quarterLength)\n",
    "            elif isinstance(elem_fwd, note.Rest):\n",
    "                elem_fwd = note.Rest(quarterLength=elem_fwd.quarterLength)\n",
    "            \n",
    "            elem_fwd.offset = pos_i / 24 # Set offset\n",
    "            pos_i += int(elem_fwd.quarterLength * 24) # Then increment position\n",
    "            out_fwd.append(elem_fwd) # Then append\n",
    "\n",
    "            elem_back = gen_tokens_back[idx]\n",
    "            if isinstance(elem_back, note.Note):\n",
    "                elem_back = note.Note(pitch=elem_back.pitch, quarterLength=elem_back.quarterLength)\n",
    "            elif isinstance(elem_back, note.Rest):\n",
    "                elem_back = note.Rest(quarterLength=elem_back.quarterLength)\n",
    "            \n",
    "            pos_j -= int(elem_back.quarterLength * 24) # Decrement position\n",
    "            elem_back.offset = pos_j / 24 # Then set offset\n",
    "            out_back.insert(0, elem_back) # Then append\n",
    "\n",
    "            idx += 1  # Increment index for both streams\n",
    "            if idx >= max_tokens:\n",
    "                # print(\"end generated segment: token limit reached.\")\n",
    "                # print(f\"out_fwd: {out_fwd}\")\n",
    "                # print(f\"out_back: {out_back}\")\n",
    "                out.extend(out_fwd + out_back)\n",
    "                # print(f\"out: {out}\")\n",
    "                pos += len_split\n",
    "                take = 'melody'\n",
    "                continue\n",
    "    \n",
    "    return stream.Stream(out)\n"
   ]
  },
  {
   "cell_type": "code",
   "execution_count": 19,
   "metadata": {},
   "outputs": [
    {
     "data": {
      "text/html": [
       "\n",
       "        <div id=\"midiPlayerDiv13572\"></div>\n",
       "        <link rel=\"stylesheet\" href=\"https://cuthbertLab.github.io/music21j/css/m21.css\">\n",
       "        \n",
       "        <script\n",
       "        src=\"https://cdnjs.cloudflare.com/ajax/libs/require.js/2.3.6/require.min.js\"\n",
       "        ></script>\n",
       "    \n",
       "        <script>\n",
       "        function midiPlayerDiv13572_play() {\n",
       "            const rq = require.config({\n",
       "                paths: {\n",
       "                    'music21': 'https://cuthbertLab.github.io/music21j/releases/music21.debug',\n",
       "                }\n",
       "            });\n",
       "            rq(['music21'], function(music21) {\n",
       "                mp = new music21.miditools.MidiPlayer();\n",
       "                mp.addPlayer(\"#midiPlayerDiv13572\");\n",
       "                mp.base64Load(\"data:audio/midi;base64,TVRoZAAAAAYAAQACJ2BNVHJrAAAAFAD/UQMHoSAA/1gEBAIYCM5g/y8ATVRyawAAAuUA/wMAAOAAQIHEcJBIX5NYgEgAAJBGX5NYgEYAAJBIX7sIgEgAk1iQQV/iOIBBAOI4kElfk1iASQAAkEhfk1iASAAAkElfk1iASQCTWJBIX5NYgEgAk1iQRl/2EIBGAM5gkEZazmCARgAAkEZapzCARgCB7CCQRVrOYIBFAACQPFqnMIA8AACQPlqnMIA+AACQQVqnMIBBAACQRFqnMIBEAACQSVqnMIBJAACQR1qaIIBHAI0QkEhfzmCASAAAkEFfzmCAQQCBiWiQSF+TWIBIAACQSV+TWIBJAJNYkEhfk1iASACTWJBGX/YQgEYAzmCQSV+TWIBJAACQSF+TWIBIAACQSV/OYIBJAACQQV/OYIBBAACQSFqTWIBIAACQSVrOYIBJAACQQVrOYIBBAACQPVqnMIA9AACQQFqnMIBAAACQQlqTWIBCAACQRFqTWIBEAM5gkEZazmCARgAAkEdapzCARwAAkEJapzCAQgCnMJA/Ws5ggD8AAJBBWqcwgEEAgYlokEhfk1iASACTWJBGX/YQgEYAzmCQSV+TWIBJAACQSF+TWIBIAACQSV/OYIBJAACQQV/OYIBBAPYQkEZfk1iARgAAkERfk1iARAAAkEZfk1iARgAAkEZak1iARgAAkERak1iARAAAkEZak1iARgAAkEdak1iARwAAkEdak1iARwAAkD1ak1iAPQAAkEFak1iAQQAAkD9ak1iAPwAAkERak1iARAAAkEhak1iASAAAkEZak1iARgAAkEdapzCARwAAkEhapzCASAAAkEpapzCASgAAkEhapzCASAAAkEhapzCASAAAkDtapzCAOwAAkD1apzCAPQAAkDxapzCAPAAAkDtapzCAOwAAkD5apzCAPgAAkDxapzCAPAAAkEFfzmCAQQAAkElfzmCASQAAkEhfgYlogEgAk1iQSF+7CIBIAACQSV+7CIBJAJogkEZfk1iARgAAkEhfgewggEgAzmD/LwA=\");\n",
       "            });\n",
       "        }\n",
       "        if (typeof require === 'undefined') {\n",
       "            setTimeout(midiPlayerDiv13572_play, 2000);\n",
       "        } else {\n",
       "            midiPlayerDiv13572_play();\n",
       "        }\n",
       "        </script>"
      ],
      "text/plain": [
       "<IPython.core.display.HTML object>"
      ]
     },
     "metadata": {},
     "output_type": "display_data"
    }
   ],
   "source": [
    "res_melody = splice_melody(melody_in,\n",
    "                           past_context=3,\n",
    "                           future_context=2,\n",
    "                           max_tokens=20,\n",
    "                           segment_length = 9,\n",
    "                           crossover_threshold=25)\n",
    "\n",
    "out_score = stream.Score()\n",
    "out_score.insert(0, res_melody)\n",
    "# out_score.insert(0, simple_triads.transpose(-12))\n",
    "\n",
    "out_score.show('midi')"
   ]
  },
  {
   "cell_type": "code",
   "execution_count": 20,
   "metadata": {},
   "outputs": [
    {
     "data": {
      "text/plain": [
       "'/mnt/c/Users/jwest/Desktop/algocomps/comp2-markov/generations/output_spliced.mid'"
      ]
     },
     "execution_count": 20,
     "metadata": {},
     "output_type": "execute_result"
    }
   ],
   "source": [
    "out_score.write('midi', output_path + 'output_spliced.mid')"
   ]
  }
 ],
 "metadata": {
  "kernelspec": {
   "display_name": "algocomps-env",
   "language": "python",
   "name": "python3"
  },
  "language_info": {
   "codemirror_mode": {
    "name": "ipython",
    "version": 3
   },
   "file_extension": ".py",
   "mimetype": "text/x-python",
   "name": "python",
   "nbconvert_exporter": "python",
   "pygments_lexer": "ipython3",
   "version": "3.12.3"
  }
 },
 "nbformat": 4,
 "nbformat_minor": 2
}

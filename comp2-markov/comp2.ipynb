{
 "cells": [
  {
   "cell_type": "code",
   "execution_count": 9,
   "metadata": {},
   "outputs": [],
   "source": [
    "from music21 import *\n",
    "from comp2 import *"
   ]
  },
  {
   "cell_type": "code",
   "execution_count": 10,
   "metadata": {},
   "outputs": [
    {
     "name": "stdout",
     "output_type": "stream",
     "text": [
      "Original melody:\n"
     ]
    },
    {
     "data": {
      "text/html": [
       "\n",
       "        <div id=\"midiPlayerDiv8169\"></div>\n",
       "        <link rel=\"stylesheet\" href=\"https://cuthbertLab.github.io/music21j/css/m21.css\">\n",
       "        \n",
       "        <script\n",
       "        src=\"https://cdnjs.cloudflare.com/ajax/libs/require.js/2.3.6/require.min.js\"\n",
       "        ></script>\n",
       "    \n",
       "        <script>\n",
       "        function midiPlayerDiv8169_play() {\n",
       "            const rq = require.config({\n",
       "                paths: {\n",
       "                    'music21': 'https://cuthbertLab.github.io/music21j/releases/music21.debug',\n",
       "                }\n",
       "            });\n",
       "            rq(['music21'], function(music21) {\n",
       "                mp = new music21.miditools.MidiPlayer();\n",
       "                mp.addPlayer(\"#midiPlayerDiv8169\");\n",
       "                mp.base64Load(\"data:audio/midi;base64,TVRoZAAAAAYAAQACJ2BNVHJrAAAAFAD/UQMHoSAA/1gEBAIYCM5g/y8ATVRyawAABJAA/wMAAOAAQIGdQJBDdqcwgEMAAJBGa5NYgEYAAJBDebsIgEMA9hCQQW2nMIBBAACQP2KnMIA/AACQQ2SnMIBDAACQQW67CIBBAJNYkD9upzCAPwCBnUCQQXCTWIBBAACQQWenMIBBAACQQXu7CIBBAKcwkEFxpzCAQQAAkEN8pzCAQwAAkEFvuwiAQQCTWJA/bs5ggD8AgewgkEN9pzCAQwAAkEZtk1iARgAAkEhupzCASACTWJBDYacwgEMAAJBBfKcwgEEAAJA/bKcwgD8AAJBDZqcwgEMAk1iQQXGnMIBBAJNYkEFvpzCAQQAAkD9ypzCAPwCnMJA8facwgDwAAJA/a5NYgD8AAJBBZbsIgEEApzCQQWanMIBBAACQP2KnMIA/AACQQW67CIBBAJNYkEFupzCAQQAAkD9xk1iAPwAAkENz4jiAQwCCk1CQQ2+nMIBDAACQQ3OnMIBDAACQRnmTWIBGAACQQ23iOIBDAKcwkD9qpzCAPwAAkEFlpzCAQQAAkD9upzCAPwAAkEN3pzCAQwAAkEFwuwiAQQCTWJA/cKcwgD8A9hCQQWOnMIBBAACQQXqnMIBBAACQQWWnMIBBAACQQXinMIBBAACQP22nMIA/AACQQ2SnMIBDAACQQWy7CIBBAJNYkD9vzmCAPwCB7CCQQ2enMIBDAACQQ1+nMIBDAACQRmiTWIBGAACQSHm7CIBIAKcwkEFupzCAQQAAkD9vpzCAPwAAkENwpzCAQwCTWJBBYqcwgEEAk1iQQW+nMIBBAACQP3enMIA/AKcwkDxxk1iAPAAAkD9upzCAPwCTWJBBaLsIgEEAk1iQQW6nMIBBAACQP2ynMIA/AACQQW6nMIBBAKcwkEFupzCAQQAAkD96k1iAPwAAkENrgbEYgEMApzCQQWqnMIBBAJNYkENtuwiAQwCnMJBEZacwgEQAAJBEZqcwgEQAAJBEbpNYgEQAAJBEYKcwgEQAk1iQQ2qnMIBDAACQQXWnMIBBAACQP2+nMIA/AACQP2+nMIA/AACQQWWnMIBBAACQQ3inMIBDAACQQXSnMIBBAKcwkEF1pzCAQQCTWJBDe6cwgEMAk1iQRGynMIBEAKcwkERtpzCARAAAkER2pzCARAAAkERppzCARAAAkENupzCAQwAAkEF5k1iAQQAAkD98pzCAPwCTWJBDaKcwgEMAAJBBec5ggEEApzCQQXDOYIBBAJNYkENkpzCAQwCTWJBEY7sIgEQAk1iQRHGnMIBEAACQRG+TWIBEAACQRF+nMIBEAJNYkENupzCAQwAAkEFxpzCAQQAAkD9tpzCAPwAAkD94pzCAPwAAkEFwpzCAQQAAkENupzCAQwAAkEFupzCAQQCnMJBBbacwgEEAk1iQQ22nMIBDAJNYkERupzCARACTWJBDcacwgEMAk1iQRG6nMIBEAACQRmqnMIBGAJNYkERkpzCARACTWJBIe6cwgEgAAJBIX4GdQIBIAM5gkEFupzCAQQAAkD9uk1iAPwAAkEFupzCAQQCTWJA/eacwgD8AAJA/fIGdQIA/AM5g/y8A\");\n",
       "            });\n",
       "        }\n",
       "        if (typeof require === 'undefined') {\n",
       "            setTimeout(midiPlayerDiv8169_play, 2000);\n",
       "        } else {\n",
       "            midiPlayerDiv8169_play();\n",
       "        }\n",
       "        </script>"
      ],
      "text/plain": [
       "<IPython.core.display.HTML object>"
      ]
     },
     "metadata": {},
     "output_type": "display_data"
    }
   ],
   "source": [
    "melody_in: stream.Stream = parse_midi(\"example_inputs/eyeofthetiger.mid\")\n",
    "\n",
    "print(\"Original melody:\")\n",
    "melody_in.show('midi');"
   ]
  },
  {
   "cell_type": "code",
   "execution_count": 11,
   "metadata": {},
   "outputs": [
    {
     "name": "stdout",
     "output_type": "stream",
     "text": [
      "Simple triads:\n",
      "['iii', 'ii5#2', 'ii5#2', 'ii5#2', 'iii', 'iii', 'ii5#2', 'iii', 'iii', 'ii5#2', 'ii5#2', 'ii5#2', 'iii', 'iii', 'ii5#2', 'iii', 'vi+64', 'I', 'vi+64', 'iii', 'vi+64', 'I', 'vi+64', 'vi6', 'ii5#2']\n"
     ]
    }
   ],
   "source": [
    "print(\"Simple triads:\")\n",
    "simple_triads = get_triads(melody_in)"
   ]
  },
  {
   "cell_type": "code",
   "execution_count": 12,
   "metadata": {},
   "outputs": [
    {
     "data": {
      "text/html": [
       "\n",
       "        <div id=\"midiPlayerDiv11614\"></div>\n",
       "        <link rel=\"stylesheet\" href=\"https://cuthbertLab.github.io/music21j/css/m21.css\">\n",
       "        \n",
       "        <script\n",
       "        src=\"https://cdnjs.cloudflare.com/ajax/libs/require.js/2.3.6/require.min.js\"\n",
       "        ></script>\n",
       "    \n",
       "        <script>\n",
       "        function midiPlayerDiv11614_play() {\n",
       "            const rq = require.config({\n",
       "                paths: {\n",
       "                    'music21': 'https://cuthbertLab.github.io/music21j/releases/music21.debug',\n",
       "                }\n",
       "            });\n",
       "            rq(['music21'], function(music21) {\n",
       "                mp = new music21.miditools.MidiPlayer();\n",
       "                mp.addPlayer(\"#midiPlayerDiv11614\");\n",
       "                mp.base64Load(\"data:audio/midi;base64,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\");\n",
       "            });\n",
       "        }\n",
       "        if (typeof require === 'undefined') {\n",
       "            setTimeout(midiPlayerDiv11614_play, 2000);\n",
       "        } else {\n",
       "            midiPlayerDiv11614_play();\n",
       "        }\n",
       "        </script>"
      ],
      "text/plain": [
       "<IPython.core.display.HTML object>"
      ]
     },
     "metadata": {},
     "output_type": "display_data"
    }
   ],
   "source": [
    "out_score = stream.Score()\n",
    "out_score.insert(0, melody_in)\n",
    "out_score.insert(0, simple_triads)\n",
    "\n",
    "out_score.show('midi')"
   ]
  }
 ],
 "metadata": {
  "kernelspec": {
   "display_name": "algocomp-env",
   "language": "python",
   "name": "python3"
  },
  "language_info": {
   "codemirror_mode": {
    "name": "ipython",
    "version": 3
   },
   "file_extension": ".py",
   "mimetype": "text/x-python",
   "name": "python",
   "nbconvert_exporter": "python",
   "pygments_lexer": "ipython3",
   "version": "3.12.9"
  }
 },
 "nbformat": 4,
 "nbformat_minor": 2
}

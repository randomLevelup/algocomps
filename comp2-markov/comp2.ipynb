{
 "cells": [
  {
   "cell_type": "code",
   "execution_count": 40,
   "metadata": {},
   "outputs": [],
   "source": [
    "from music21 import *\n",
    "from comp2 import *"
   ]
  },
  {
   "cell_type": "code",
   "execution_count": 41,
   "metadata": {},
   "outputs": [
    {
     "name": "stdout",
     "output_type": "stream",
     "text": [
      "Original melody:\n"
     ]
    },
    {
     "data": {
      "text/html": [
       "\n",
       "        <div id=\"midiPlayerDiv42857\"></div>\n",
       "        <link rel=\"stylesheet\" href=\"https://cuthbertLab.github.io/music21j/css/m21.css\">\n",
       "        \n",
       "        <script\n",
       "        src=\"https://cdnjs.cloudflare.com/ajax/libs/require.js/2.3.6/require.min.js\"\n",
       "        ></script>\n",
       "    \n",
       "        <script>\n",
       "        function midiPlayerDiv42857_play() {\n",
       "            const rq = require.config({\n",
       "                paths: {\n",
       "                    'music21': 'https://cuthbertLab.github.io/music21j/releases/music21.debug',\n",
       "                }\n",
       "            });\n",
       "            rq(['music21'], function(music21) {\n",
       "                mp = new music21.miditools.MidiPlayer();\n",
       "                mp.addPlayer(\"#midiPlayerDiv42857\");\n",
       "                mp.base64Load(\"data:audio/midi;base64,TVRoZAAAAAYAAQACJ2BNVHJrAAAAFAD/UQMHoSAA/1gEBAIYCM5g/y8ATVRyawAABJAA/wMAAOAAQIGdQJBHdqcwgEcAAJBKa5NYgEoAAJBHebsIgEcA9hCQRW2nMIBFAACQQ2KnMIBDAACQR2SnMIBHAACQRW67CIBFAJNYkENupzCAQwCBnUCQRXCTWIBFAACQRWenMIBFAACQRXu7CIBFAKcwkEVxpzCARQAAkEd8pzCARwAAkEVvuwiARQCTWJBDbs5ggEMAgewgkEd9pzCARwAAkEptk1iASgAAkExupzCATACTWJBHYacwgEcAAJBFfKcwgEUAAJBDbKcwgEMAAJBHZqcwgEcAk1iQRXGnMIBFAJNYkEVvpzCARQAAkENypzCAQwCnMJBAfacwgEAAAJBDa5NYgEMAAJBFZbsIgEUApzCQRWanMIBFAACQQ2KnMIBDAACQRW67CIBFAJNYkEVupzCARQAAkENxk1iAQwAAkEdz4jiARwCCk1CQR2+nMIBHAACQR3OnMIBHAACQSnmTWIBKAACQR23iOIBHAKcwkENqpzCAQwAAkEVlpzCARQAAkENupzCAQwAAkEd3pzCARwAAkEVwuwiARQCTWJBDcKcwgEMA9hCQRWOnMIBFAACQRXqnMIBFAACQRWWnMIBFAACQRXinMIBFAACQQ22nMIBDAACQR2SnMIBHAACQRWy7CIBFAJNYkENvzmCAQwCB7CCQR2enMIBHAACQR1+nMIBHAACQSmiTWIBKAACQTHm7CIBMAKcwkEVupzCARQAAkENvpzCAQwAAkEdwpzCARwCTWJBFYqcwgEUAk1iQRW+nMIBFAACQQ3enMIBDAKcwkEBxk1iAQAAAkENupzCAQwCTWJBFaLsIgEUAk1iQRW6nMIBFAACQQ2ynMIBDAACQRW6nMIBFAKcwkEVupzCARQAAkEN6k1iAQwAAkEdrgbEYgEcApzCQRWqnMIBFAJNYkEdtuwiARwCnMJBIZacwgEgAAJBIZqcwgEgAAJBIbpNYgEgAAJBIYKcwgEgAk1iQR2qnMIBHAACQRXWnMIBFAACQQ2+nMIBDAACQQ2+nMIBDAACQRWWnMIBFAACQR3inMIBHAACQRXSnMIBFAKcwkEV1pzCARQCTWJBHe6cwgEcAk1iQSGynMIBIAKcwkEhtpzCASAAAkEh2pzCASAAAkEhppzCASAAAkEdupzCARwAAkEV5k1iARQAAkEN8pzCAQwCTWJBHaKcwgEcAAJBFec5ggEUApzCQRXDOYIBFAJNYkEdkpzCARwCTWJBIY7sIgEgAk1iQSHGnMIBIAACQSG+TWIBIAACQSF+nMIBIAJNYkEdupzCARwAAkEVxpzCARQAAkENtpzCAQwAAkEN4pzCAQwAAkEVwpzCARQAAkEdupzCARwAAkEVupzCARQCnMJBFbacwgEUAk1iQR22nMIBHAJNYkEhupzCASACTWJBHcacwgEcAk1iQSG6nMIBIAACQSmqnMIBKAJNYkEhkpzCASACTWJBMe6cwgEwAAJBMX4GdQIBMAM5gkEVupzCARQAAkENuk1iAQwAAkEVupzCARQCTWJBDeacwgEMAAJBDfIGdQIBDAM5g/y8A\");\n",
       "            });\n",
       "        }\n",
       "        if (typeof require === 'undefined') {\n",
       "            setTimeout(midiPlayerDiv42857_play, 2000);\n",
       "        } else {\n",
       "            midiPlayerDiv42857_play();\n",
       "        }\n",
       "        </script>"
      ],
      "text/plain": [
       "<IPython.core.display.HTML object>"
      ]
     },
     "metadata": {},
     "output_type": "display_data"
    }
   ],
   "source": [
    "melody_in: stream.Stream = parse_midi(\"example_inputs/eyeofthetiger.mid\")\n",
    "melody_in = melody_in.transpose(4)\n",
    "\n",
    "print(\"Original melody:\")\n",
    "melody_in.show('midi');"
   ]
  },
  {
   "cell_type": "code",
   "execution_count": 42,
   "metadata": {},
   "outputs": [
    {
     "name": "stdout",
     "output_type": "stream",
     "text": [
      "Simple triads:\n",
      "['iii', 'ii', 'ii', 'ii', 'iii', 'iii', 'ii', 'iii', 'iii', 'ii', 'ii', 'ii', 'iii', 'iii', 'ii', 'iii', 'IV', 'I', 'IV', 'iii', 'IV', 'I', 'IV', 'vi', 'ii']\n"
     ]
    }
   ],
   "source": [
    "print(\"Simple triads:\")\n",
    "simple_triads = get_triads(melody_in)"
   ]
  },
  {
   "cell_type": "code",
   "execution_count": 43,
   "metadata": {},
   "outputs": [
    {
     "data": {
      "text/html": [
       "\n",
       "        <div id=\"midiPlayerDiv45574\"></div>\n",
       "        <link rel=\"stylesheet\" href=\"https://cuthbertLab.github.io/music21j/css/m21.css\">\n",
       "        \n",
       "        <script\n",
       "        src=\"https://cdnjs.cloudflare.com/ajax/libs/require.js/2.3.6/require.min.js\"\n",
       "        ></script>\n",
       "    \n",
       "        <script>\n",
       "        function midiPlayerDiv45574_play() {\n",
       "            const rq = require.config({\n",
       "                paths: {\n",
       "                    'music21': 'https://cuthbertLab.github.io/music21j/releases/music21.debug',\n",
       "                }\n",
       "            });\n",
       "            rq(['music21'], function(music21) {\n",
       "                mp = new music21.miditools.MidiPlayer();\n",
       "                mp.addPlayer(\"#midiPlayerDiv45574\");\n",
       "                mp.base64Load(\"data:audio/midi;base64,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\");\n",
       "            });\n",
       "        }\n",
       "        if (typeof require === 'undefined') {\n",
       "            setTimeout(midiPlayerDiv45574_play, 2000);\n",
       "        } else {\n",
       "            midiPlayerDiv45574_play();\n",
       "        }\n",
       "        </script>"
      ],
      "text/plain": [
       "<IPython.core.display.HTML object>"
      ]
     },
     "metadata": {},
     "output_type": "display_data"
    }
   ],
   "source": [
    "out_score = stream.Score()\n",
    "out_score.insert(0, melody_in)\n",
    "out_score.insert(0, simple_triads)\n",
    "\n",
    "out_score.show('midi')"
   ]
  },
  {
   "cell_type": "code",
   "execution_count": 44,
   "metadata": {},
   "outputs": [
    {
     "name": "stdout",
     "output_type": "stream",
     "text": [
      "Total number of states: 2744\n",
      "\n",
      "new chords:\n",
      "['iv', 'ii2', 'IV7', 'v76', 'iii', 'iiisus4', 'iisus4', 'VI2', 'iii2', 'ii2', 'ii2', 'ii', 'iii7', 'iii2', 'VI76', 'iii6', 'IV7', 'Isus4', 'IV', 'VII2', 'IV76', 'I2', 'IV', 'ii2', 'ii7']\n",
      "\n",
      "new chords:\n",
      "['vii7', 'ii76', 'IVsus4', 'VII', 'i7', 'vi76', 'VII2', 'VI2', 'iii2', 'vi7', 'ii7', 'ii2', 'iii2', 'iii7', 'vi6', 'vii2', 'IV2', 'iv76', 'IV2', 'iv2', 'iii7', 'I2', 'IV7', 'VII2', 'ii']\n",
      "\n",
      "new chords:\n",
      "['viisus4', 'vii2', 'vii2', 'iii2', 'vi2', 'IV7', 'VIIsus4', 'VI7', 'iii2', 'vi7', 'ii2', 'v2', 'iii2', 'iii2', 'vi2', 'I2', 'IV6', 'ii2', 'IV2', 'iv', 'iii2', 'vi76', 'IV2', 'iv7', 'iisus4']\n",
      "\n",
      "new chords:\n",
      "['iii', 'vii7', 'vii2', 'iii7', 'iisus4', 'ii6', 'iiisus4', 'VI2', 'V2', 'vi2', 'ii7', 'i', 'iv2', 'vi2', 'visus4', 'ii2', 'IV2', 'v7', 'v2', 'iv2', 'iii2', 'IV7', 'IV2', 'iv7', 'i2']\n",
      "\n",
      "new chords:\n",
      "['iii2', 'vii2', 'vi2', 'iii', 'v2', 'ii7', 'vi2', 'VI7', 'V2', 'vi', 'ii2', 'iv2', 'iv2', 'vii7', 'ii', 'v2', 'v', 'v', 'v76', 'VI2', 'iii2', 'IV2', 'IV2', 'iv2', 'i2']\n",
      "\n",
      "new chords:\n",
      "['iii7', 'vii2', 'vi2', 'iii7', 'v2', 'ii2', 'vi2', 'vii6', 'V', 'vi2', 'ii2', 'iii2', 'iv6', 'vii', 'VI2', 'vsus4', 'vi', 'v7', 'vi2', 'vi2', 'visus4', 'IV2', 'IV', 'iv7', 'i7']\n"
     ]
    },
    {
     "data": {
      "text/html": [
       "\n",
       "        <div id=\"midiPlayerDiv47124\"></div>\n",
       "        <link rel=\"stylesheet\" href=\"https://cuthbertLab.github.io/music21j/css/m21.css\">\n",
       "        \n",
       "        <script\n",
       "        src=\"https://cdnjs.cloudflare.com/ajax/libs/require.js/2.3.6/require.min.js\"\n",
       "        ></script>\n",
       "    \n",
       "        <script>\n",
       "        function midiPlayerDiv47124_play() {\n",
       "            const rq = require.config({\n",
       "                paths: {\n",
       "                    'music21': 'https://cuthbertLab.github.io/music21j/releases/music21.debug',\n",
       "                }\n",
       "            });\n",
       "            rq(['music21'], function(music21) {\n",
       "                mp = new music21.miditools.MidiPlayer();\n",
       "                mp.addPlayer(\"#midiPlayerDiv47124\");\n",
       "                mp.base64Load(\"data:audio/midi;base64,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\");\n",
       "            });\n",
       "        }\n",
       "        if (typeof require === 'undefined') {\n",
       "            setTimeout(midiPlayerDiv47124_play, 2000);\n",
       "        } else {\n",
       "            midiPlayerDiv47124_play();\n",
       "        }\n",
       "        </script>"
      ],
      "text/plain": [
       "<IPython.core.display.HTML object>"
      ]
     },
     "metadata": {},
     "output_type": "display_data"
    }
   ],
   "source": [
    "markov_table = generate_markov_table()\n",
    "substituted_chords = substitute_chords(simple_triads, markov_table)\n",
    "for pos_i in range(5):\n",
    "    substituted_chords = substitute_chords(substituted_chords, markov_table)\n",
    "\n",
    "out_score = stream.Score()\n",
    "out_score.insert(0, melody_in)\n",
    "out_score.insert(0, substituted_chords)\n",
    "\n",
    "out_score.show('midi')"
   ]
  },
  {
   "cell_type": "code",
   "execution_count": 45,
   "metadata": {},
   "outputs": [
    {
     "data": {
      "text/plain": [
       "<All keys matched successfully>"
      ]
     },
     "execution_count": 45,
     "metadata": {},
     "output_type": "execute_result"
    }
   ],
   "source": [
    "import torch\n",
    "from preprocess import *\n",
    "from bigram import BigramModel\n",
    "\n",
    "device = 'cuda' if torch.cuda.is_available() else 'cpu'\n",
    "\n",
    "model_save_path = '/mnt/c/Users/jwest/Desktop/algocomps/comp2-markov/parkergpt'\n",
    "checkpoint_f = torch.load(model_save_path + '_forward.pt', map_location=device)\n",
    "checkpoint_b = torch.load(model_save_path + '_backward.pt', map_location=device)\n",
    "\n",
    "model_f = BigramModel(\n",
    "    device=device,\n",
    "    block_size=checkpoint_f['block_size'],\n",
    "    vocab_size=checkpoint_f['vocab_size'],\n",
    "    n_embed=checkpoint_f['n_embed']\n",
    ")\n",
    "\n",
    "model_b = BigramModel(\n",
    "    device=device,\n",
    "    block_size=checkpoint_b['block_size'],\n",
    "    vocab_size=checkpoint_b['vocab_size'],\n",
    "    n_embed=checkpoint_b['n_embed']\n",
    ")\n",
    "\n",
    "# Load the saved weights\n",
    "model_f.load_state_dict(checkpoint_b['model_state_dict'])\n",
    "model_b.load_state_dict(checkpoint_b['model_state_dict'])"
   ]
  },
  {
   "cell_type": "code",
   "execution_count": 46,
   "metadata": {},
   "outputs": [
    {
     "data": {
      "text/html": [
       "\n",
       "        <div id=\"midiPlayerDiv47638\"></div>\n",
       "        <link rel=\"stylesheet\" href=\"https://cuthbertLab.github.io/music21j/css/m21.css\">\n",
       "        \n",
       "        <script\n",
       "        src=\"https://cdnjs.cloudflare.com/ajax/libs/require.js/2.3.6/require.min.js\"\n",
       "        ></script>\n",
       "    \n",
       "        <script>\n",
       "        function midiPlayerDiv47638_play() {\n",
       "            const rq = require.config({\n",
       "                paths: {\n",
       "                    'music21': 'https://cuthbertLab.github.io/music21j/releases/music21.debug',\n",
       "                }\n",
       "            });\n",
       "            rq(['music21'], function(music21) {\n",
       "                mp = new music21.miditools.MidiPlayer();\n",
       "                mp.addPlayer(\"#midiPlayerDiv47638\");\n",
       "                mp.base64Load(\"data:audio/midi;base64,TVRoZAAAAAYAAQACJ2BNVHJrAAAAFAD/UQMHoSAA/1gEBAIYCM5g/y8ATVRyawAAA2IA/wMAAOAAQM5gkEZazmCARgAAkENazmCAQwAAkEFazmCAQQAAkDxapzCAPAAAkD5apzCAPgAAkDpapzCAOgAAkD1apzCAPQAAkEFapzCAQQDOYJBFWqcwgEUAAJBFWqcwgEUAAJBHWqcwgEcAAJBIWqcwgEgAAJBEWqcwgEQAgcRwkEVapzCARQAAkEVapzCARQAAkEJapzCAQgAAkEpajRCASgDOYJA6Ws5ggDoAAJA5WpoggDkAAJA2WpoggDYAAJA3WpNYgDcAAJBBWrsIgEEAAJBDWpNYgEMAAJBCWpNYgEIAAJBEWs5ggEQAAJBBWqcwgEEAAJBCWqcwgEIAAJBAWqcwgEAAAJBDWqcwgEMAAJBDWs5ggEMAAJBCWpoggEIAAJBGWpoggEYAAJBEWpoggEQAAJBFWpoggEUAAJBEWpoggEQAAJBFWpoggEUAAJBCWpoggEIAAJBAWpNYgEAAAJBBWpNYgEEAAJBDWpNYgEMAAJBEWpNYgEQAAJBGWpNYgEYAAJBIWpNYgEgAAJBJWpNYgEkAAJBLWpNYgEsAAJBHWpNYgEcAAJBEWpNYgEQAAJA8WpNYgDwAAJBAWpNYgEAAAJA9WpNYgD0AAJA6WpNYgDoAAJA4WpNYgDgAzmCQQ1rOYIBDAACQQ1qTWIBDAACQP1qTWIA/AACQPVqTWIA9AACQQVqTWIBBAACQRFqTWIBEAACQRlqTWIBGAACQSFqTWIBIAACQSVqTWIBJAACQS1qTWIBLAACQSVqTWIBJAACQRlqTWIBGAACQRVqTWIBFAACQQ1qTWIBDAACQQlqTWIBCAM5gkEJapzCAQgAAkDtapzCAOwAAkD9apzCAPwAAkD1apzCAPQAAkEFapzCAQQAAkD9apzCAPwAAkDtapzCAOwAAkEFapzCAQQAAkEJapzCAQgAAkENamiCAQwAAkEJamiCAQgAAkENamiCAQwAAkERamiCARAAAkEdamiCARwAAkERamiCARAAAkEFamiCAQQAAkEBapzCAQAAAkEBak1iAQAAAkENazmCAQwAAkD5apzCAPgAAkEFapzCAQQAAkEJak1iAQgAAkDxak1iAPAAAkDxapzCAPAAAkDlapzCAOQAAkDhapzCAOAAAkDpapzCAOgDOYP8vAA==\");\n",
       "            });\n",
       "        }\n",
       "        if (typeof require === 'undefined') {\n",
       "            setTimeout(midiPlayerDiv47638_play, 2000);\n",
       "        } else {\n",
       "            midiPlayerDiv47638_play();\n",
       "        }\n",
       "        </script>"
      ],
      "text/plain": [
       "<IPython.core.display.HTML object>"
      ]
     },
     "metadata": {},
     "output_type": "display_data"
    }
   ],
   "source": [
    "gen_tokens_fwd = model_f.generate(\n",
    "    idx=torch.zeros((1, 1), dtype=torch.long).to(device),\n",
    "    max_length=100  # Generate sequence\n",
    ")[0].tolist()\n",
    "\n",
    "# Convert tokens to MIDI\n",
    "gen_stream = sequence_to_score(tokens_to_sequence(gen_tokens_fwd))\n",
    "gen_stream.show('midi')"
   ]
  },
  {
   "cell_type": "code",
   "execution_count": null,
   "metadata": {},
   "outputs": [],
   "source": [
    "def splice_melody(melody: stream.Stream, past_context=6, future_context=8, max_tokens=20) -> stream.Stream:\n",
    "    out = []\n",
    "    pos = 0  # position in melody (in 24ths of a quarter note)\n",
    "    pos_i = 0 # left boundary for current segment\n",
    "    pos_j = 144 # right boundary\n",
    "    idx = 0  # idx for forward model\n",
    "    take = 'melody'\n",
    "    \n",
    "    while pos < melody.duration.quarterLength * 24:\n",
    "        if take == 'melody':\n",
    "            if pos_i > 144:\n",
    "                # use the melody segments surrounding the slice to generate context\n",
    "                # generate separate contexts for each models\n",
    "                context_forward = make_tokens(score_to_sequence(out[-past_context:]))\n",
    "\n",
    "                # use element index to get future context for backward model\n",
    "                context_backward = make_tokens(score_to_sequence(\n",
    "                    melody.flatten().notesAndRests.getElementsByOffset(\n",
    "                        (pos + 144) / 24,\n",
    "                        ((pos + 144) / 24) + future_context\n",
    "                    )[::-1] # reverse the context\n",
    "                ))\n",
    "                # if backward context is empty, pad with rests\n",
    "                if len(context_backward) == 0:\n",
    "                    final_rests = []\n",
    "                    for i in range(future_context):\n",
    "                        final_rests.append(note.Rest(quarterLength=1))\n",
    "                    context_backward = make_tokens(score_to_sequence(final_rests))\n",
    "\n",
    "                print(f\"\\nforward context: {context_forward}\")\n",
    "                print(f\"backward context: {context_backward}\")\n",
    "\n",
    "                gen_tokens_fwd = sequence_to_score(tokens_to_sequence(model_f.generate(\n",
    "                    idx=torch.tensor(context_forward, dtype=torch.long).unsqueeze(0).to(device),\n",
    "                    max_length=max_tokens\n",
    "                )[0].tolist())).flatten().notesAndRests\n",
    "                print(f\"forward gen: {list(gen_tokens_fwd)}\")\n",
    "\n",
    "                gen_tokens_back = sequence_to_score(tokens_to_sequence(model_b.generate(\n",
    "                    idx=torch.tensor(context_backward, dtype=torch.long).unsqueeze(0).to(device),\n",
    "                    max_length=max_tokens\n",
    "                )[0].tolist())[::-1]).flatten().notesAndRests\n",
    "                print(f\"backward gen: {list(gen_tokens_back)}\")\n",
    "\n",
    "                pos_i = 0\n",
    "                pos_j = 144\n",
    "                idx = 0\n",
    "                take = 'model'\n",
    "                continue\n",
    "\n",
    "            # take next element from melody\n",
    "            elem_fwd = melody.flatten().getElementAtOrBefore(pos / 24)\n",
    "            if elem_fwd is None:\n",
    "                break\n",
    "            out.append(elem_fwd)\n",
    "            pos += int(elem_fwd.quarterLength * 24)\n",
    "            pos_i += int(elem_fwd.quarterLength * 24)\n",
    "            \n",
    "        else:\n",
    "            if pos_i < pos_j:\n",
    "                pos += 144\n",
    "                take = 'melody'\n",
    "                continue\n",
    "                \n",
    "            # Get elements by index\n",
    "            # for pos, pool in [(pos_i, gen_tokens_fwd), (pos_j, gen_tokens_back)]:\n",
    "\n",
    "            elem_fwd = gen_tokens_fwd[idx]\n",
    "            \n",
    "            # Create a copy of the element to prevent ID conflicts\n",
    "            if isinstance(elem_fwd, note.Note):\n",
    "                elem_fwd = note.Note(pitch=elem_fwd.pitch, quarterLength=elem_fwd.quarterLength)\n",
    "            elif isinstance(elem_fwd, note.Rest):\n",
    "                elem_fwd = note.Rest(quarterLength=elem_fwd.quarterLength)\n",
    "            \n",
    "            elem_fwd.offset = pos_i / 24 # Set offset\n",
    "            pos_i += int(elem_fwd.quarterLength * 24) # Then increment position\n",
    "            out.append(elem_fwd) # Then append\n",
    "            print(f\"forward gen: appending {elem_fwd}\")\n",
    "\n",
    "            elem_back = gen_tokens_back[idx]\n",
    "            if isinstance(elem_back, note.Note):\n",
    "                elem_back = note.Note(pitch=elem_back.pitch, quarterLength=elem_back.quarterLength)\n",
    "            elif isinstance(elem_back, note.Rest):\n",
    "                elem_back = note.Rest(quarterLength=elem_back.quarterLength)\n",
    "            \n",
    "            pos_j -= int(elem_back.quarterLength * 24) # Decrement position\n",
    "            elem_back.offset = pos_j / 24 # Then set offset\n",
    "            out.append(elem_back) # Then append\n",
    "            print(f\"backward gen: appending {elem_back}\")\n",
    "\n",
    "            idx += 1  # Increment index for both streams\n",
    "            if idx >= max_tokens:\n",
    "                pos += 0\n",
    "                take = 'melody'\n",
    "                continue\n",
    "                    \n",
    "    return stream.Stream(out)\n"
   ]
  },
  {
   "cell_type": "code",
   "execution_count": 73,
   "metadata": {},
   "outputs": [
    {
     "name": "stdout",
     "output_type": "stream",
     "text": [
      "\n",
      "forward context: [1843, 49, 37, 1787, 1737, 1837, 1793]\n",
      "backward context: [49, 49, 1749, 31]\n",
      "forward gen: [<music21.note.Note B>, <music21.note.Rest quarter>, <music21.note.Rest eighth>, <music21.note.Note A>, <music21.note.Note G>, <music21.note.Note B>, <music21.note.Note A>, <music21.note.Rest dotted-eighth>, <music21.note.Note C#>, <music21.note.Note E>, <music21.note.Note E->, <music21.note.Note D>, <music21.note.Note F#>, <music21.note.Note A>, <music21.note.Note C>, <music21.note.Rest eighth>, <music21.note.Rest quarter>, <music21.note.Note B>, <music21.note.Note F>, <music21.note.Note G#>, <music21.note.Note D>, <music21.note.Note F>, <music21.note.Note A>, <music21.note.Note A>, <music21.note.Note B>, <music21.note.Note B->, <music21.note.Note F#>]\n",
      "backward gen: [<music21.note.Note E->, <music21.note.Note B->, <music21.note.Note A>, <music21.note.Note B->, <music21.note.Note D>, <music21.note.Note G>, <music21.note.Note B->, <music21.note.Note C>, <music21.note.Note B>, <music21.note.Note A>, <music21.note.Note B->, <music21.note.Note G#>, <music21.note.Note F#>, <music21.note.Note E>, <music21.note.Note C>, <music21.note.Note B>, <music21.note.Note C>, <music21.note.Note D>, <music21.note.Note E->, <music21.note.Note F>, <music21.note.Rest 16th>, <music21.note.Note G>, <music21.note.Rest quarter>, <music21.note.Rest quarter>]\n",
      "\n",
      "forward context: [49, 49, 49, 1837, 1906, 1962, 31]\n",
      "backward context: [1731, 1787, 31, 1793, 1737, 1787, 37]\n",
      "forward gen: [<music21.note.Rest quarter>, <music21.note.Rest quarter>, <music21.note.Rest quarter>, <music21.note.Note B>, <music21.note.Note D>, <music21.note.Note E>, <music21.note.Rest 16th>, <music21.note.Note F>, <music21.note.Note F#>, <music21.note.Note E->, <music21.note.Note F>, <music21.note.Note F#>, <music21.note.Rest eighth>, <music21.note.Note G#>, <music21.note.Rest eighth>, <music21.note.Note F>, <music21.note.Note F#>, <music21.note.Note G#>, <music21.note.Note B>, <music21.note.Note B->, <music21.note.Note B>, <music21.note.Note C>, <music21.note.Note D>, <music21.note.Rest eighth>, <music21.note.Rest quarter>, <music21.note.Note C#>, <music21.note.Note E->]\n",
      "backward gen: [<music21.note.Note E->, <music21.note.Note B>, <music21.note.Note G#>, <music21.note.Note F>, <music21.note.Note E>, <music21.note.Note F#>, <music21.note.Note F>, <music21.note.Note G>, <music21.note.Note G>, <music21.note.Note A>, <music21.note.Note B->, <music21.note.Rest eighth>, <music21.note.Note E->, <music21.note.Rest quarter>, <music21.note.Rest quarter>, <music21.note.Rest quarter>, <music21.note.Rest quarter>, <music21.note.Rest quarter>, <music21.note.Rest quarter>, <music21.note.Rest quarter>, <music21.note.Rest eighth>, <music21.note.Note A>, <music21.note.Note G>, <music21.note.Note A>, <music21.note.Rest 16th>, <music21.note.Note A>, <music21.note.Note G>]\n",
      "\n",
      "forward context: [31, 1787, 1731, 1831, 1849, 49, 49, 49]\n",
      "backward context: [1787, 1787, 37, 49, 1737, 31]\n",
      "forward gen: [<music21.note.Rest 16th>, <music21.note.Note A>, <music21.note.Note G>, <music21.note.Note B>, <music21.note.Note B>, <music21.note.Rest quarter>, <music21.note.Rest quarter>, <music21.note.Rest quarter>, <music21.note.Rest quarter>, <music21.note.Note C#>, <music21.note.Note D>, <music21.note.Note B>, <music21.note.Note C#>, <music21.note.Note F>, <music21.note.Note D>, <music21.note.Note D>, <music21.note.Rest quarter>, <music21.note.Note C>, <music21.note.Note D>, <music21.note.Note D>, <music21.note.Note C>, <music21.note.Note B>, <music21.note.Note B->, <music21.note.Note F#>, <music21.note.Note F>, <music21.note.Note E>, <music21.note.Note B>, <music21.note.Note C>]\n",
      "backward gen: [<music21.note.Note E>, <music21.note.Note C>, <music21.note.Rest quarter>, <music21.note.Rest quarter>, <music21.note.Rest eighth>, <music21.note.Note B>, <music21.note.Rest quarter>, <music21.note.Rest eighth>, <music21.note.Note C#>, <music21.note.Note A>, <music21.note.Note B->, <music21.note.Note C>, <music21.note.Note A>, <music21.note.Note G>, <music21.note.Note F>, <music21.note.Note C>, <music21.note.Note C#>, <music21.note.Note E>, <music21.note.Note F>, <music21.note.Note E>, <music21.note.Rest 16th>, <music21.note.Note G>, <music21.note.Rest quarter>, <music21.note.Rest eighth>, <music21.note.Note A>, <music21.note.Note A>]\n",
      "\n",
      "forward context: [1787, 1787, 1787, 1737, 1837, 1787]\n",
      "backward context: [31, 1787, 31, 1837, 1737, 1787, 37]\n",
      "forward gen: [<music21.note.Note A>, <music21.note.Note A>, <music21.note.Note A>, <music21.note.Note G>, <music21.note.Note B>, <music21.note.Note A>, <music21.note.Note G>, <music21.note.Rest eighth>, <music21.note.Rest quarter>, <music21.note.Rest quarter>, <music21.note.Note A>, <music21.note.Note G#>, <music21.note.Note B->, <music21.note.Note E->, <music21.note.Note F>, <music21.note.Note E->, <music21.note.Note B>, <music21.note.Note B->, <music21.note.Note A>, <music21.note.Note C>, <music21.note.Note D>, <music21.note.Note G>, <music21.note.Note E>, <music21.note.Note C>, <music21.note.Note G>, <music21.note.Note F>]\n",
      "backward gen: [<music21.note.Note F>, <music21.note.Note E->, <music21.note.Note C>, <music21.note.Note E>, <music21.note.Note C>, <music21.note.Note G#>, <music21.note.Note B->, <music21.note.Note G#>, <music21.note.Note G>, <music21.note.Note F#>, <music21.note.Note D>, <music21.note.Note C>, <music21.note.Note C#>, <music21.note.Note F#>, <music21.note.Note G#>, <music21.note.Note G>, <music21.note.Rest quarter>, <music21.note.Rest quarter>, <music21.note.Rest eighth>, <music21.note.Note G>, <music21.note.Rest eighth>, <music21.note.Note A>, <music21.note.Note G>, <music21.note.Note B>, <music21.note.Rest 16th>, <music21.note.Note A>, <music21.note.Rest 16th>]\n",
      "\n",
      "forward context: [1737, 37, 1656, 1737, 31, 1793]\n",
      "backward context: [1862, 1856, 1862, 1862, 37, 1843, 31]\n",
      "forward gen: [<music21.note.Note G>, <music21.note.Rest eighth>, <music21.note.Note E>, <music21.note.Note G>, <music21.note.Rest 16th>, <music21.note.Note A>, <music21.note.Note D>, <music21.note.Note E->, <music21.note.Note F>, <music21.note.Note G#>, <music21.note.Note B>, <music21.note.Note B->, <music21.note.Note F#>, <music21.note.Note F>, <music21.note.Note F>, <music21.note.Note C#>, <music21.note.Note C>, <music21.note.Note F>, <music21.note.Note F#>, <music21.note.Note G>, <music21.note.Note A>, <music21.note.Note E->, <music21.note.Rest eighth>, <music21.note.Rest quarter>, <music21.note.Rest quarter>, <music21.note.Rest quarter>]\n",
      "backward gen: [<music21.note.Note C#>, <music21.note.Note B->, <music21.note.Note C#>, <music21.note.Note B>, <music21.note.Note G>, <music21.note.Note G#>, <music21.note.Note G>, <music21.note.Note B->, <music21.note.Note A>, <music21.note.Note F>, <music21.note.Note F#>, <music21.note.Note E>, <music21.note.Note E->, <music21.note.Note C#>, <music21.note.Note C#>, <music21.note.Note C>, <music21.note.Note F>, <music21.note.Note F>, <music21.note.Note F>, <music21.note.Rest quarter>, <music21.note.Rest 16th>, <music21.note.Note B>, <music21.note.Rest eighth>, <music21.note.Note C>, <music21.note.Note C>, <music21.note.Note C>, <music21.note.Note C>]\n",
      "\n",
      "forward context: [31, 1837, 1787, 1737, 1737, 1787]\n",
      "backward context: [1799, 37, 1799, 1837, 31, 1737, 1781]\n",
      "forward gen: [<music21.note.Rest 16th>, <music21.note.Note B>, <music21.note.Note A>, <music21.note.Note G>, <music21.note.Note G>, <music21.note.Note A>, <music21.note.Note C>, <music21.note.Note A>, <music21.note.Note D>, <music21.note.Note D>, <music21.note.Note D>, <music21.note.Note E->, <music21.note.Note G#>, <music21.note.Rest eighth>, <music21.note.Note B>, <music21.note.Note B>, <music21.note.Note C>, <music21.note.Rest eighth>, <music21.note.Note A>, <music21.note.Note A>, <music21.note.Note A>, <music21.note.Note A>, <music21.note.Note G>, <music21.note.Note C>, <music21.note.Note C#>, <music21.note.Note F>]\n",
      "backward gen: [<music21.note.Note C#>, <music21.note.Note B->, <music21.note.Note C>, <music21.note.Note B->, <music21.note.Rest quarter>, <music21.note.Rest eighth>, <music21.note.Note F>, <music21.note.Note F>, <music21.note.Note E->, <music21.note.Note C#>, <music21.note.Note B>, <music21.note.Rest quarter>, <music21.note.Rest quarter>, <music21.note.Note F#>, <music21.note.Note C#>, <music21.note.Note B->, <music21.note.Note G#>, <music21.note.Note B->, <music21.note.Note G>, <music21.note.Note G#>, <music21.note.Note A>, <music21.note.Note G>, <music21.note.Rest 16th>, <music21.note.Note B>, <music21.note.Note A>, <music21.note.Rest eighth>, <music21.note.Note A>]\n",
      "\n",
      "forward context: [31, 1837, 31, 1868, 31, 1862]\n",
      "backward context: [31, 1912, 1862, 31, 1837, 31, 1862, 31]\n",
      "forward gen: [<music21.note.Rest 16th>, <music21.note.Note B>, <music21.note.Rest 16th>, <music21.note.Note C>, <music21.note.Rest 16th>, <music21.note.Note C>, <music21.note.Note E>, <music21.note.Note B>, <music21.note.Note G#>, <music21.note.Note F>, <music21.note.Note E>, <music21.note.Rest eighth>, <music21.note.Rest quarter>, <music21.note.Rest quarter>, <music21.note.Rest quarter>, <music21.note.Rest quarter>, <music21.note.Note G#>, <music21.note.Note B->, <music21.note.Note C#>, <music21.note.Note C#>, <music21.note.Note A>, <music21.note.Note B>, <music21.note.Note C#>, <music21.note.Rest eighth>, <music21.note.Rest quarter>, <music21.note.Note F#>]\n",
      "backward gen: [<music21.note.Rest quarter>, <music21.note.Note B->, <music21.note.Note G#>, <music21.note.Note A>, <music21.note.Note B>, <music21.note.Note F>, <music21.note.Note D>, <music21.note.Note C#>, <music21.note.Note C>, <music21.note.Note B>, <music21.note.Note C#>, <music21.note.Note A>, <music21.note.Rest quarter>, <music21.note.Rest quarter>, <music21.note.Rest quarter>, <music21.note.Rest eighth>, <music21.note.Note E>, <music21.note.Note G>, <music21.note.Note F#>, <music21.note.Note G>, <music21.note.Rest 16th>, <music21.note.Note C>, <music21.note.Rest 16th>, <music21.note.Note B>, <music21.note.Rest 16th>, <music21.note.Note C>, <music21.note.Note D>, <music21.note.Rest 16th>]\n",
      "\n",
      "forward context: [1912, 31, 1862, 31, 1962, 1974, 1974]\n",
      "backward context: [49, 49, 49]\n",
      "forward gen: [<music21.note.Note D>, <music21.note.Rest 16th>, <music21.note.Note C>, <music21.note.Rest 16th>, <music21.note.Note E>, <music21.note.Note E>, <music21.note.Note E>, <music21.note.Note E>, <music21.note.Note B->, <music21.note.Note G#>, <music21.note.Rest quarter>, <music21.note.Note E->, <music21.note.Note B>, <music21.note.Note G>, <music21.note.Note G>, <music21.note.Note B->, <music21.note.Note C#>, <music21.note.Note C>, <music21.note.Note D>, <music21.note.Note E>, <music21.note.Note D>, <music21.note.Note F>, <music21.note.Note F#>, <music21.note.Note G>, <music21.note.Note G>, <music21.note.Note A>, <music21.note.Note B>]\n",
      "backward gen: [<music21.note.Note E->, <music21.note.Note C#>, <music21.note.Note D>, <music21.note.Note B>, <music21.note.Note A>, <music21.note.Note F#>, <music21.note.Note A>, <music21.note.Note B->, <music21.note.Note C#>, <music21.note.Note B>, <music21.note.Note B>, <music21.note.Note B->, <music21.note.Note C#>, <music21.note.Note B>, <music21.note.Note E->, <music21.note.Note C#>, <music21.note.Note F#>, <music21.note.Note F>, <music21.note.Rest quarter>, <music21.note.Rest quarter>, <music21.note.Rest quarter>, <music21.note.Rest quarter>, <music21.note.Rest quarter>]\n"
     ]
    },
    {
     "data": {
      "text/html": [
       "\n",
       "        <div id=\"midiPlayerDiv63904\"></div>\n",
       "        <link rel=\"stylesheet\" href=\"https://cuthbertLab.github.io/music21j/css/m21.css\">\n",
       "        \n",
       "        <script\n",
       "        src=\"https://cdnjs.cloudflare.com/ajax/libs/require.js/2.3.6/require.min.js\"\n",
       "        ></script>\n",
       "    \n",
       "        <script>\n",
       "        function midiPlayerDiv63904_play() {\n",
       "            const rq = require.config({\n",
       "                paths: {\n",
       "                    'music21': 'https://cuthbertLab.github.io/music21j/releases/music21.debug',\n",
       "                }\n",
       "            });\n",
       "            rq(['music21'], function(music21) {\n",
       "                mp = new music21.miditools.MidiPlayer();\n",
       "                mp.addPlayer(\"#midiPlayerDiv63904\");\n",
       "                mp.base64Load(\"data:audio/midi;base64,TVRoZAAAAAYAAQADJ2BNVHJrAAAAGgD/UQMHoSAA/1kCAQAA/1gEBAIYCM5g/y8ATVRyawAAAncA/wMAAOAAQIGdQJBHdqcwgEcAAJBKa5NYgEoAAJBHebsIgEcA9hCQRW2nMIBFAACQQ2KnMIBDAACQR2SnMIBHAACQRW67CIBFAIPEaJBFb7sIgEUAk1iQQ27OYIBDAIHsIJBHfacwgEcAAJBKbZNYgEoAAJBMbqcwgEwAhJNIkEVmpzCARQAAkENipzCAQwAAkEVuuwiARQCTWJBFbqcwgEUAAJBDcZNYgEMAAJBHc+I4gEcAhZ0wkEVwuwiARQCTWJBDcKcwgEMA9hCQRWOnMIBFAACQRXqnMIBFAACQRWWnMIBFAACQRXinMIBFAACQQ22nMIBDAACQR2SnMIBHAACQRWynMIBFAIPEaJBMebsIgEwApzCQRW6nMIBFAACQQ2+nMIBDAACQR3CnMIBHAJNYkEVipzCARQCTWJBFb6cwgEUAAJBDd6cwgEMApzCQQHGTWIBAAACQQ26nMIBDAJNYkEVouwiARQCDxGiQRWqnMIBFAJNYkEdtuwiARwCnMJBIZacwgEgAAJBIZqcwgEgAAJBIbpNYgEgAAJBIYKcwgEgAk1iQR2qnMIBHAACQRXWnMIBFAACQQ2+nMIBDAACQQ2+nMIBDAACQRWWnMIBFAIPYQJBFeZNYgEUAAJBDfKcwgEMAk1iQR2inMIBHAACQRXnOYIBFAKcwkEVwzmCARQCTWJBHZKcwgEcAk1iQSGO7CIBIAJNYkEhxpzCASACDxGiQR22nMIBHAJNYkEhupzCASACTWJBHcacwgEcAk1iQSG6nMIBIAACQSmqnMIBKAJNYkEhkpzCASACTWJBMe6cwgEwAAJBMX4GdQIBMAM5g/y8ATVRyawAAAxAA/wMAAOAAQM5gkDtaAJA+WgCQQloAkEVagrsAgDsAAIA+AACAQgAAgEUAAJBAWgCQQloAkEVaAJBJWoK7AIBAAACAQgAAgEUAAIBJAACQPloAkEBaAJBDWgCQR1qCuwCAPgAAgEAAAIBDAACARwAAkDtaAJA+WgCQQloAkEVagrsAgDsAAIA+AACAQgAAgEUAAJA8WgCQPloAkEFaAJBFWoK7AIA8AACAPgAAgEEAAIBFAACQN1oAkDlaAJA8WgCQQFqCuwCANwAAgDkAAIA8AACAQAAAkD5aAJBAWgCQQ1oAkEdagrsAgD4AAIBAAACAQwAAgEcAAJA5WgCQPVoAkEJagrsAgDkAAIA9AACAQgAAkD5aAJBCWgCQRVqCuwCAPgAAgEIAAIBFAACQPloAkEBaAJBDWgCQR1qCuwCAPgAAgEAAAIBDAACARwAAkDdaAJA5WgCQPFoAkEBagrsAgDcAAIA5AACAPAAAgEAAAJA5WgCQO1oAkD5aAJBCWoK7AIA5AACAOwAAgD4AAIBCAACQP1oAkENaAJBIWoK7AIA/AACAQwAAgEgAAJBCWgCQRVoAkElagrsAgEIAAIBFAACASQAAkD5aAJBAWgCQRFoAkEdagrsAgD4AAIBAAACARAAAgEcAAJA+WgCQQ1qCuwCAPgAAgEMAAJBAWgCQQ1oAkEdagrsAgEAAAIBDAACARwAAkD5aAJBBWgCQRVoAkEhagrsAgD4AAIBBAACARQAAgEgAAJA+WgCQQFoAkENaAJBHWoK7AIA+AACAQAAAgEMAAIBHAACQPloAkEBaAJBDWgCQR1qCuwCAPgAAgEAAAIBDAACARwAAkEBaAJBFWoK7AIBAAACARQAAkDtaAJA8WgCQQFoAkENagrsAgDsAAIA8AACAQAAAgEMAAJA8WgCQQFoAkENagrsAgDwAAIBAAACAQwAAkDxaAJA/WgCQQ1oAkEZagrsAgDwAAIA/AACAQwAAgEYAAJA3WgCQOloAkD5aAJBBWoK7AIA3AACAOgAAgD4AAIBBAM5g/y8A\");\n",
       "            });\n",
       "        }\n",
       "        if (typeof require === 'undefined') {\n",
       "            setTimeout(midiPlayerDiv63904_play, 2000);\n",
       "        } else {\n",
       "            midiPlayerDiv63904_play();\n",
       "        }\n",
       "        </script>"
      ],
      "text/plain": [
       "<IPython.core.display.HTML object>"
      ]
     },
     "metadata": {},
     "output_type": "display_data"
    }
   ],
   "source": [
    "res_melody = splice_melody(melody_in, past_context=6, future_context=3, max_tokens=20)\n",
    "\n",
    "out_score = stream.Score()\n",
    "out_score.insert(0, res_melody)\n",
    "out_score.insert(0, substituted_chords)\n",
    "\n",
    "out_score.show('midi')"
   ]
  },
  {
   "cell_type": "code",
   "execution_count": 74,
   "metadata": {},
   "outputs": [
    {
     "data": {
      "text/plain": [
       "'tiger_out.mid'"
      ]
     },
     "execution_count": 74,
     "metadata": {},
     "output_type": "execute_result"
    }
   ],
   "source": [
    "out_score.write('midi', 'tiger_out.mid')"
   ]
  }
 ],
 "metadata": {
  "kernelspec": {
   "display_name": "algocomps-env",
   "language": "python",
   "name": "python3"
  },
  "language_info": {
   "codemirror_mode": {
    "name": "ipython",
    "version": 3
   },
   "file_extension": ".py",
   "mimetype": "text/x-python",
   "name": "python",
   "nbconvert_exporter": "python",
   "pygments_lexer": "ipython3",
   "version": "3.12.3"
  }
 },
 "nbformat": 4,
 "nbformat_minor": 2
}

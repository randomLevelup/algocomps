{
 "cells": [
  {
   "cell_type": "code",
   "execution_count": null,
   "metadata": {},
   "outputs": [],
   "source": [
    "from music21 import *\n",
    "from comp2 import *"
   ]
  },
  {
   "cell_type": "code",
   "execution_count": null,
   "metadata": {},
   "outputs": [],
   "source": [
    "melody_in: stream.Stream = parse_midi(\"example_inputs/eyeofthetiger.mid\")\n",
    "\n",
    "print(\"Original melody:\")\n",
    "melody_in.show('midi');"
   ]
  },
  {
   "cell_type": "code",
   "execution_count": null,
   "metadata": {},
   "outputs": [],
   "source": [
    "print(\"Simple triads:\")\n",
    "simple_triads = get_triads(melody_in)"
   ]
  },
  {
   "cell_type": "code",
   "execution_count": null,
   "metadata": {},
   "outputs": [],
   "source": [
    "out_score = stream.Score()\n",
    "out_score.insert(0, melody_in)\n",
    "out_score.insert(0, simple_triads)\n",
    "\n",
    "out_score.show('midi')"
   ]
  },
  {
   "cell_type": "code",
   "execution_count": null,
   "metadata": {},
   "outputs": [],
   "source": [
    "markov_table = generate_markov_table()\n",
    "substituted_chords = substitute_chords(simple_triads, markov_table)\n",
    "for i in range(5):\n",
    "    substituted_chords = substitute_chords(substituted_chords, markov_table)\n",
    "\n",
    "out_score = stream.Score()\n",
    "out_score.insert(0, melody_in)\n",
    "out_score.insert(0, substituted_chords)\n",
    "\n",
    "out_score.show('midi')"
   ]
  },
  {
   "cell_type": "code",
   "execution_count": 2,
   "metadata": {},
   "outputs": [],
   "source": [
    "import tensorflow as tf\n",
    "from tensorflow.keras.layers import Embedding, MultiHeadAttention, Dense, Layer, LayerNormalization, Dropout\n",
    "from tensorflow.keras.models import Model"
   ]
  },
  {
   "cell_type": "code",
   "execution_count": null,
   "metadata": {},
   "outputs": [],
   "source": [
    "class Encoder(Layer):\n",
    "    def __init__(self, num_layers, d_model, num_heads, dff):\n",
    "        super().__init__()\n",
    "        self.layers = [\n",
    "            TransformerBlock(  # Custom layer\n",
    "                d_model, num_heads, dff,\n",
    "                bidirectional_attention=True  # ← Key modification\n",
    "            ) for _ in range(num_layers)\n",
    "        ]\n",
    "    \n",
    "    def call(self, x):\n",
    "        for layer in self.layers:\n",
    "            x = layer(x)\n",
    "        return x"
   ]
  },
  {
   "cell_type": "code",
   "execution_count": null,
   "metadata": {},
   "outputs": [],
   "source": [
    "class JazzTransformer(Model):\n",
    "    def __init__(self, num_layers=6, d_model=512, num_heads=8, dff=2048):\n",
    "        super().__init__()\n",
    "        self.encoder = Encoder(num_layers, d_model, num_heads, dff)\n",
    "        self.decoder = Decoder(num_layers, d_model, num_heads, dff)\n",
    "        self.forward_head = Dense(token_vocab_size)\n",
    "        self.backward_head = Dense(token_vocab_size)\n",
    "        \n",
    "    def call(self, inputs):\n",
    "        # Input shape: (batch_size, seq_len, d_model)\n",
    "        enc_output = self.encoder(inputs)\n",
    "        dec_output = self.decoder(enc_output)\n",
    "        \n",
    "        return {\n",
    "            \"forward\": self.forward_head(dec_output),\n",
    "            \"backward\": self.backward_head(dec_output)\n",
    "        }"
   ]
  }
 ],
 "metadata": {
  "kernelspec": {
   "display_name": "algocomps-env",
   "language": "python",
   "name": "python3"
  },
  "language_info": {
   "codemirror_mode": {
    "name": "ipython",
    "version": 3
   },
   "file_extension": ".py",
   "mimetype": "text/x-python",
   "name": "python",
   "nbconvert_exporter": "python",
   "pygments_lexer": "ipython3",
   "version": "3.12.3"
  }
 },
 "nbformat": 4,
 "nbformat_minor": 2
}

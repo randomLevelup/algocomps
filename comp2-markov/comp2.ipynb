{
 "cells": [
  {
   "cell_type": "code",
   "execution_count": 15,
   "metadata": {},
   "outputs": [],
   "source": [
    "from music21 import *\n",
    "from comp2 import *"
   ]
  },
  {
   "cell_type": "code",
   "execution_count": 16,
   "metadata": {},
   "outputs": [
    {
     "name": "stdout",
     "output_type": "stream",
     "text": [
      "Original melody:\n"
     ]
    },
    {
     "data": {
      "text/html": [
       "\n",
       "        <div id=\"midiPlayerDiv18140\"></div>\n",
       "        <link rel=\"stylesheet\" href=\"https://cuthbertLab.github.io/music21j/css/m21.css\">\n",
       "        \n",
       "        <script\n",
       "        src=\"https://cdnjs.cloudflare.com/ajax/libs/require.js/2.3.6/require.min.js\"\n",
       "        ></script>\n",
       "    \n",
       "        <script>\n",
       "        function midiPlayerDiv18140_play() {\n",
       "            const rq = require.config({\n",
       "                paths: {\n",
       "                    'music21': 'https://cuthbertLab.github.io/music21j/releases/music21.debug',\n",
       "                }\n",
       "            });\n",
       "            rq(['music21'], function(music21) {\n",
       "                mp = new music21.miditools.MidiPlayer();\n",
       "                mp.addPlayer(\"#midiPlayerDiv18140\");\n",
       "                mp.base64Load(\"data:audio/midi;base64,TVRoZAAAAAYAAQACJ2BNVHJrAAAAFAD/UQMHoSAA/1gEBAIYCM5g/y8ATVRyawAAAuUA/wMAAOAAQIHEcJBJX5NYgEkAAJBHX5NYgEcAAJBJX7sIgEkAk1iQQl/iOIBCAOI4kEpfk1iASgAAkElfk1iASQAAkEpfk1iASgCTWJBJX5NYgEkAk1iQR1/2EIBHAM5gkEpfk1iASgAAkElfk1iASQAAkEpfuwiASgCTWJBCX85ggEIA9hCQR1+TWIBHAACQRV+TWIBFAACQR1+TWIBHAJNYkEVfk1iARQCTWJBEX5NYgEQAk1iQR1+TWIBHAJNYkEVf9hCARQAAkElfk1iASQAAkEdfk1iARwAAkElfzmCASQAAkEJf4jiAQgDiOJBKX5NYgEoAAJBJX5NYgEkAAJBKX5NYgEoAk1iQSV+TWIBJAJNYkEdf9hCARwDOYJBKX5NYgEoAAJBJX5NYgEkAAJBKX85ggEoAAJBCX85ggEIA9hCQR1+TWIBHAACQRV+TWIBFAACQR1+TWIBHAJNYkEVfk1iARQCTWJBEX5NYgEQAk1iQR1+TWIBHAJNYkEVf9hCARQAAkElfk1iASQAAkEdfk1iARwAAkElfzmCASQAAkEJf4jiAQgDiOJBKX5NYgEoAAJBJX5NYgEkAAJBKX5NYgEoAk1iQSV+TWIBJAJNYkEdf9hCARwDOYJBKX5NYgEoAAJBJX5NYgEkAAJBKX85ggEoAAJBCX85ggEIA9hCQR1+TWIBHAACQRV+TWIBFAACQR1+TWIBHAJNYkEVfk1iARQCTWJBEX5NYgEQAk1iQR1+TWIBHAJNYkEVf9hCARQAAkERfpzCARAAAkEVfk1iARQAAkEdf9hCARwAAkEVfk1iARQAAkEdfk1iARwAAkElfuwiASQAAkEdfpzCARwAAkEVfpzCARQAAkERfpzCARAAAkEJfzmCAQgAAkEpfzmCASgAAkElfgYlogEkAk1iQSV+7CIBJAACQSl+7CIBKAIZIkElfk1iASQAAkEdfk1iARwAAkElfgewggEkAzmD/LwA=\");\n",
       "            });\n",
       "        }\n",
       "        if (typeof require === 'undefined') {\n",
       "            setTimeout(midiPlayerDiv18140_play, 2000);\n",
       "        } else {\n",
       "            midiPlayerDiv18140_play();\n",
       "        }\n",
       "        </script>"
      ],
      "text/plain": [
       "<IPython.core.display.HTML object>"
      ]
     },
     "metadata": {},
     "output_type": "display_data"
    }
   ],
   "source": [
    "melody_in: stream.Stream = parse_midi(\"example_inputs/finalcountdown.mid\")\n",
    "\n",
    "print(\"Original melody:\")\n",
    "melody_in.show('midi');"
   ]
  },
  {
   "cell_type": "code",
   "execution_count": 17,
   "metadata": {},
   "outputs": [
    {
     "name": "stdout",
     "output_type": "stream",
     "text": [
      "Simple triads:\n",
      "['v', 'i', 'iv', 'iv', 'III', 'i', 'iv', 'iv', 'III', 'i', 'iv', 'iv', 'III', 'iv', 'v', 'v']\n"
     ]
    }
   ],
   "source": [
    "print(\"Simple triads:\")\n",
    "simple_triads = get_triads(melody_in)"
   ]
  },
  {
   "cell_type": "code",
   "execution_count": 18,
   "metadata": {},
   "outputs": [
    {
     "data": {
      "text/html": [
       "\n",
       "        <div id=\"midiPlayerDiv19901\"></div>\n",
       "        <link rel=\"stylesheet\" href=\"https://cuthbertLab.github.io/music21j/css/m21.css\">\n",
       "        \n",
       "        <script\n",
       "        src=\"https://cdnjs.cloudflare.com/ajax/libs/require.js/2.3.6/require.min.js\"\n",
       "        ></script>\n",
       "    \n",
       "        <script>\n",
       "        function midiPlayerDiv19901_play() {\n",
       "            const rq = require.config({\n",
       "                paths: {\n",
       "                    'music21': 'https://cuthbertLab.github.io/music21j/releases/music21.debug',\n",
       "                }\n",
       "            });\n",
       "            rq(['music21'], function(music21) {\n",
       "                mp = new music21.miditools.MidiPlayer();\n",
       "                mp.addPlayer(\"#midiPlayerDiv19901\");\n",
       "                mp.base64Load(\"data:audio/midi;base64,TVRoZAAAAAYAAQADJ2BNVHJrAAAAGgD/UQMHoSAA/1kCAwEA/1gEBAIYCM5g/y8ATVRyawAAAuUA/wMAAOAAQIHEcJBJX5NYgEkAAJBHX5NYgEcAAJBJX7sIgEkAk1iQQl/iOIBCAOI4kEpfk1iASgAAkElfk1iASQAAkEpfk1iASgCTWJBJX5NYgEkAk1iQR1/2EIBHAM5gkEpfk1iASgAAkElfk1iASQAAkEpfuwiASgCTWJBCX85ggEIA9hCQR1+TWIBHAACQRV+TWIBFAACQR1+TWIBHAJNYkEVfk1iARQCTWJBEX5NYgEQAk1iQR1+TWIBHAJNYkEVf9hCARQAAkElfk1iASQAAkEdfk1iARwAAkElfzmCASQAAkEJf4jiAQgDiOJBKX5NYgEoAAJBJX5NYgEkAAJBKX5NYgEoAk1iQSV+TWIBJAJNYkEdf9hCARwDOYJBKX5NYgEoAAJBJX5NYgEkAAJBKX85ggEoAAJBCX85ggEIA9hCQR1+TWIBHAACQRV+TWIBFAACQR1+TWIBHAJNYkEVfk1iARQCTWJBEX5NYgEQAk1iQR1+TWIBHAJNYkEVf9hCARQAAkElfk1iASQAAkEdfk1iARwAAkElfzmCASQAAkEJf4jiAQgDiOJBKX5NYgEoAAJBJX5NYgEkAAJBKX5NYgEoAk1iQSV+TWIBJAJNYkEdf9hCARwDOYJBKX5NYgEoAAJBJX5NYgEkAAJBKX85ggEoAAJBCX85ggEIA9hCQR1+TWIBHAACQRV+TWIBFAACQR1+TWIBHAJNYkEVfk1iARQCTWJBEX5NYgEQAk1iQR1+TWIBHAJNYkEVf9hCARQAAkERfpzCARAAAkEVfk1iARQAAkEdf9hCARwAAkEVfk1iARQAAkEdfk1iARwAAkElfuwiASQAAkEdfpzCARwAAkEVfpzCARQAAkERfpzCARAAAkEJfzmCAQgAAkEpfzmCASgAAkElfgYlogEkAk1iQSV+7CIBJAACQSl+7CIBKAIZIkElfk1iASQAAkEdfk1iARwAAkElfgewggEkAzmD/LwBNVHJrAAABrgD/AwAA4ABAzmCQPVoAkEBaAJBEWoK7AIA9AACAQAAAgEQAAJA2WgCQOVoAkD1agrsAgDYAAIA5AACAPQAAkDtaAJA+WgCQQlqCuwCAOwAAgD4AAIBCAACQO1oAkD5aAJBCWoK7AIA7AACAPgAAgEIAAJA5WgCQPVoAkEBagrsAgDkAAIA9AACAQAAAkDZaAJA5WgCQPVqCuwCANgAAgDkAAIA9AACQO1oAkD5aAJBCWoK7AIA7AACAPgAAgEIAAJA7WgCQPloAkEJagrsAgDsAAIA+AACAQgAAkDlaAJA9WgCQQFqCuwCAOQAAgD0AAIBAAACQNloAkDlaAJA9WoK7AIA2AACAOQAAgD0AAJA7WgCQPloAkEJagrsAgDsAAIA+AACAQgAAkDtaAJA+WgCQQlqCuwCAOwAAgD4AAIBCAACQOVoAkD1aAJBAWoK7AIA5AACAPQAAgEAAAJA7WgCQPloAkEJagrsAgDsAAIA+AACAQgAAkD1aAJBAWgCQRFqCuwCAPQAAgEAAAIBEAACQPVoAkEBaAJBEWoK7AIA9AACAQAAAgEQAzmD/LwA=\");\n",
       "            });\n",
       "        }\n",
       "        if (typeof require === 'undefined') {\n",
       "            setTimeout(midiPlayerDiv19901_play, 2000);\n",
       "        } else {\n",
       "            midiPlayerDiv19901_play();\n",
       "        }\n",
       "        </script>"
      ],
      "text/plain": [
       "<IPython.core.display.HTML object>"
      ]
     },
     "metadata": {},
     "output_type": "display_data"
    }
   ],
   "source": [
    "out_score = stream.Score()\n",
    "out_score.insert(0, melody_in)\n",
    "out_score.insert(0, simple_triads)\n",
    "\n",
    "out_score.show('midi')"
   ]
  },
  {
   "cell_type": "code",
   "execution_count": 20,
   "metadata": {},
   "outputs": [
    {
     "name": "stdout",
     "output_type": "stream",
     "text": [
      "Total number of states: 2744\n",
      "\n",
      "new chords:\n",
      "['v2', 'i+6', 'VI7', 'iii', 'III', 'i2', 'iv2', 'vii', 'III2', 'i2', 'iv+6', 'vii+6', 'III2', 'iv', 'v2', 'vii']\n",
      "\n",
      "new chords:\n",
      "['v7', 'IV7', 'VI7+6', 'iii', 'III', 'VI2', 'iv+6', 'vii2', 'III2', 'i2', 'VII2', 'V7', 'III2', 'iv2', 'vii+6', 'i']\n",
      "\n",
      "new chords:\n",
      "['v7', 'i2', 'VII', 'i2', 'III', 'VI7sus4', 'II', 'vi', 'III2', 'i', 'VII', 'ii', 'v2', 'VI2', 'V7', 'i']\n",
      "\n",
      "new chords:\n",
      "['v2', 'i+6', 'VII', 'III', 'III2', 'v2', 'v2', 'vii', 'III', 'VI2', 'VII', 'vii2', 'v7', 'i', 'ii2', 'v7']\n",
      "\n",
      "new chords:\n",
      "['v2', 'IV2', 'VII2', 'i', 'VI2', 'VI7sus4', 'v2', 'i', 'III', 'VI2', 'iv+6', 'III2', 'v2', 'i2', 'III', 'v2']\n",
      "\n",
      "new chords:\n",
      "['v7', 'i', 'II+6', 'III', 'VI7', 'v7', 'iv2', 'i2', 'iv2', 'VI7', 'VII2', 'III2', 'VI2', 'i2', 'II+6', 'v2']\n"
     ]
    },
    {
     "data": {
      "text/html": [
       "\n",
       "        <div id=\"midiPlayerDiv21944\"></div>\n",
       "        <link rel=\"stylesheet\" href=\"https://cuthbertLab.github.io/music21j/css/m21.css\">\n",
       "        \n",
       "        <script\n",
       "        src=\"https://cdnjs.cloudflare.com/ajax/libs/require.js/2.3.6/require.min.js\"\n",
       "        ></script>\n",
       "    \n",
       "        <script>\n",
       "        function midiPlayerDiv21944_play() {\n",
       "            const rq = require.config({\n",
       "                paths: {\n",
       "                    'music21': 'https://cuthbertLab.github.io/music21j/releases/music21.debug',\n",
       "                }\n",
       "            });\n",
       "            rq(['music21'], function(music21) {\n",
       "                mp = new music21.miditools.MidiPlayer();\n",
       "                mp.addPlayer(\"#midiPlayerDiv21944\");\n",
       "                mp.base64Load(\"data:audio/midi;base64,TVRoZAAAAAYAAQADJ2BNVHJrAAAAGgD/UQMHoSAA/1kCAwEA/1gEBAIYCM5g/y8ATVRyawAAAuUA/wMAAOAAQIHEcJBJX5NYgEkAAJBHX5NYgEcAAJBJX7sIgEkAk1iQQl/iOIBCAOI4kEpfk1iASgAAkElfk1iASQAAkEpfk1iASgCTWJBJX5NYgEkAk1iQR1/2EIBHAM5gkEpfk1iASgAAkElfk1iASQAAkEpfuwiASgCTWJBCX85ggEIA9hCQR1+TWIBHAACQRV+TWIBFAACQR1+TWIBHAJNYkEVfk1iARQCTWJBEX5NYgEQAk1iQR1+TWIBHAJNYkEVf9hCARQAAkElfk1iASQAAkEdfk1iARwAAkElfzmCASQAAkEJf4jiAQgDiOJBKX5NYgEoAAJBJX5NYgEkAAJBKX5NYgEoAk1iQSV+TWIBJAJNYkEdf9hCARwDOYJBKX5NYgEoAAJBJX5NYgEkAAJBKX85ggEoAAJBCX85ggEIA9hCQR1+TWIBHAACQRV+TWIBFAACQR1+TWIBHAJNYkEVfk1iARQCTWJBEX5NYgEQAk1iQR1+TWIBHAJNYkEVf9hCARQAAkElfk1iASQAAkEdfk1iARwAAkElfzmCASQAAkEJf4jiAQgDiOJBKX5NYgEoAAJBJX5NYgEkAAJBKX5NYgEoAk1iQSV+TWIBJAJNYkEdf9hCARwDOYJBKX5NYgEoAAJBJX5NYgEkAAJBKX85ggEoAAJBCX85ggEIA9hCQR1+TWIBHAACQRV+TWIBFAACQR1+TWIBHAJNYkEVfk1iARQCTWJBEX5NYgEQAk1iQR1+TWIBHAJNYkEVf9hCARQAAkERfpzCARAAAkEVfk1iARQAAkEdf9hCARwAAkEVfk1iARQAAkEdfk1iARwAAkElfuwiASQAAkEdfpzCARwAAkEVfpzCARQAAkERfpzCARAAAkEJfzmCAQgAAkEpfzmCASgAAkElfgYlogEkAk1iQSV+7CIBJAACQSl+7CIBKAIZIkElfk1iASQAAkEdfk1iARwAAkElfgewggEkAzmD/LwBNVHJrAAACDgD/AwAA4ABAzmCQPVoAkEBaAJBEWgCQR1qCuwCAPQAAgEAAAIBEAACARwAAkDZaAJA5WgCQPVqCuwCANgAAgDkAAIA9AACQPFoAkEBaAJBEWoK7AIA8AACAQAAAgEQAAJA5WgCQPVoAkEBagrsAgDkAAIA9AACAQAAAkD5aAJBCWgCQRVoAkElagrsAgD4AAIBCAACARQAAgEkAAJA9WgCQQFoAkERaAJBHWoK7AIA9AACAQAAAgEQAAIBHAACQOVoAkDtaAJA+WgCQQlqCuwCAOQAAgDsAAIA+AACAQgAAkEBaAJBCWgCQRVoAkElagrsAgEAAAIBCAACARQAAgEkAAJA5WgCQO1oAkD5aAJBCWoK7AIA5AACAOwAAgD4AAIBCAACQPloAkEJaAJBFWgCQSVqCuwCAPgAAgEIAAIBFAACASQAAkD5aAJBAWgCQRFoAkEdagrsAgD4AAIBAAACARAAAgEcAAJA4WgCQOVoAkD1aAJBAWoK7AIA4AACAOQAAgD0AAIBAAACQPVoAkD5aAJBCWgCQRVqCuwCAPQAAgD4AAIBCAACARQAAkEBaAJBCWgCQRVoAkElagrsAgEAAAIBCAACARQAAgEkAAJA8WgCQQFoAkERagrsAgDwAAIBAAACARAAAkDtaAJA9WgCQQFoAkERagrsAgDsAAIA9AACAQAAAgEQAzmD/LwA=\");\n",
       "            });\n",
       "        }\n",
       "        if (typeof require === 'undefined') {\n",
       "            setTimeout(midiPlayerDiv21944_play, 2000);\n",
       "        } else {\n",
       "            midiPlayerDiv21944_play();\n",
       "        }\n",
       "        </script>"
      ],
      "text/plain": [
       "<IPython.core.display.HTML object>"
      ]
     },
     "metadata": {},
     "output_type": "display_data"
    }
   ],
   "source": [
    "markov_table = generate_markov_table()\n",
    "substituted_chords = substitute_chords(simple_triads, markov_table)\n",
    "for i in range(5):\n",
    "    substituted_chords = substitute_chords(substituted_chords, markov_table)\n",
    "\n",
    "out_score = stream.Score()\n",
    "out_score.insert(0, melody_in)\n",
    "out_score.insert(0, substituted_chords)\n",
    "\n",
    "out_score.show('midi')"
   ]
  }
 ],
 "metadata": {
  "kernelspec": {
   "display_name": "algocomp-env",
   "language": "python",
   "name": "python3"
  },
  "language_info": {
   "codemirror_mode": {
    "name": "ipython",
    "version": 3
   },
   "file_extension": ".py",
   "mimetype": "text/x-python",
   "name": "python",
   "nbconvert_exporter": "python",
   "pygments_lexer": "ipython3",
   "version": "3.12.9"
  }
 },
 "nbformat": 4,
 "nbformat_minor": 2
}

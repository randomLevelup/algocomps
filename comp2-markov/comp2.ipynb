{
 "cells": [
  {
   "cell_type": "code",
   "execution_count": 124,
   "metadata": {},
   "outputs": [],
   "source": [
    "from music21 import *\n",
    "from comp2 import *"
   ]
  },
  {
   "cell_type": "code",
   "execution_count": 125,
   "metadata": {},
   "outputs": [
    {
     "name": "stdout",
     "output_type": "stream",
     "text": [
      "Original melody:\n"
     ]
    },
    {
     "data": {
      "text/html": [
       "\n",
       "        <div id=\"midiPlayerDiv130342\"></div>\n",
       "        <link rel=\"stylesheet\" href=\"https://cuthbertLab.github.io/music21j/css/m21.css\">\n",
       "        \n",
       "        <script\n",
       "        src=\"https://cdnjs.cloudflare.com/ajax/libs/require.js/2.3.6/require.min.js\"\n",
       "        ></script>\n",
       "    \n",
       "        <script>\n",
       "        function midiPlayerDiv130342_play() {\n",
       "            const rq = require.config({\n",
       "                paths: {\n",
       "                    'music21': 'https://cuthbertLab.github.io/music21j/releases/music21.debug',\n",
       "                }\n",
       "            });\n",
       "            rq(['music21'], function(music21) {\n",
       "                mp = new music21.miditools.MidiPlayer();\n",
       "                mp.addPlayer(\"#midiPlayerDiv130342\");\n",
       "                mp.base64Load(\"data:audio/midi;base64,TVRoZAAAAAYAAQACJ2BNVHJrAAAAFAD/UQMHoSAA/1gEBAIYCM5g/y8ATVRyawAAAuUA/wMAAOAAQIHEcJBIX5NYgEgAAJBGX5NYgEYAAJBIX7sIgEgAk1iQQV/iOIBBAOI4kElfk1iASQAAkEhfk1iASAAAkElfk1iASQCTWJBIX5NYgEgAk1iQRl/2EIBGAM5gkElfk1iASQAAkEhfk1iASAAAkElfuwiASQCTWJBBX85ggEEA9hCQRl+TWIBGAACQRF+TWIBEAACQRl+TWIBGAJNYkERfk1iARACTWJBDX5NYgEMAk1iQRl+TWIBGAJNYkERf9hCARAAAkEhfk1iASAAAkEZfk1iARgAAkEhfzmCASAAAkEFf4jiAQQDiOJBJX5NYgEkAAJBIX5NYgEgAAJBJX5NYgEkAk1iQSF+TWIBIAJNYkEZf9hCARgDOYJBJX5NYgEkAAJBIX5NYgEgAAJBJX85ggEkAAJBBX85ggEEA9hCQRl+TWIBGAACQRF+TWIBEAACQRl+TWIBGAJNYkERfk1iARACTWJBDX5NYgEMAk1iQRl+TWIBGAJNYkERf9hCARAAAkEhfk1iASAAAkEZfk1iARgAAkEhfzmCASAAAkEFf4jiAQQDiOJBJX5NYgEkAAJBIX5NYgEgAAJBJX5NYgEkAk1iQSF+TWIBIAJNYkEZf9hCARgDOYJBJX5NYgEkAAJBIX5NYgEgAAJBJX85ggEkAAJBBX85ggEEA9hCQRl+TWIBGAACQRF+TWIBEAACQRl+TWIBGAJNYkERfk1iARACTWJBDX5NYgEMAk1iQRl+TWIBGAJNYkERf9hCARAAAkENfpzCAQwAAkERfk1iARAAAkEZf9hCARgAAkERfk1iARAAAkEZfk1iARgAAkEhfuwiASAAAkEZfpzCARgAAkERfpzCARAAAkENfpzCAQwAAkEFfzmCAQQAAkElfzmCASQAAkEhfgYlogEgAk1iQSF+7CIBIAACQSV+7CIBJAIZIkEhfk1iASAAAkEZfk1iARgAAkEhfgewggEgAzmD/LwA=\");\n",
       "            });\n",
       "        }\n",
       "        if (typeof require === 'undefined') {\n",
       "            setTimeout(midiPlayerDiv130342_play, 2000);\n",
       "        } else {\n",
       "            midiPlayerDiv130342_play();\n",
       "        }\n",
       "        </script>"
      ],
      "text/plain": [
       "<IPython.core.display.HTML object>"
      ]
     },
     "metadata": {},
     "output_type": "display_data"
    },
    {
     "data": {
      "text/plain": [
       "'/mnt/c/Users/jwest/Desktop/algocomps/comp2-markov/generations/original.mid'"
      ]
     },
     "execution_count": 125,
     "metadata": {},
     "output_type": "execute_result"
    }
   ],
   "source": [
    "melody_in: stream.Stream = parse_midi(\"example_inputs/finalcountdown.mid\")\n",
    "melody_in = melody_in.transpose(-1)\n",
    "\n",
    "output_path = '/mnt/c/Users/jwest/Desktop/algocomps/comp2-markov/generations/'\n",
    "\n",
    "print(\"Original melody:\")\n",
    "melody_in.show('midi');\n",
    "melody_in.write('midi', output_path + 'original.mid')"
   ]
  },
  {
   "cell_type": "code",
   "execution_count": 126,
   "metadata": {},
   "outputs": [
    {
     "name": "stdout",
     "output_type": "stream",
     "text": [
      "Simple triads:\n"
     ]
    },
    {
     "name": "stdout",
     "output_type": "stream",
     "text": [
      "['v', 'i5#2', 'iv5#2', 'iv5#2', 'v+64', 'i5#2', 'iv5#2', 'iv5#2', 'v+64', 'i5#2', 'iv5#2', 'iv5#2', 'v+64', 'iv5#2', 'v', 'v']\n"
     ]
    }
   ],
   "source": [
    "print(\"Simple triads:\")\n",
    "simple_triads = get_triads(melody_in)"
   ]
  },
  {
   "cell_type": "code",
   "execution_count": 127,
   "metadata": {},
   "outputs": [
    {
     "data": {
      "text/html": [
       "\n",
       "        <div id=\"midiPlayerDiv132668\"></div>\n",
       "        <link rel=\"stylesheet\" href=\"https://cuthbertLab.github.io/music21j/css/m21.css\">\n",
       "        \n",
       "        <script\n",
       "        src=\"https://cdnjs.cloudflare.com/ajax/libs/require.js/2.3.6/require.min.js\"\n",
       "        ></script>\n",
       "    \n",
       "        <script>\n",
       "        function midiPlayerDiv132668_play() {\n",
       "            const rq = require.config({\n",
       "                paths: {\n",
       "                    'music21': 'https://cuthbertLab.github.io/music21j/releases/music21.debug',\n",
       "                }\n",
       "            });\n",
       "            rq(['music21'], function(music21) {\n",
       "                mp = new music21.miditools.MidiPlayer();\n",
       "                mp.addPlayer(\"#midiPlayerDiv132668\");\n",
       "                mp.base64Load(\"data:audio/midi;base64,TVRoZAAAAAYAAQADJ2BNVHJrAAAAGgD/UQMHoSAA/1kC/AEA/1gEBAIYCM5g/y8ATVRyawAAAuUA/wMAAOAAQIHEcJBIX5NYgEgAAJBGX5NYgEYAAJBIX7sIgEgAk1iQQV/iOIBBAOI4kElfk1iASQAAkEhfk1iASAAAkElfk1iASQCTWJBIX5NYgEgAk1iQRl/2EIBGAM5gkElfk1iASQAAkEhfk1iASAAAkElfuwiASQCTWJBBX85ggEEA9hCQRl+TWIBGAACQRF+TWIBEAACQRl+TWIBGAJNYkERfk1iARACTWJBDX5NYgEMAk1iQRl+TWIBGAJNYkERf9hCARAAAkEhfk1iASAAAkEZfk1iARgAAkEhfzmCASAAAkEFf4jiAQQDiOJBJX5NYgEkAAJBIX5NYgEgAAJBJX5NYgEkAk1iQSF+TWIBIAJNYkEZf9hCARgDOYJBJX5NYgEkAAJBIX5NYgEgAAJBJX85ggEkAAJBBX85ggEEA9hCQRl+TWIBGAACQRF+TWIBEAACQRl+TWIBGAJNYkERfk1iARACTWJBDX5NYgEMAk1iQRl+TWIBGAJNYkERf9hCARAAAkEhfk1iASAAAkEZfk1iARgAAkEhfzmCASAAAkEFf4jiAQQDiOJBJX5NYgEkAAJBIX5NYgEgAAJBJX5NYgEkAk1iQSF+TWIBIAJNYkEZf9hCARgDOYJBJX5NYgEkAAJBIX5NYgEgAAJBJX85ggEkAAJBBX85ggEEA9hCQRl+TWIBGAACQRF+TWIBEAACQRl+TWIBGAJNYkERfk1iARACTWJBDX5NYgEMAk1iQRl+TWIBGAJNYkERf9hCARAAAkENfpzCAQwAAkERfk1iARAAAkEZf9hCARgAAkERfk1iARAAAkEZfk1iARgAAkEhfuwiASAAAkEZfpzCARgAAkERfpzCARAAAkENfpzCAQwAAkEFfzmCAQQAAkElfzmCASQAAkEhfgYlogEgAk1iQSF+7CIBIAACQSV+7CIBJAIZIkEhfk1iASAAAkEZfk1iARgAAkEhfgewggEgAzmD/LwBNVHJrAAABrgD/AwAA4ABAzmCQPFoAkD9aAJBDWoK7AIA8AACAPwAAgEMAAJA1WgCQOFoAkDxagrsAgDUAAIA4AACAPAAAkDpaAJA9WgCQQVqCuwCAOgAAgD0AAIBBAACQOloAkD1aAJBBWoK7AIA6AACAPQAAgEEAAJA4WgCQPFoAkD9agrsAgDgAAIA8AACAPwAAkDVaAJA4WgCQPFqCuwCANQAAgDgAAIA8AACQOloAkD1aAJBBWoK7AIA6AACAPQAAgEEAAJA6WgCQPVoAkEFagrsAgDoAAIA9AACAQQAAkDhaAJA8WgCQP1qCuwCAOAAAgDwAAIA/AACQNVoAkDhaAJA8WoK7AIA1AACAOAAAgDwAAJA6WgCQPVoAkEFagrsAgDoAAIA9AACAQQAAkDpaAJA9WgCQQVqCuwCAOgAAgD0AAIBBAACQOFoAkDxaAJA/WoK7AIA4AACAPAAAgD8AAJA6WgCQPVoAkEFagrsAgDoAAIA9AACAQQAAkDxaAJA/WgCQQ1qCuwCAPAAAgD8AAIBDAACQPFoAkD9aAJBDWoK7AIA8AACAPwAAgEMAzmD/LwA=\");\n",
       "            });\n",
       "        }\n",
       "        if (typeof require === 'undefined') {\n",
       "            setTimeout(midiPlayerDiv132668_play, 2000);\n",
       "        } else {\n",
       "            midiPlayerDiv132668_play();\n",
       "        }\n",
       "        </script>"
      ],
      "text/plain": [
       "<IPython.core.display.HTML object>"
      ]
     },
     "metadata": {},
     "output_type": "display_data"
    }
   ],
   "source": [
    "out_score = stream.Score()\n",
    "out_score.insert(0, melody_in)\n",
    "out_score.insert(0, simple_triads)\n",
    "\n",
    "out_score.show('midi')"
   ]
  },
  {
   "cell_type": "code",
   "execution_count": 128,
   "metadata": {},
   "outputs": [
    {
     "name": "stdout",
     "output_type": "stream",
     "text": [
      "Total number of states: 2744\n",
      "\n",
      "new chords:\n",
      "['v7', 'i6', 'iv2', 'vii2', 'vii', 'i', 'iv2', 'i2', 'v2', 'i6', 'iv7', 'VI6', 'v2', 'iv2', 'v7', 'v2']\n",
      "\n",
      "new chords:\n",
      "['v7', 'i7', 'ii2', 'v76', 'IVsus4', 'i2', 'ii2', 'v2', 'VI', 'i7', 'vi2', 'v7', 'v6', 'ii', 'v2', 'i']\n",
      "\n",
      "new chords:\n",
      "['v7', 'i2', 'ii2', 'v7', 'i2', 'v2', 'ii2', 'v76', 'i2', 'V', 'i7', 'v76', 'v7', 'ii2', 'v', 'I2']\n",
      "\n",
      "new chords:\n",
      "['v2', 'vsus4', 'ii7', 'v2', 'i2', 'v7', 'iisus4', 'v2', 'i2', 'V2', 'v2', 'v2', 'v2', 'iisus4', 'v', 'i7']\n",
      "\n",
      "new chords:\n",
      "['v76', 'i2', 'ii2', 'v2', 'v2', 'v2', 'v', 'vsus4', 'v7', 'V2', 'v76', 'v', 'v2', 'vsus4', 'vsus4', 'v2']\n",
      "\n",
      "new chords:\n",
      "['v2', 'v2', 'ii2', 'v', 'II2', 'v', 'v2', 'i7', 'iii2', 'V7', 'I', 'v2', 'v2', 'i6', 'V2', 'v2']\n"
     ]
    },
    {
     "data": {
      "text/html": [
       "\n",
       "        <div id=\"midiPlayerDiv133681\"></div>\n",
       "        <link rel=\"stylesheet\" href=\"https://cuthbertLab.github.io/music21j/css/m21.css\">\n",
       "        \n",
       "        <script\n",
       "        src=\"https://cdnjs.cloudflare.com/ajax/libs/require.js/2.3.6/require.min.js\"\n",
       "        ></script>\n",
       "    \n",
       "        <script>\n",
       "        function midiPlayerDiv133681_play() {\n",
       "            const rq = require.config({\n",
       "                paths: {\n",
       "                    'music21': 'https://cuthbertLab.github.io/music21j/releases/music21.debug',\n",
       "                }\n",
       "            });\n",
       "            rq(['music21'], function(music21) {\n",
       "                mp = new music21.miditools.MidiPlayer();\n",
       "                mp.addPlayer(\"#midiPlayerDiv133681\");\n",
       "                mp.base64Load(\"data:audio/midi;base64,TVRoZAAAAAYAAQADJ2BNVHJrAAAAGgD/UQMHoSAA/1kC/AEA/1gEBAIYCM5g/y8ATVRyawAAAuUA/wMAAOAAQIHEcJBIX5NYgEgAAJBGX5NYgEYAAJBIX7sIgEgAk1iQQV/iOIBBAOI4kElfk1iASQAAkEhfk1iASAAAkElfk1iASQCTWJBIX5NYgEgAk1iQRl/2EIBGAM5gkElfk1iASQAAkEhfk1iASAAAkElfuwiASQCTWJBBX85ggEEA9hCQRl+TWIBGAACQRF+TWIBEAACQRl+TWIBGAJNYkERfk1iARACTWJBDX5NYgEMAk1iQRl+TWIBGAJNYkERf9hCARAAAkEhfk1iASAAAkEZfk1iARgAAkEhfzmCASAAAkEFf4jiAQQDiOJBJX5NYgEkAAJBIX5NYgEgAAJBJX5NYgEkAk1iQSF+TWIBIAJNYkEZf9hCARgDOYJBJX5NYgEkAAJBIX5NYgEgAAJBJX85ggEkAAJBBX85ggEEA9hCQRl+TWIBGAACQRF+TWIBEAACQRl+TWIBGAJNYkERfk1iARACTWJBDX5NYgEMAk1iQRl+TWIBGAJNYkERf9hCARAAAkEhfk1iASAAAkEZfk1iARgAAkEhfzmCASAAAkEFf4jiAQQDiOJBJX5NYgEkAAJBIX5NYgEgAAJBJX5NYgEkAk1iQSF+TWIBIAJNYkEZf9hCARgDOYJBJX5NYgEkAAJBIX5NYgEgAAJBJX85ggEkAAJBBX85ggEEA9hCQRl+TWIBGAACQRF+TWIBEAACQRl+TWIBGAJNYkERfk1iARACTWJBDX5NYgEMAk1iQRl+TWIBGAJNYkERf9hCARAAAkENfpzCAQwAAkERfk1iARAAAkEZf9hCARgAAkERfk1iARAAAkEZfk1iARgAAkEhfuwiASAAAkEZfpzCARgAAkERfpzCARAAAkENfpzCAQwAAkEFfzmCAQQAAkElfzmCASQAAkEhfgYlogEgAk1iQSF+7CIBIAACQSV+7CIBJAIZIkEhfk1iASAAAkEZfk1iARgAAkEhfgewggEgAzmD/LwBNVHJrAAACDgD/AwAA4ABAzmCQOloAkDxaAJA/WgCQQ1qCuwCAOgAAgDwAAIA/AACAQwAAkDpaAJA8WgCQP1oAkENagrsAgDoAAIA8AACAPwAAgEMAAJA1WgCQN1oAkDpaAJA+WoK7AIA1AACANwAAgDoAAIA+AACQPFoAkD9aAJBDWoK7AIA8AACAPwAAgEMAAJA1WgCQN1oAkDtaAJA+WoK7AIA1AACANwAAgDsAAIA+AACQPFoAkD9aAJBDWoK7AIA8AACAPwAAgEMAAJA6WgCQPFoAkD9aAJBDWoK7AIA6AACAPAAAgD8AAIBDAACQNVoAkDhaAJA8WgCQP1qCuwCANQAAgDgAAIA8AACAPwAAkDZaAJA4WgCQO1oAkD9agrsAgDYAAIA4AACAOwAAgD8AAJA8WgCQQFoAkENaAJBGWoK7AIA8AACAQAAAgEMAAIBGAACQNVoAkDlaAJA8WoK7AIA1AACAOQAAgDwAAJA6WgCQPFoAkD9aAJBDWoK7AIA6AACAPAAAgD8AAIBDAACQOloAkDxaAJA/WgCQQ1qCuwCAOgAAgDwAAIA/AACAQwAAkDhaAJA8WgCQQVqCuwCAOAAAgDwAAIBBAACQOloAkDxaAJBAWgCQQ1qCuwCAOgAAgDwAAIBAAACAQwAAkDpaAJA8WgCQP1oAkENagrsAgDoAAIA8AACAPwAAgEMAzmD/LwA=\");\n",
       "            });\n",
       "        }\n",
       "        if (typeof require === 'undefined') {\n",
       "            setTimeout(midiPlayerDiv133681_play, 2000);\n",
       "        } else {\n",
       "            midiPlayerDiv133681_play();\n",
       "        }\n",
       "        </script>"
      ],
      "text/plain": [
       "<IPython.core.display.HTML object>"
      ]
     },
     "metadata": {},
     "output_type": "display_data"
    }
   ],
   "source": [
    "markov_table = generate_markov_table()\n",
    "substituted_chords = substitute_chords(simple_triads, markov_table)\n",
    "for pos_i in range(5):\n",
    "    substituted_chords = substitute_chords(substituted_chords, markov_table)\n",
    "\n",
    "out_score = stream.Score()\n",
    "out_score.insert(0, melody_in)\n",
    "out_score.insert(0, substituted_chords)\n",
    "\n",
    "out_score.show('midi')"
   ]
  },
  {
   "cell_type": "code",
   "execution_count": 129,
   "metadata": {},
   "outputs": [
    {
     "data": {
      "text/plain": [
       "<All keys matched successfully>"
      ]
     },
     "execution_count": 129,
     "metadata": {},
     "output_type": "execute_result"
    }
   ],
   "source": [
    "import torch\n",
    "from preprocess import *\n",
    "from bigram import BigramModel\n",
    "\n",
    "device = 'cuda' if torch.cuda.is_available() else 'cpu'\n",
    "\n",
    "model_save_path = '/mnt/c/Users/jwest/Desktop/algocomps/comp2-markov/parkergpt'\n",
    "checkpoint_f = torch.load(model_save_path + '_forward.pt', map_location=device)\n",
    "checkpoint_b = torch.load(model_save_path + '_backward.pt', map_location=device)\n",
    "\n",
    "model_f = BigramModel(\n",
    "    device=device,\n",
    "    block_size=checkpoint_f['block_size'],\n",
    "    vocab_size=checkpoint_f['vocab_size'],\n",
    "    n_embed=checkpoint_f['n_embed']\n",
    ")\n",
    "\n",
    "model_b = BigramModel(\n",
    "    device=device,\n",
    "    block_size=checkpoint_b['block_size'],\n",
    "    vocab_size=checkpoint_b['vocab_size'],\n",
    "    n_embed=checkpoint_b['n_embed']\n",
    ")\n",
    "\n",
    "# Load the saved weights\n",
    "model_f.load_state_dict(checkpoint_b['model_state_dict'])\n",
    "model_b.load_state_dict(checkpoint_b['model_state_dict'])"
   ]
  },
  {
   "cell_type": "code",
   "execution_count": 130,
   "metadata": {},
   "outputs": [
    {
     "data": {
      "text/html": [
       "\n",
       "        <div id=\"midiPlayerDiv134195\"></div>\n",
       "        <link rel=\"stylesheet\" href=\"https://cuthbertLab.github.io/music21j/css/m21.css\">\n",
       "        \n",
       "        <script\n",
       "        src=\"https://cdnjs.cloudflare.com/ajax/libs/require.js/2.3.6/require.min.js\"\n",
       "        ></script>\n",
       "    \n",
       "        <script>\n",
       "        function midiPlayerDiv134195_play() {\n",
       "            const rq = require.config({\n",
       "                paths: {\n",
       "                    'music21': 'https://cuthbertLab.github.io/music21j/releases/music21.debug',\n",
       "                }\n",
       "            });\n",
       "            rq(['music21'], function(music21) {\n",
       "                mp = new music21.miditools.MidiPlayer();\n",
       "                mp.addPlayer(\"#midiPlayerDiv134195\");\n",
       "                mp.base64Load(\"data:audio/midi;base64,TVRoZAAAAAYAAQACJ2BNVHJrAAAAFAD/UQMHoSAA/1gEBAIYCM5g/y8ATVRyawAAA2oA/wMAAOAAQM5gkEZazmCARgAAkD5apzCAPgAAkEJapzCAQgAAkERapzCARAAAkEdajRCARwAAkElajRCASQAAkEpajRCASgAAkEhajRCASAAAkEhazmCASAAAkEhapzCASAAAkENamiCAQwAAkEJamiCAQgAAkEFamiCAQQAAkEBapzCAQAAAkENapzCAQwAAkERapzCARAAAkEZapzCARgAAkEVapzCARQAAkEhapzCASAAAkD5apzCAPgAAkDpapzCAOgAAkD5apzCAPgAAkD9apzCAPwAAkEFapzCAQQAAkDtapzCAOwAAkDxapzCAPAAAkEJapzCAQgAAkEFapzCAQQAAkENapzCAQwAAkEVapzCARQAAkEdamiCARwAAkEhamiCASAAAkEVapzCARQAAkEFapzCAQQAAkEJapzCAQgAAkEFapzCAQQAAkD1apzCAPQAAkDpapzCAOgAAkDtapzCAOwD2EJBBWs5ggEEAAJBCWqcwgEIAAJBGWqcwgEYAAJBFWqcwgEUAAJBFWqcwgEUAAJBGWqcwgEYAzmCQQVrOYIBBAACQQVqnMIBBAACQRFqnMIBEAACQRlqnMIBGAACQQ1qaIIBDAACQP1qaIIA/AACQPVqaIIA9AACQO1qnMIA7AACQQFqnMIBAAACQQVqnMIBBAACQQlqnMIBCAACQQ1qnMIBDAACQQFqnMIBAAACQQFrOYIBAAACQQlrOYIBCAACQPlqnMIA+AKcwkEZapzCARgAAkENapzCAQwAAkENazmCAQwAAkENapzCAQwAAkENapzCAQwAAkEJapzCAQgAAkEhapzCASAAAkEtajRCASwAAkEpapzCASgAAkEVapzCARQAAkElapzCASQAAkE1apzCATQAAkE9apzCATwAAkExamiCATAAAkEhamiCASAAAkERamiCARAAAkENapzCAQwAAkEVapzCARQAAkEpapzCASgAAkEhapzCASAAAkEpapzCASgAAkEtapzCASwAAkEpamiCASgAAkEhamiCASAAAkERamiCARAAAkENapzCAQwCnMJBCWs5ggEIAAJBAWs5ggEAAAJBBWqcwgEEAAJA+WqcwgD4AAJA6WqcwgDoApzCQSVqnMIBJAACQTVqnMIBNAACQS1qnMIBLAM5g/y8A\");\n",
       "            });\n",
       "        }\n",
       "        if (typeof require === 'undefined') {\n",
       "            setTimeout(midiPlayerDiv134195_play, 2000);\n",
       "        } else {\n",
       "            midiPlayerDiv134195_play();\n",
       "        }\n",
       "        </script>"
      ],
      "text/plain": [
       "<IPython.core.display.HTML object>"
      ]
     },
     "metadata": {},
     "output_type": "display_data"
    }
   ],
   "source": [
    "gen_tokens_fwd = model_f.generate(\n",
    "    idx=torch.zeros((1, 1), dtype=torch.long).to(device),\n",
    "    max_length=100  # Generate sequence\n",
    ")[0].tolist()\n",
    "\n",
    "# Convert tokens to MIDI\n",
    "gen_stream = sequence_to_score(tokens_to_sequence(gen_tokens_fwd))\n",
    "gen_stream.show('midi')"
   ]
  },
  {
   "cell_type": "code",
   "execution_count": 147,
   "metadata": {},
   "outputs": [],
   "source": [
    "def splice_melody(melody: stream.Stream,\n",
    "                  past_context=6, # in number of notes or rests\n",
    "                  future_context=8, # in timesteps: 24ths of a quarter note\n",
    "                  max_tokens=20,\n",
    "                  crossover_threshold=24) -> stream.Stream:\n",
    "    out = []\n",
    "    out_fwd = []\n",
    "    out_back = []\n",
    "    pos = 0  # position in melody (in 24ths of a quarter note)\n",
    "    pos_i = 0 # left boundary for current segment\n",
    "    pos_j = 144 # right boundary\n",
    "    idx = 0  # idx for forward model\n",
    "    take = 'melody'\n",
    "    \n",
    "    while pos < melody.duration.quarterLength * 24:\n",
    "        if take == 'melody':\n",
    "            if pos_i > 144:\n",
    "                # print(\"end melody segment: 144\")\n",
    "                # use the melody segments surrounding the slice to generate context\n",
    "                # generate separate contexts for each models\n",
    "                context_forward = make_tokens(score_to_sequence(out[-past_context:]))\n",
    "\n",
    "                # use element index to get future context for backward model\n",
    "                context_backward = make_tokens(score_to_sequence(\n",
    "                    melody.flatten().notesAndRests.getElementsByOffset(\n",
    "                        ((pos + 144) / 24) + 1,\n",
    "                        ((pos + 144) / 24) + future_context\n",
    "                    )[::-1] # reverse the context\n",
    "                ))\n",
    "                # if backward context is empty, pad with rests\n",
    "                if len(context_backward) == 0:\n",
    "                    final_rests = []\n",
    "                    for i in range(future_context):\n",
    "                        final_rests.append(note.Rest(quarterLength=1))\n",
    "                    context_backward = make_tokens(score_to_sequence(final_rests))\n",
    "\n",
    "                gen_tokens_fwd = sequence_to_score(tokens_to_sequence(model_f.generate(\n",
    "                    idx=torch.tensor(context_forward, dtype=torch.long).unsqueeze(0).to(device),\n",
    "                    max_length=max_tokens\n",
    "                )[0].tolist())).flatten().notesAndRests\n",
    "\n",
    "                gen_tokens_back = sequence_to_score(tokens_to_sequence(model_b.generate(\n",
    "                    idx=torch.tensor(context_backward, dtype=torch.long).unsqueeze(0).to(device),\n",
    "                    max_length=max_tokens\n",
    "                )[0].tolist())[::-1]).flatten().notesAndRests\n",
    "\n",
    "                # print(\"generated tokens\")\n",
    "                pos_i = pos\n",
    "                pos_j = pos + 144\n",
    "                out_fwd = []\n",
    "                out_back = []\n",
    "                idx = 0\n",
    "                take = 'model'\n",
    "                continue\n",
    "\n",
    "            # take next element from melody\n",
    "            elem_fwd = melody.flatten().getElementAtOrBefore(pos / 24)\n",
    "            if elem_fwd is None:\n",
    "                break\n",
    "            out.append(elem_fwd)\n",
    "            pos += int(elem_fwd.quarterLength * 24)\n",
    "            pos_i += int(elem_fwd.quarterLength * 24)\n",
    "            \n",
    "        else:\n",
    "            if pos_j - pos_i < crossover_threshold:\n",
    "                # print(\"end generated segment: crossover.\")\n",
    "                # print(f\"out_fwd: [{len(out_fwd)}]\")\n",
    "                # print(\"middle rest duration:\", max(0, pos_j - pos_i) / 24)\n",
    "                # print(f\"out_back: [{len(out_back)}]\")\n",
    "                middlerest_dur = max(0, pos_j - pos_i) / 24\n",
    "                for i in range(len(out_back)):\n",
    "                    out_back[i].offset -= middlerest_dur\n",
    "\n",
    "                out.extend(out_fwd)\n",
    "                out.append(note.Rest(quarterLength=middlerest_dur))\n",
    "                out.extend(out_back)\n",
    "                # print(f\"out: [{len(out)}]\")\n",
    "                pos_i = 0\n",
    "                pos += 144\n",
    "                take = 'melody'\n",
    "                continue\n",
    "                \n",
    "            # Get next elem by index\n",
    "            elem_fwd = gen_tokens_fwd[idx]\n",
    "            \n",
    "            # Create a copy of the element to prevent ID conflicts\n",
    "            if isinstance(elem_fwd, note.Note):\n",
    "                elem_fwd = note.Note(pitch=elem_fwd.pitch, quarterLength=elem_fwd.quarterLength)\n",
    "            elif isinstance(elem_fwd, note.Rest):\n",
    "                elem_fwd = note.Rest(quarterLength=elem_fwd.quarterLength)\n",
    "            \n",
    "            elem_fwd.offset = pos_i / 24 # Set offset\n",
    "            pos_i += int(elem_fwd.quarterLength * 24) # Then increment position\n",
    "            out_fwd.append(elem_fwd) # Then append\n",
    "\n",
    "            elem_back = gen_tokens_back[idx]\n",
    "            if isinstance(elem_back, note.Note):\n",
    "                elem_back = note.Note(pitch=elem_back.pitch, quarterLength=elem_back.quarterLength)\n",
    "            elif isinstance(elem_back, note.Rest):\n",
    "                elem_back = note.Rest(quarterLength=elem_back.quarterLength)\n",
    "            \n",
    "            pos_j -= int(elem_back.quarterLength * 24) # Decrement position\n",
    "            elem_back.offset = pos_j / 24 # Then set offset\n",
    "            out_back.insert(0, elem_back) # Then append\n",
    "\n",
    "            idx += 1  # Increment index for both streams\n",
    "            if idx >= max_tokens:\n",
    "                # print(\"end generated segment: token limit reached.\")\n",
    "                # print(f\"out_fwd: {out_fwd}\")\n",
    "                # print(f\"out_back: {out_back}\")\n",
    "                out.extend(out_fwd + out_back)\n",
    "                # print(f\"out: {out}\")\n",
    "                pos += 144\n",
    "                take = 'melody'\n",
    "                continue\n",
    "    \n",
    "    return stream.Stream(out)\n"
   ]
  },
  {
   "cell_type": "code",
   "execution_count": 150,
   "metadata": {},
   "outputs": [
    {
     "data": {
      "text/html": [
       "\n",
       "        <div id=\"midiPlayerDiv156012\"></div>\n",
       "        <link rel=\"stylesheet\" href=\"https://cuthbertLab.github.io/music21j/css/m21.css\">\n",
       "        \n",
       "        <script\n",
       "        src=\"https://cdnjs.cloudflare.com/ajax/libs/require.js/2.3.6/require.min.js\"\n",
       "        ></script>\n",
       "    \n",
       "        <script>\n",
       "        function midiPlayerDiv156012_play() {\n",
       "            const rq = require.config({\n",
       "                paths: {\n",
       "                    'music21': 'https://cuthbertLab.github.io/music21j/releases/music21.debug',\n",
       "                }\n",
       "            });\n",
       "            rq(['music21'], function(music21) {\n",
       "                mp = new music21.miditools.MidiPlayer();\n",
       "                mp.addPlayer(\"#midiPlayerDiv156012\");\n",
       "                mp.base64Load(\"data:audio/midi;base64,TVRoZAAAAAYAAQADJ2BNVHJrAAAAGgD/UQMHoSAA/1kCCAEA/1gEBAIYCM5g/y8ATVRyawAAA0cA/wMAAOAAQIHEcJBIX5NYgEgAAJBGX5NYgEYAAJBIX7sIgEgAk1iQQV/iOIBBAOI4kElfk1iASQAAkEhfk1iASAAAkElfk1iASQAAkElak1iASQAAkEhak1iASAAAkElak1iASQAAkEtak1iASwAAkElapzCASQAAkEpapzCASgAAkEtapzCASwAAkEJapzCAQgAAkERapzCARAAAkEVapzCARQAAkEhak1iASAAAkEpak1iASgAAkElak1iASQAAkEtak1iASwCBxHCQRF+TWIBEAACQRl+TWIBGAJNYkERfk1iARACTWJBDX5NYgEMAk1iQRl+TWIBGAJNYkERf9hCARAAAkEhfk1iASAAAkEZfk1iARgAAkEhfzmCASAAAkEhak1iASAAAkEZak1iARgAAkEhazmCASAAAkEVapzCARQAAkD9ak1iAPwAAkEFak1iAQQAAkENapzCAQwCnMJBDWs5ggEMAAJBCWqcwgEIAAJBDWpNYgEMAAJBBWpNYgEEA9hCQSV/OYIBJAACQQV/OYIBBAPYQkEZfk1iARgAAkERfk1iARAAAkEZfk1iARgCTWJBEX5NYgEQAk1iQQ1+TWIBDAACQRFqTWIBEAJNYkENak1iAQwAAkERak1iARAAAkEZak1iARgAAkEhak1iASAAAkD5azmCAPgAAkDxapzCAPAAAkEBapzCAQAAAkENapzCAQwAAkEVapzCARQAAkENapzCAQwCBsRiQSF+TWIBIAJNYkEZf9hCARgDOYJBJX5NYgEkAAJBIX5NYgEgAAJBJX85ggEkAAJBBX85ggEEAAJBIWpNYgEgAAJBJWs5ggEkAAJBBWs5ggEEApzCQRFqnMIBEAPYQkDxazmCAPACTWJBEX5NYgEQAAJBGX/YQgEYAAJBEX5NYgEQAAJBGX5NYgEYAAJBIX7sIgEgAAJBGX6cwgEYAAJBEX6cwgEQAAJBDX6cwgEMAAJBBX85ggEEAAJBJX85ggEkAAJBDWqcwgEMAAJBBWs5ggEEAAJBJWs5ggEkAAJBGWqcwgEYAAJBHWqcwgEcAAJBFWqcwgEUAAJBGWoZIkEhfoGiARgAAkEhapzCASACBpAiASADOYP8vAE1UcmsAAAIOAP8DAADgAEDOYJAuWgCQMFoAkDNaAJA3WoK7AIAuAACAMAAAgDMAAIA3AACQLloAkDBaAJAzWgCQN1qCuwCALgAAgDAAAIAzAACANwAAkClaAJArWgCQLloAkDJagrsAgCkAAIArAACALgAAgDIAAJAwWgCQM1oAkDdagrsAgDAAAIAzAACANwAAkClaAJArWgCQL1oAkDJagrsAgCkAAIArAACALwAAgDIAAJAwWgCQM1oAkDdagrsAgDAAAIAzAACANwAAkC5aAJAwWgCQM1oAkDdagrsAgC4AAIAwAACAMwAAgDcAAJApWgCQLFoAkDBaAJAzWoK7AIApAACALAAAgDAAAIAzAACQKloAkCxaAJAvWgCQM1qCuwCAKgAAgCwAAIAvAACAMwAAkDBaAJA0WgCQN1oAkDpagrsAgDAAAIA0AACANwAAgDoAAJApWgCQLVoAkDBagrsAgCkAAIAtAACAMAAAkC5aAJAwWgCQM1oAkDdagrsAgC4AAIAwAACAMwAAgDcAAJAuWgCQMFoAkDNaAJA3WoK7AIAuAACAMAAAgDMAAIA3AACQLFoAkDBaAJA1WoK7AIAsAACAMAAAgDUAAJAuWgCQMFoAkDRaAJA3WoK7AIAuAACAMAAAgDQAAIA3AACQLloAkDBaAJAzWgCQN1qCuwCALgAAgDAAAIAzAACANwDOYP8vAA==\");\n",
       "            });\n",
       "        }\n",
       "        if (typeof require === 'undefined') {\n",
       "            setTimeout(midiPlayerDiv156012_play, 2000);\n",
       "        } else {\n",
       "            midiPlayerDiv156012_play();\n",
       "        }\n",
       "        </script>"
      ],
      "text/plain": [
       "<IPython.core.display.HTML object>"
      ]
     },
     "metadata": {},
     "output_type": "display_data"
    }
   ],
   "source": [
    "res_melody = splice_melody(melody_in,\n",
    "                           past_context=3,\n",
    "                           future_context=2,\n",
    "                           max_tokens=20,\n",
    "                           crossover_threshold=25)\n",
    "\n",
    "out_score = stream.Score()\n",
    "out_score.insert(0, res_melody)\n",
    "out_score.insert(0, substituted_chords.transpose(-12))\n",
    "\n",
    "out_score.show('midi')"
   ]
  },
  {
   "cell_type": "code",
   "execution_count": 151,
   "metadata": {},
   "outputs": [
    {
     "data": {
      "text/plain": [
       "'/mnt/c/Users/jwest/Desktop/algocomps/comp2-markov/generations/output_spliced.mid'"
      ]
     },
     "execution_count": 151,
     "metadata": {},
     "output_type": "execute_result"
    }
   ],
   "source": [
    "out_score.write('midi', output_path + 'output_spliced.mid')"
   ]
  }
 ],
 "metadata": {
  "kernelspec": {
   "display_name": "algocomps-env",
   "language": "python",
   "name": "python3"
  },
  "language_info": {
   "codemirror_mode": {
    "name": "ipython",
    "version": 3
   },
   "file_extension": ".py",
   "mimetype": "text/x-python",
   "name": "python",
   "nbconvert_exporter": "python",
   "pygments_lexer": "ipython3",
   "version": "3.12.3"
  }
 },
 "nbformat": 4,
 "nbformat_minor": 2
}

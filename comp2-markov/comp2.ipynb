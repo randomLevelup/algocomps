{
 "cells": [
  {
   "cell_type": "code",
   "execution_count": 3,
   "metadata": {},
   "outputs": [],
   "source": [
    "from music21 import *\n",
    "from comp2 import *"
   ]
  },
  {
   "cell_type": "code",
   "execution_count": 4,
   "metadata": {},
   "outputs": [
    {
     "name": "stdout",
     "output_type": "stream",
     "text": [
      "Original melody:\n"
     ]
    },
    {
     "data": {
      "text/html": [
       "\n",
       "        <div id=\"midiPlayerDiv2457\"></div>\n",
       "        <link rel=\"stylesheet\" href=\"https://cuthbertLab.github.io/music21j/css/m21.css\">\n",
       "        \n",
       "        <script\n",
       "        src=\"https://cdnjs.cloudflare.com/ajax/libs/require.js/2.3.6/require.min.js\"\n",
       "        ></script>\n",
       "    \n",
       "        <script>\n",
       "        function midiPlayerDiv2457_play() {\n",
       "            const rq = require.config({\n",
       "                paths: {\n",
       "                    'music21': 'https://cuthbertLab.github.io/music21j/releases/music21.debug',\n",
       "                }\n",
       "            });\n",
       "            rq(['music21'], function(music21) {\n",
       "                mp = new music21.miditools.MidiPlayer();\n",
       "                mp.addPlayer(\"#midiPlayerDiv2457\");\n",
       "                mp.base64Load(\"data:audio/midi;base64,TVRoZAAAAAYAAQACJ2BNVHJrAAAAFAD/UQMHoSAA/1gEBAIYCM5g/y8ATVRyawAABJAA/wMAAOAAQIGdQJBDdqcwgEMAAJBGa5NYgEYAAJBDebsIgEMA9hCQQW2nMIBBAACQP2KnMIA/AACQQ2SnMIBDAACQQW67CIBBAJNYkD9upzCAPwCBnUCQQXCTWIBBAACQQWenMIBBAACQQXu7CIBBAKcwkEFxpzCAQQAAkEN8pzCAQwAAkEFvuwiAQQCTWJA/bs5ggD8AgewgkEN9pzCAQwAAkEZtk1iARgAAkEhupzCASACTWJBDYacwgEMAAJBBfKcwgEEAAJA/bKcwgD8AAJBDZqcwgEMAk1iQQXGnMIBBAJNYkEFvpzCAQQAAkD9ypzCAPwCnMJA8facwgDwAAJA/a5NYgD8AAJBBZbsIgEEApzCQQWanMIBBAACQP2KnMIA/AACQQW67CIBBAJNYkEFupzCAQQAAkD9xk1iAPwAAkENz4jiAQwCCk1CQQ2+nMIBDAACQQ3OnMIBDAACQRnmTWIBGAACQQ23iOIBDAKcwkD9qpzCAPwAAkEFlpzCAQQAAkD9upzCAPwAAkEN3pzCAQwAAkEFwuwiAQQCTWJA/cKcwgD8A9hCQQWOnMIBBAACQQXqnMIBBAACQQWWnMIBBAACQQXinMIBBAACQP22nMIA/AACQQ2SnMIBDAACQQWy7CIBBAJNYkD9vzmCAPwCB7CCQQ2enMIBDAACQQ1+nMIBDAACQRmiTWIBGAACQSHm7CIBIAKcwkEFupzCAQQAAkD9vpzCAPwAAkENwpzCAQwCTWJBBYqcwgEEAk1iQQW+nMIBBAACQP3enMIA/AKcwkDxxk1iAPAAAkD9upzCAPwCTWJBBaLsIgEEAk1iQQW6nMIBBAACQP2ynMIA/AACQQW6nMIBBAKcwkEFupzCAQQAAkD96k1iAPwAAkENrgbEYgEMApzCQQWqnMIBBAJNYkENtuwiAQwCnMJBEZacwgEQAAJBEZqcwgEQAAJBEbpNYgEQAAJBEYKcwgEQAk1iQQ2qnMIBDAACQQXWnMIBBAACQP2+nMIA/AACQP2+nMIA/AACQQWWnMIBBAACQQ3inMIBDAACQQXSnMIBBAKcwkEF1pzCAQQCTWJBDe6cwgEMAk1iQRGynMIBEAKcwkERtpzCARAAAkER2pzCARAAAkERppzCARAAAkENupzCAQwAAkEF5k1iAQQAAkD98pzCAPwCTWJBDaKcwgEMAAJBBec5ggEEApzCQQXDOYIBBAJNYkENkpzCAQwCTWJBEY7sIgEQAk1iQRHGnMIBEAACQRG+TWIBEAACQRF+nMIBEAJNYkENupzCAQwAAkEFxpzCAQQAAkD9tpzCAPwAAkD94pzCAPwAAkEFwpzCAQQAAkENupzCAQwAAkEFupzCAQQCnMJBBbacwgEEAk1iQQ22nMIBDAJNYkERupzCARACTWJBDcacwgEMAk1iQRG6nMIBEAACQRmqnMIBGAJNYkERkpzCARACTWJBIe6cwgEgAAJBIX4GdQIBIAM5gkEFupzCAQQAAkD9uk1iAPwAAkEFupzCAQQCTWJA/eacwgD8AAJA/fIGdQIA/AM5g/y8A\");\n",
       "            });\n",
       "        }\n",
       "        if (typeof require === 'undefined') {\n",
       "            setTimeout(midiPlayerDiv2457_play, 2000);\n",
       "        } else {\n",
       "            midiPlayerDiv2457_play();\n",
       "        }\n",
       "        </script>"
      ],
      "text/plain": [
       "<IPython.core.display.HTML object>"
      ]
     },
     "metadata": {},
     "output_type": "display_data"
    }
   ],
   "source": [
    "melody_in: stream.Stream = parse_midi(\"example_inputs/eyeofthetiger.mid\")\n",
    "\n",
    "print(\"Original melody:\")\n",
    "melody_in.show('midi');"
   ]
  },
  {
   "cell_type": "code",
   "execution_count": 5,
   "metadata": {},
   "outputs": [
    {
     "name": "stdout",
     "output_type": "stream",
     "text": [
      "Simple triads:\n",
      "['iii', 'ii5#2', 'ii5#2', 'ii5#2', 'iii', 'iii', 'ii5#2', 'iii', 'iii', 'ii5#2', 'ii5#2', 'ii5#2', 'iii', 'iii', 'ii5#2', 'iii', 'vi+64', 'I', 'vi+64', 'iii', 'vi+64', 'I', 'vi+64', 'vi', 'ii5#2']\n"
     ]
    }
   ],
   "source": [
    "print(\"Simple triads:\")\n",
    "simple_triads = get_triads(melody_in)"
   ]
  },
  {
   "cell_type": "code",
   "execution_count": 6,
   "metadata": {},
   "outputs": [
    {
     "data": {
      "text/html": [
       "\n",
       "        <div id=\"midiPlayerDiv5334\"></div>\n",
       "        <link rel=\"stylesheet\" href=\"https://cuthbertLab.github.io/music21j/css/m21.css\">\n",
       "        \n",
       "        <script\n",
       "        src=\"https://cdnjs.cloudflare.com/ajax/libs/require.js/2.3.6/require.min.js\"\n",
       "        ></script>\n",
       "    \n",
       "        <script>\n",
       "        function midiPlayerDiv5334_play() {\n",
       "            const rq = require.config({\n",
       "                paths: {\n",
       "                    'music21': 'https://cuthbertLab.github.io/music21j/releases/music21.debug',\n",
       "                }\n",
       "            });\n",
       "            rq(['music21'], function(music21) {\n",
       "                mp = new music21.miditools.MidiPlayer();\n",
       "                mp.addPlayer(\"#midiPlayerDiv5334\");\n",
       "                mp.base64Load(\"data:audio/midi;base64,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\");\n",
       "            });\n",
       "        }\n",
       "        if (typeof require === 'undefined') {\n",
       "            setTimeout(midiPlayerDiv5334_play, 2000);\n",
       "        } else {\n",
       "            midiPlayerDiv5334_play();\n",
       "        }\n",
       "        </script>"
      ],
      "text/plain": [
       "<IPython.core.display.HTML object>"
      ]
     },
     "metadata": {},
     "output_type": "display_data"
    }
   ],
   "source": [
    "out_score = stream.Score()\n",
    "out_score.insert(0, melody_in)\n",
    "out_score.insert(0, simple_triads)\n",
    "\n",
    "out_score.show('midi')"
   ]
  },
  {
   "cell_type": "code",
   "execution_count": 7,
   "metadata": {},
   "outputs": [
    {
     "name": "stdout",
     "output_type": "stream",
     "text": [
      "Total number of states: 2744\n",
      "\n",
      "new chords:\n",
      "['vi2', 'ii2', 'ii', 'ii2', 'iii2', 'iii', 'ii2', 'iii', 'iii2', 'ii6', 'ii2', 'v2', 'iii2', 'iii2', 'ii76', 'iii2', 'vi6', 'isus4', 'vi2', 'iii2', 'vi2', 'ii7', 'vi7', 'vi7', 'ii7']\n",
      "\n",
      "new chords:\n",
      "['vi6', 'VI2', 'ii2', 'VI7', 'iii', 'iii7', 'vi2', 'vi2', 'iii', 'ii7', 'vi', 'ii7', 'iii2', 'iii2', 'vii2', 'iii6', 'vi2', 'ii2', 'vi', 'iii7', 'vi7', 'ii2', 'vi7', 'ii2', 'vi7']\n",
      "\n",
      "new chords:\n",
      "['vi7', 'VI2', 'vi7', 'VI2', 'iii2', 'iii2', 'vi2', 'iii', 'iii7', 'vi2', 'iii2', 'vi', 'iii2', 'iii7', 'vii7', 'iii2', 'II', 'ii2', 'vi2', 'iii2', 'vi2', 'VII2', 'vi2', 'vi2', 'vi2']\n",
      "\n",
      "new chords:\n",
      "['vi2', 'VI', 'vi2', 'VI2', 'iii2', 'iii2', 'vi2', 'ii7', 'V2', 'vi7', 'III2', 'vi7', 'ii2', 'III2', 'vii2', 'iii2', 'vi2', 'vi7', 'vi2', 'iii2', 'vi76', 'V7', 'vi', 'vi2', 'vi7']\n",
      "\n",
      "new chords:\n",
      "['vi2', 'ii2', 'II', 'VI', 'iii', 'iii7', 'vi2', 'ii2', 'ii2', 'vi7', 'iii', 'vi76', 'i2', 'III7', 'vii', 'iii', 'vi2', 'V', 'vi', 'iii2', 'vi7', 'ii2', 'vi7', 'ii2', 'vi']\n",
      "\n",
      "new chords:\n",
      "['vi', 'vi2', 'vi76', 'V7', 'iii7', 'iii2', 'vi76', 'VII76', 'vi7', 'vi2', 'iiisus4', 'vi2', 'iv2', 'III2', 'vii', 'iii7', 'IIsus4', 'ii76', 'I2', 'iii2', 'vi2', 'ii', 'vi76', 'vi', 'vi2']\n"
     ]
    },
    {
     "data": {
      "text/html": [
       "\n",
       "        <div id=\"midiPlayerDiv6884\"></div>\n",
       "        <link rel=\"stylesheet\" href=\"https://cuthbertLab.github.io/music21j/css/m21.css\">\n",
       "        \n",
       "        <script\n",
       "        src=\"https://cdnjs.cloudflare.com/ajax/libs/require.js/2.3.6/require.min.js\"\n",
       "        ></script>\n",
       "    \n",
       "        <script>\n",
       "        function midiPlayerDiv6884_play() {\n",
       "            const rq = require.config({\n",
       "                paths: {\n",
       "                    'music21': 'https://cuthbertLab.github.io/music21j/releases/music21.debug',\n",
       "                }\n",
       "            });\n",
       "            rq(['music21'], function(music21) {\n",
       "                mp = new music21.miditools.MidiPlayer();\n",
       "                mp.addPlayer(\"#midiPlayerDiv6884\");\n",
       "                mp.base64Load(\"data:audio/midi;base64,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\");\n",
       "            });\n",
       "        }\n",
       "        if (typeof require === 'undefined') {\n",
       "            setTimeout(midiPlayerDiv6884_play, 2000);\n",
       "        } else {\n",
       "            midiPlayerDiv6884_play();\n",
       "        }\n",
       "        </script>"
      ],
      "text/plain": [
       "<IPython.core.display.HTML object>"
      ]
     },
     "metadata": {},
     "output_type": "display_data"
    }
   ],
   "source": [
    "markov_table = generate_markov_table()\n",
    "substituted_chords = substitute_chords(simple_triads, markov_table)\n",
    "for i in range(5):\n",
    "    substituted_chords = substitute_chords(substituted_chords, markov_table)\n",
    "\n",
    "out_score = stream.Score()\n",
    "out_score.insert(0, melody_in)\n",
    "out_score.insert(0, substituted_chords)\n",
    "\n",
    "out_score.show('midi')"
   ]
  }
 ],
 "metadata": {
  "kernelspec": {
   "display_name": "algocomps-env",
   "language": "python",
   "name": "python3"
  },
  "language_info": {
   "codemirror_mode": {
    "name": "ipython",
    "version": 3
   },
   "file_extension": ".py",
   "mimetype": "text/x-python",
   "name": "python",
   "nbconvert_exporter": "python",
   "pygments_lexer": "ipython3",
   "version": "3.12.3"
  }
 },
 "nbformat": 4,
 "nbformat_minor": 2
}

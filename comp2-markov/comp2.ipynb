{
 "cells": [
  {
   "cell_type": "code",
   "execution_count": 9,
   "metadata": {},
   "outputs": [],
   "source": [
    "from music21 import *\n",
    "from comp2 import *"
   ]
  },
  {
   "cell_type": "code",
   "execution_count": 10,
   "metadata": {},
   "outputs": [
    {
     "name": "stdout",
     "output_type": "stream",
     "text": [
      "Original melody:\n"
     ]
    },
    {
     "data": {
      "text/html": [
       "\n",
       "        <div id=\"midiPlayerDiv11376\"></div>\n",
       "        <link rel=\"stylesheet\" href=\"https://cuthbertLab.github.io/music21j/css/m21.css\">\n",
       "        \n",
       "        <script\n",
       "        src=\"https://cdnjs.cloudflare.com/ajax/libs/require.js/2.3.6/require.min.js\"\n",
       "        ></script>\n",
       "    \n",
       "        <script>\n",
       "        function midiPlayerDiv11376_play() {\n",
       "            const rq = require.config({\n",
       "                paths: {\n",
       "                    'music21': 'https://cuthbertLab.github.io/music21j/releases/music21.debug',\n",
       "                }\n",
       "            });\n",
       "            rq(['music21'], function(music21) {\n",
       "                mp = new music21.miditools.MidiPlayer();\n",
       "                mp.addPlayer(\"#midiPlayerDiv11376\");\n",
       "                mp.base64Load(\"data:audio/midi;base64,TVRoZAAAAAYAAQACJ2BNVHJrAAAAFAD/UQMHoSAA/1gEBAIYCM5g/y8ATVRyawAAA3cA/wMAAOAAQIL2CJA+X5NYgD4AAJBCX6cwgEIAAJA8X5NYgDwAAJA+X+I4gD4AgYlokEJfk1iAQgAAkENfpzCAQwAAkENfk1iAQwAAkENfpzCAQwAAkEFfk1iAQQAAkEVfpzCARQAAkENfk1iAQwAAkEFfk1iAQQAAkD5fzmCAPgCTWJBBX5NYgEEAAJBBX6cwgEEAAJBBX5NYgEEAAJBBX5NYgEEAAJBBX6cwgEEAgYlokDtfk1iAOwAAkD5fk1iAPgAAkD5fk1iAPgAAkEFfpzCAQQAAkDxfk1iAPAAAkD5fpzCAPgAAkDxfk1iAPAAAkD5fk1iAPgAAkDxfk1iAPAAAkDlfzmCAOQC7CJBCX5NYgEIAAJBCX6cwgEIAAJBDX5NYgEMAAJBCX7sIgEIAAJBAX5NYgEAAAJA+X+I4gD4ApzCQPl+TWIA+AACQPl+TWIA+AACQRV+nMIBFAACQQ1+nMIBDAACQQV+nMIBBAACQQ1+nMIBDAACQQl/OYIBCALsIkEFfk1iAQQAAkENfpzCAQwAAkEFfk1iAQQAAkENfpzCAQwAAkEFfk1iAQQAAkEVfpzCARQAAkENfk1iAQwAAkEFfk1iAQQAAkD5fzmCAPgCnMJBBX6cwgEEAAJA8X5NYgDwAAJA+X6cwgD4AAJA8X5NYgDwAAJA+X6cwgD4A9hCQPl+TWIA+AACQPl+TWIA+AACQQV+nMIBBAACQPF+TWIA8AACQPl+7CIA+AIGdQJA+X5NYgD4AAJA+X5NYgD4AAJBFX6cwgEUAAJBDX5NYgEMAAJBBX6cwgEEAAJBDX7sIgEMAAJBCX85ggEIApzCQPl+nMIA+AACQQV+nMIBBAACQPF+TWIA8AACQPl+7CIA+AACQQV/OYIBBAACQPlrOYIA+AACQO1+TWIA7AM5gkDxfpzCAPAAAkD5fpzCAPgAAkEFfpzCAQQAAkD5f9hCAPgDOYJBBX6cwgEEAAJA8X5NYgDwAAJA+X7sIgD4AAJBFX7sIgEUAAJBDX85ggEMAAJBBX5NYgEEAAJA+X6cwgD4AAJA8X6cwgDwAAJA+X6cwgD4AAJBBX6cwgEEAAJA+X4KTUIA+AACQPl+TWIA+AACQQF+TWIBAAACQPF+BnUCAPAAAkDlfk1iAOQAAkDdfk1iANwAAkDlfzmCAOQDOYP8vAA==\");\n",
       "            });\n",
       "        }\n",
       "        if (typeof require === 'undefined') {\n",
       "            setTimeout(midiPlayerDiv11376_play, 2000);\n",
       "        } else {\n",
       "            midiPlayerDiv11376_play();\n",
       "        }\n",
       "        </script>"
      ],
      "text/plain": [
       "<IPython.core.display.HTML object>"
      ]
     },
     "metadata": {},
     "output_type": "display_data"
    }
   ],
   "source": [
    "melody_in: stream.Stream = parse_midi(\"example_inputs/deadoralive.mid\")\n",
    "\n",
    "print(\"Original melody:\")\n",
    "melody_in.show('midi');"
   ]
  },
  {
   "cell_type": "code",
   "execution_count": 11,
   "metadata": {},
   "outputs": [
    {
     "name": "stdout",
     "output_type": "stream",
     "text": [
      "Simple triads:\n",
      "['i', '#iiio5b3', 'iv', 'III', 'III', '#iiio5b3', 'v', 'iv', 'III', 'III', 'v', 'III', 'bVII', 'III', 'III', 'i', 'v']\n"
     ]
    }
   ],
   "source": [
    "print(\"Simple triads:\")\n",
    "simple_triads = get_triads(melody_in)"
   ]
  },
  {
   "cell_type": "code",
   "execution_count": 12,
   "metadata": {},
   "outputs": [
    {
     "data": {
      "text/html": [
       "\n",
       "        <div id=\"midiPlayerDiv13265\"></div>\n",
       "        <link rel=\"stylesheet\" href=\"https://cuthbertLab.github.io/music21j/css/m21.css\">\n",
       "        \n",
       "        <script\n",
       "        src=\"https://cdnjs.cloudflare.com/ajax/libs/require.js/2.3.6/require.min.js\"\n",
       "        ></script>\n",
       "    \n",
       "        <script>\n",
       "        function midiPlayerDiv13265_play() {\n",
       "            const rq = require.config({\n",
       "                paths: {\n",
       "                    'music21': 'https://cuthbertLab.github.io/music21j/releases/music21.debug',\n",
       "                }\n",
       "            });\n",
       "            rq(['music21'], function(music21) {\n",
       "                mp = new music21.miditools.MidiPlayer();\n",
       "                mp.addPlayer(\"#midiPlayerDiv13265\");\n",
       "                mp.base64Load(\"data:audio/midi;base64,TVRoZAAAAAYAAQADJ2BNVHJrAAAAGgD/UQMHoSAA/1kC/wEA/1gEBAIYCM5g/y8ATVRyawAAA3cA/wMAAOAAQIL2CJA+X5NYgD4AAJBCX6cwgEIAAJA8X5NYgDwAAJA+X+I4gD4AgYlokEJfk1iAQgAAkENfpzCAQwAAkENfk1iAQwAAkENfpzCAQwAAkEFfk1iAQQAAkEVfpzCARQAAkENfk1iAQwAAkEFfk1iAQQAAkD5fzmCAPgCTWJBBX5NYgEEAAJBBX6cwgEEAAJBBX5NYgEEAAJBBX5NYgEEAAJBBX6cwgEEAgYlokDtfk1iAOwAAkD5fk1iAPgAAkD5fk1iAPgAAkEFfpzCAQQAAkDxfk1iAPAAAkD5fpzCAPgAAkDxfk1iAPAAAkD5fk1iAPgAAkDxfk1iAPAAAkDlfzmCAOQC7CJBCX5NYgEIAAJBCX6cwgEIAAJBDX5NYgEMAAJBCX7sIgEIAAJBAX5NYgEAAAJA+X+I4gD4ApzCQPl+TWIA+AACQPl+TWIA+AACQRV+nMIBFAACQQ1+nMIBDAACQQV+nMIBBAACQQ1+nMIBDAACQQl/OYIBCALsIkEFfk1iAQQAAkENfpzCAQwAAkEFfk1iAQQAAkENfpzCAQwAAkEFfk1iAQQAAkEVfpzCARQAAkENfk1iAQwAAkEFfk1iAQQAAkD5fzmCAPgCnMJBBX6cwgEEAAJA8X5NYgDwAAJA+X6cwgD4AAJA8X5NYgDwAAJA+X6cwgD4A9hCQPl+TWIA+AACQPl+TWIA+AACQQV+nMIBBAACQPF+TWIA8AACQPl+7CIA+AIGdQJA+X5NYgD4AAJA+X5NYgD4AAJBFX6cwgEUAAJBDX5NYgEMAAJBBX6cwgEEAAJBDX7sIgEMAAJBCX85ggEIApzCQPl+nMIA+AACQQV+nMIBBAACQPF+TWIA8AACQPl+7CIA+AACQQV/OYIBBAACQPlrOYIA+AACQO1+TWIA7AM5gkDxfpzCAPAAAkD5fpzCAPgAAkEFfpzCAQQAAkD5f9hCAPgDOYJBBX6cwgEEAAJA8X5NYgDwAAJA+X7sIgD4AAJBFX7sIgEUAAJBDX85ggEMAAJBBX5NYgEEAAJA+X6cwgD4AAJA8X6cwgDwAAJA+X6cwgD4AAJBBX6cwgEEAAJA+X4KTUIA+AACQPl+TWIA+AACQQF+TWIBAAACQPF+BnUCAPAAAkDlfk1iAOQAAkDdfk1iANwAAkDlfzmCAOQDOYP8vAE1UcmsAAAHIAP8DAADgAEDOYJAyWgCQNVoAkDlagrsAgDIAAIA1AACAOQAAkDZaAJA5WgCQPFqCuwCANgAAgDkAAIA8AACQN1oAkDpaAJA+WoK7AIA3AACAOgAAgD4AAJA1WgCQOVoAkDxagrsAgDUAAIA5AACAPAAAkDVaAJA5WgCQPFqCuwCANQAAgDkAAIA8AACQNloAkDlaAJA8WoK7AIA2AACAOQAAgDwAAJA5WgCQPFoAkEBagrsAgDkAAIA8AACAQAAAkDdaAJA6WgCQPlqCuwCANwAAgDoAAIA+AACQNVoAkDlaAJA8WoK7AIA1AACAOQAAgDwAAJA1WgCQOVoAkDxagrsAgDUAAIA5AACAPAAAkDlaAJA8WgCQQFqCuwCAOQAAgDwAAIBAAACQNVoAkDlaAJA8WoK7AIA1AACAOQAAgDwAAJAwWgCQNFoAkDdagrsAgDAAAIA0AACANwAAkDVaAJA5WgCQPFqCuwCANQAAgDkAAIA8AACQNVoAkDlaAJA8WoK7AIA1AACAOQAAgDwAAJAyWgCQNVoAkDlagrsAgDIAAIA1AACAOQAAkC1aAJAwWgCQNFqCuwCALQAAgDAAAIA0AM5g/y8A\");\n",
       "            });\n",
       "        }\n",
       "        if (typeof require === 'undefined') {\n",
       "            setTimeout(midiPlayerDiv13265_play, 2000);\n",
       "        } else {\n",
       "            midiPlayerDiv13265_play();\n",
       "        }\n",
       "        </script>"
      ],
      "text/plain": [
       "<IPython.core.display.HTML object>"
      ]
     },
     "metadata": {},
     "output_type": "display_data"
    }
   ],
   "source": [
    "out_score = stream.Score()\n",
    "out_score.insert(0, melody_in)\n",
    "out_score.insert(0, simple_triads)\n",
    "\n",
    "out_score.show('midi')"
   ]
  }
 ],
 "metadata": {
  "kernelspec": {
   "display_name": "algocomp-env",
   "language": "python",
   "name": "python3"
  },
  "language_info": {
   "codemirror_mode": {
    "name": "ipython",
    "version": 3
   },
   "file_extension": ".py",
   "mimetype": "text/x-python",
   "name": "python",
   "nbconvert_exporter": "python",
   "pygments_lexer": "ipython3",
   "version": "3.12.9"
  }
 },
 "nbformat": 4,
 "nbformat_minor": 2
}

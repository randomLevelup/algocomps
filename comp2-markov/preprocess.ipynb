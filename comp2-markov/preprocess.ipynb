{
 "cells": [
  {
   "cell_type": "code",
   "execution_count": null,
   "metadata": {},
   "outputs": [],
   "source": [
    "from music21 import *\n",
    "import os\n",
    "import numpy as np\n",
    "import pickle"
   ]
  },
  {
   "cell_type": "code",
   "execution_count": null,
   "metadata": {},
   "outputs": [],
   "source": [
    "def load_score(filepath):\n",
    "    return converter.parse(filepath)\n",
    "\n",
    "def discretize_to_16th(score):\n",
    "    processed = []\n",
    "    melody_part = score.parts[0]\n",
    "    \n",
    "    # Filter out chord symbols and get only notes and rests\n",
    "    notes_and_rests = [elem for elem in melody_part.flatten().notesAndRests \n",
    "                       if isinstance(elem, (note.Note, note.Rest))]\n",
    "    \n",
    "    for element in notes_and_rests:\n",
    "        duration_16ths = int(element.duration.quarterLength * 4)\n",
    "        \n",
    "        if isinstance(element, note.Note):\n",
    "            # For notes in chords, take only the highest note\n",
    "            if hasattr(element, 'pitch'):\n",
    "                processed.extend([element.pitch.midi] * duration_16ths)\n",
    "        elif isinstance(element, note.Rest):\n",
    "            processed.extend([-1] * duration_16ths)\n",
    "    return processed"
   ]
  },
  {
   "cell_type": "code",
   "execution_count": null,
   "metadata": {},
   "outputs": [],
   "source": [
    "# Process all files in data directory\n",
    "data_dir = './data'\n",
    "processed_sequences = []\n",
    "\n",
    "for filename in os.listdir(data_dir):\n",
    "    if filename.endswith('.xml') or filename.endswith('.musicxml'):\n",
    "        filepath = os.path.join(data_dir, filename)\n",
    "        score = load_score(filepath)\n",
    "        sequence = discretize_to_16th(score)\n",
    "        processed_sequences.append(sequence)\n",
    "        print(f'Processed {filename}: {len(sequence)} events')\n",
    "\n",
    "with open('processed_sequences.pkl', 'wb') as f:\n",
    "    pickle.dump(processed_sequences, f)"
   ]
  },
  {
   "cell_type": "code",
   "execution_count": null,
   "metadata": {},
   "outputs": [],
   "source": [
    "def sequence_to_stream(sequence):\n",
    "    \"\"\"Convert a sequence of MIDI numbers (and -1 for rests) back to a music21 stream\"\"\"\n",
    "    output_stream = stream.Stream()\n",
    "    \n",
    "    # Group consecutive identical numbers and count their length\n",
    "    current_val = sequence[0]\n",
    "    current_count = 1\n",
    "    \n",
    "    for next_val in sequence[1:]:\n",
    "        if next_val == current_val:\n",
    "            current_count += 1\n",
    "        else:\n",
    "            # Convert the counted segment to a note/rest\n",
    "            duration = current_count / 4.0  # Convert 16th notes back to quarter notes\n",
    "            \n",
    "            if current_val == -1:\n",
    "                output_stream.append(note.Rest(quarterLength=duration))\n",
    "            else:\n",
    "                output_stream.append(note.Note(current_val, quarterLength=duration))\n",
    "            \n",
    "            # Reset counters\n",
    "            current_val = next_val\n",
    "            current_count = 1\n",
    "    \n",
    "    # Don't forget the last group\n",
    "    duration = current_count / 4.0\n",
    "    if current_val == -1:\n",
    "        output_stream.append(note.Rest(quarterLength=duration))\n",
    "    else:\n",
    "        output_stream.append(note.Note(current_val, quarterLength=duration))\n",
    "    \n",
    "    return output_stream\n",
    "\n",
    "# Test cell to verify the conversion works\n",
    "test_sequence = processed_sequences[0] if processed_sequences else [60, 60, 60, 60, -1, -1, 62, 62]\n",
    "reconstructed = sequence_to_stream(test_sequence)\n",
    "reconstructed.show('midi')  # Play the reconstructed melody"
   ]
  }
 ],
 "metadata": {
  "kernelspec": {
   "display_name": "algocomps-env",
   "language": "python",
   "name": "python3"
  },
  "language_info": {
   "codemirror_mode": {
    "name": "ipython",
    "version": 3
   },
   "file_extension": ".py",
   "mimetype": "text/x-python",
   "name": "python",
   "nbconvert_exporter": "python",
   "pygments_lexer": "ipython3",
   "version": "3.12.3"
  }
 },
 "nbformat": 4,
 "nbformat_minor": 2
}

{
 "cells": [
  {
   "cell_type": "code",
   "execution_count": 5,
   "metadata": {},
   "outputs": [
    {
     "name": "stdout",
     "output_type": "stream",
     "text": [
      "tokens for sample piece:\n",
      "\n",
      "[1999, 1862, 1787, 1974, 1862, 1787, 1912, 1962, 1837, 1912, 1887, 1812, 1737, 1787, 1799, 1687, 1612, 1737, 1787, 1687, 1662, 1633, 1733, 1808, 1912, 1887, 37, 1687, 1683, 1733, 1683, 1874, 1812, 1687, 1762, 1512, 37, 1737, 1937, 1887, 1812, 1837, 1862, 1687, 1737, 1787, 1799, 1662, 1562, 1624, 49, 1899, 1837, 1712, 1824, 37, 1762, 1741, 1991, 1991, 1987, 1912, 1812, 1687, 1787, 1737, 1862, 1812, 1949, 1937, 37, 1874, 1787, 1687, 1749, 1737, 1912, 1924, 1812, 1737, 1799, 37, 1562, 1658, 1683, 1733, 1687, 1562, 1662, 1687, 1512, 1537, 1612, 1537, 1583, 1658, 1733, 1812, 1856, 1806, 1787, 1687, 1737, 1562, 1612, 1637, 1649, 49, 49, 49, 49, 1679, 1679, 1679, 37, 1841, 1816, 1691, 1849, 1812, 1687, 1737, 1762, 1687, 1731, 1681, 1637, 1562, 1504, 1554, 1504, 1387, 1499, 1558, 1658, 1733, 1687, 1562, 1612, 1637, 1649, 49, 49, 1587, 1612, 1812, 1856, 1806, 1787, 1737, 1862, 1737, 49, 37, 1637, 1656, 1706, 1731, 1806, 1956, 1981, 1906, 1931, 1956, 1853, 1878, 1906, 1856, 1806, 1731, 1856, 1806, 1781, 1681, 1581, 1506, 1574, 49, 49, 49, 49, 37, 1662, 1683, 1783, 1858, 1956, 1981, 2006, 2031, 2037, 2006, 1981, 1962, 1912, 1887, 1662, 1737, 1787, 1812, 1856, 1806, 1787, 1687, 1729, 1754, 1729, 1687, 1612, 1687, 1699, 1729, 1779, 1729, 1687, 1637, 1687, 1699, 1699, 49, 37, 1612, 1612, 1681, 1756, 1862, 1812, 1754, 1804, 1754, 1687, 1737, 1687, 37, 1637, 1566, 1516, 1391, 1499, 1554, 1654, 1729, 1779, 1804, 1862, 1737, 1662, 1562, 1887, 1837, 1708, 1633, 1533, 1812, 1762, 49, 49, 37, 1637, 1654, 1704, 1729, 1804, 1904, 1987, 1662, 1681, 1731, 1804, 1829, 1854, 1881, 1856, 1806, 1806, 1731, 1681, 1656, 1431, 1506, 1581, 1556, 1481, 1506, 1781, 1656, 1681, 1749, 49, 37, 1562, 1574, 1574, 1574, 1612, 1562, 1787, 1856, 1781, 1737, 1687, 49, 37, 1787, 1804, 1854, 1804, 1787, 1737, 1687, 1662, 1612, 1587, 1662, 1612, 1587, 1612, 1662, 1687, 1737, 1787, 1562, 1612, 1637, 1649, 49, 49, 37, 1862, 1862, 37, 1987, 1929, 1854, 1804, 1762, 1687, 49, 37, 1562, 1837, 1812, 1754, 1804, 1754, 1687, 1799, 1787, 1854, 1779, 1654, 1612, 1612, 1624, 49, 49, 49, 49, 37, 1637, 1654, 1729, 1779, 1804, 1829, 1856, 1831, 1806, 31, 37, 1637, 1656, 1681, 1779, 1804, 1829, 1856, 1831, 1806, 1781, 1731, 1681, 1656, 1731, 1806, 1881, 1731, 1781, 1804, 1854, 1804, 1781, 1731, 1687, 37, 37, 1674, 1662, 1674, 1731, 1681, 1656, 1606, 1587, 1681, 1581, 1556, 1506, 1481, 1556, 1656, 1681, 1606, 1656, 1574, 49, 49]\n"
     ]
    },
    {
     "data": {
      "text/html": [
       "\n",
       "        <div id=\"midiPlayerDiv719000\"></div>\n",
       "        <link rel=\"stylesheet\" href=\"https://cuthbertLab.github.io/music21j/css/m21.css\">\n",
       "        \n",
       "        <script\n",
       "        src=\"https://cdnjs.cloudflare.com/ajax/libs/require.js/2.3.6/require.min.js\"\n",
       "        ></script>\n",
       "    \n",
       "        <script>\n",
       "        function midiPlayerDiv719000_play() {\n",
       "            const rq = require.config({\n",
       "                paths: {\n",
       "                    'music21': 'https://cuthbertLab.github.io/music21j/releases/music21.debug',\n",
       "                }\n",
       "            });\n",
       "            rq(['music21'], function(music21) {\n",
       "                mp = new music21.miditools.MidiPlayer();\n",
       "                mp.addPlayer(\"#midiPlayerDiv719000\");\n",
       "                mp.base64Load(\"data:audio/midi;base64,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\");\n",
       "            });\n",
       "        }\n",
       "        if (typeof require === 'undefined') {\n",
       "            setTimeout(midiPlayerDiv719000_play, 2000);\n",
       "        } else {\n",
       "            midiPlayerDiv719000_play();\n",
       "        }\n",
       "        </script>"
      ],
      "text/plain": [
       "<IPython.core.display.HTML object>"
      ]
     },
     "metadata": {},
     "output_type": "display_data"
    }
   ],
   "source": [
    "from preprocess import *\n",
    "\n",
    "input_sequences = preprocess_data(\n",
    "    '/mnt/c/Users/jwest/Desktop/algocomps/comp2-markov/data',\n",
    "    variation_amt=1\n",
    ")\n",
    "\n",
    "# flat_input = [item for sublist in input_sequences for item in sublist]\n",
    "# print(flat_input)\n",
    "# input_tokens = make_tokens(flat_input)\n",
    "\n",
    "ttokenlist = make_tokens(input_sequences[10])\n",
    "print(\"tokens for sample piece:\\n\")\n",
    "print(ttokenlist)\n",
    "teventlist = tokens_to_sequence(ttokenlist)\n",
    "tscore = sequence_to_score(teventlist)\n",
    "tscore.show('midi')"
   ]
  }
 ],
 "metadata": {
  "kernelspec": {
   "display_name": "algocomps-env",
   "language": "python",
   "name": "python3"
  },
  "language_info": {
   "codemirror_mode": {
    "name": "ipython",
    "version": 3
   },
   "file_extension": ".py",
   "mimetype": "text/x-python",
   "name": "python",
   "nbconvert_exporter": "python",
   "pygments_lexer": "ipython3",
   "version": "3.12.3"
  }
 },
 "nbformat": 4,
 "nbformat_minor": 2
}
